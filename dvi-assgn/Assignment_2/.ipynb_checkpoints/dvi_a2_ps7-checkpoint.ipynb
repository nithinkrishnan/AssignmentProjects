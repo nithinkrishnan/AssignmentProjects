{
 "cells": [
  {
   "cell_type": "markdown",
   "metadata": {
    "id": "bPWoq_7cVJn5"
   },
   "source": [
    "<img src = \"https://www.bits-pilani.ac.in/Uploads/Campus/BITS_university_logo.gif\">"
   ]
  },
  {
   "cell_type": "markdown",
   "metadata": {
    "id": "TxT4rkIHVJoB"
   },
   "source": [
    "<h1><center>Work Integrated Learning Programmes Division<br>\n",
    "M.Tech (Data Science and Engineering)<br> Data Visualization And Interpretation <br>\n",
    "</center></h1>\n",
    "\n",
    "<h2><center>Assignment 2 – PS7 [Weightage 13%]</center></h2>"
   ]
  },
  {
   "cell_type": "markdown",
   "metadata": {
    "id": "l6wUIYtkVJoP"
   },
   "source": [
    "## Instructions\n",
    "<ol>\n",
    "  <li>Do not change the name of the data file that is shared with the problem statement.</li>\n",
    "  <li>If intermediate data files are created, retain in the present working directory and attach them during submission.</li>\n",
    "  <li>Retain the data file in the same directory as that of this workbook.</li>\n",
    "  <li>Retain the Visualizations that is produced in the file. Don't clear them away.</li>\n",
    "    <li><b><div class=\"alert-warning\">All the visuals should adhere to the visualization principles learnt in the Course and must be presentation ready.Most effective visuals would fetch maximum credits</div></b></li>    \n",
    "    <li><b><div class=\"alert-warning\">Submissions done via means other than CANVAS will strictly be NOT graded.</div></b></li>\n",
    "    \n",
    "\n",
    "\n",
    "  \n",
    "</ol>"
   ]
  },
  {
   "cell_type": "markdown",
   "metadata": {
    "id": "4stimoo-VJoQ"
   },
   "source": [
    "<style>\n",
    "table {\n",
    "  font-family: arial, sans-serif;\n",
    "  border-collapse: collapse;\n",
    "  width: 100%;\n",
    "}\n",
    "\n",
    "td, th {\n",
    "  border: 1px solid #dddddd;\n",
    "  text-align: left;\n",
    "  padding: 8px;\n",
    "}\n",
    "\n",
    "tr:nth-child(even) {\n",
    "  background-color: #dddddd;\n",
    "}\n",
    "</style>\n",
    "\n",
    "<h2>Group No: 48</h2>\n",
    "\n",
    "<table style=\"float: left;width: 35%;text-align: left; margin-left: 3rem;\">\n",
    "  <tr>\n",
    "    <th style=\"text-align: left;\">Full Name</th>\n",
    "    <th style=\"text-align: left;\">BITS ID</th>\n",
    "  </tr>\n",
    "  <tr>\n",
    "    <td style=\"text-align: left;\">Shehza Fathima</td>\n",
    "    <td style=\"text-align: left;\">2021C104174</td>\n",
    "  </tr>\n",
    "  <tr>\n",
    "    <td style=\"text-align: left;\">Nithin Krishnan</td>\n",
    "    <td style=\"text-align: left;\">2021C104176</td>\n",
    "  </tr>\n",
    "  <tr>\n",
    "    <td style=\"text-align: left;\">Binsu Elizabeth Varghese</td>\n",
    "    <td style=\"text-align: left;\">2021C104187</td>\n",
    "  </tr>\n",
    "</table>"
   ]
  },
  {
   "cell_type": "markdown",
   "metadata": {
    "id": "9fVRSzBzVJoS"
   },
   "source": [
    "<h1>Objective</h1>\n",
    "<h4>Perform EDA on the data set.</h4>\n",
    "\n"
   ]
  },
  {
   "cell_type": "markdown",
   "metadata": {
    "id": "2_1xHDJkVJoT"
   },
   "source": [
    "##  Download and Prep the Data: 1 Mark"
   ]
  },
  {
   "cell_type": "markdown",
   "metadata": {
    "id": "BQoa3m50VJoU"
   },
   "source": [
    "<h4>Import the libraries needed</h4>"
   ]
  },
  {
   "cell_type": "code",
   "execution_count": 2,
   "metadata": {
    "id": "ytuwltS7VJoW"
   },
   "outputs": [],
   "source": [
    "#Importing Libraries\n",
    "import numpy as np\n",
    "import pandas as pd\n",
    "import seaborn as sns\n",
    "from matplotlib import pyplot as plt\n",
    "from scipy.stats import skew\n",
    "from prettytable import PrettyTable\n",
    "import warnings\n",
    "warnings.simplefilter(action=\"ignore\", category=FutureWarning)\n",
    "pd.options.mode.chained_assignment = None"
   ]
  },
  {
   "cell_type": "markdown",
   "metadata": {
    "id": "AZ9vN8R3VJoX"
   },
   "source": [
    "<h4> Load data and store in dataframe </h4>"
   ]
  },
  {
   "cell_type": "code",
   "execution_count": 3,
   "metadata": {
    "id": "uUj8snK1VJoY"
   },
   "outputs": [
    {
     "data": {
      "text/html": [
       "<div>\n",
       "<style scoped>\n",
       "    .dataframe tbody tr th:only-of-type {\n",
       "        vertical-align: middle;\n",
       "    }\n",
       "\n",
       "    .dataframe tbody tr th {\n",
       "        vertical-align: top;\n",
       "    }\n",
       "\n",
       "    .dataframe thead th {\n",
       "        text-align: right;\n",
       "    }\n",
       "</style>\n",
       "<table border=\"1\" class=\"dataframe\">\n",
       "  <thead>\n",
       "    <tr style=\"text-align: right;\">\n",
       "      <th></th>\n",
       "      <th>Invoice ID</th>\n",
       "      <th>Branch</th>\n",
       "      <th>City</th>\n",
       "      <th>Customer type</th>\n",
       "      <th>Gender</th>\n",
       "      <th>Product line</th>\n",
       "      <th>Unit price</th>\n",
       "      <th>Quantity</th>\n",
       "      <th>Total</th>\n",
       "      <th>Date</th>\n",
       "      <th>Time</th>\n",
       "      <th>Payment</th>\n",
       "      <th>costofgoodssold</th>\n",
       "      <th>Rating</th>\n",
       "    </tr>\n",
       "  </thead>\n",
       "  <tbody>\n",
       "    <tr>\n",
       "      <th>0</th>\n",
       "      <td>750-67-8428</td>\n",
       "      <td>A</td>\n",
       "      <td>Yangon</td>\n",
       "      <td>Member</td>\n",
       "      <td>Female</td>\n",
       "      <td>Health and beauty</td>\n",
       "      <td>74.69</td>\n",
       "      <td>7</td>\n",
       "      <td>548.9715</td>\n",
       "      <td>01-05-2019</td>\n",
       "      <td>13:08</td>\n",
       "      <td>Ewallet</td>\n",
       "      <td>522.83</td>\n",
       "      <td>9.1</td>\n",
       "    </tr>\n",
       "    <tr>\n",
       "      <th>1</th>\n",
       "      <td>226-31-3081</td>\n",
       "      <td>C</td>\n",
       "      <td>Naypyitaw</td>\n",
       "      <td>Normal</td>\n",
       "      <td>Female</td>\n",
       "      <td>Electronic accessories</td>\n",
       "      <td>15.28</td>\n",
       "      <td>5</td>\n",
       "      <td>80.2200</td>\n",
       "      <td>03-08-2019</td>\n",
       "      <td>10:29</td>\n",
       "      <td>Cash</td>\n",
       "      <td>76.40</td>\n",
       "      <td>9.6</td>\n",
       "    </tr>\n",
       "  </tbody>\n",
       "</table>\n",
       "</div>"
      ],
      "text/plain": [
       "    Invoice ID Branch       City Customer type  Gender  \\\n",
       "0  750-67-8428      A     Yangon        Member  Female   \n",
       "1  226-31-3081      C  Naypyitaw        Normal  Female   \n",
       "\n",
       "             Product line  Unit price  Quantity     Total        Date   Time  \\\n",
       "0       Health and beauty       74.69         7  548.9715  01-05-2019  13:08   \n",
       "1  Electronic accessories       15.28         5   80.2200  03-08-2019  10:29   \n",
       "\n",
       "   Payment  costofgoodssold  Rating  \n",
       "0  Ewallet           522.83     9.1  \n",
       "1     Cash            76.40     9.6  "
      ]
     },
     "execution_count": 3,
     "metadata": {},
     "output_type": "execute_result"
    }
   ],
   "source": [
    "#Loading Data from the csv file into dataframe df\n",
    "df = pd.read_csv('dvi-a2-ps7-data.csv')\n",
    "df.head(2)"
   ]
  },
  {
   "cell_type": "markdown",
   "metadata": {
    "id": "Gi1XoAKfVJoZ"
   },
   "source": [
    "<h4>Find out  what type of variable you are dealing with. This will help you find the right visualization method for that variable.</p>\n"
   ]
  },
  {
   "cell_type": "code",
   "execution_count": 4,
   "metadata": {
    "id": "gCBGEsDSVJoa"
   },
   "outputs": [
    {
     "name": "stdout",
     "output_type": "stream",
     "text": [
      "+-----------------+-----------+---------------+\n",
      "|  Attribute Name | Data Type | Unique Values |\n",
      "+-----------------+-----------+---------------+\n",
      "|    Invoice ID   |   object  |      1000     |\n",
      "|      Branch     |   object  |       3       |\n",
      "|       City      |   object  |       3       |\n",
      "|  Customer type  |   object  |       2       |\n",
      "|      Gender     |   object  |       2       |\n",
      "|   Product line  |   object  |       6       |\n",
      "|    Unit price   |  float64  |      943      |\n",
      "|     Quantity    |   int64   |       10      |\n",
      "|      Total      |  float64  |      990      |\n",
      "|       Date      |   object  |       89      |\n",
      "|       Time      |   object  |      506      |\n",
      "|     Payment     |   object  |       3       |\n",
      "| costofgoodssold |  float64  |      990      |\n",
      "|      Rating     |  float64  |       61      |\n",
      "+-----------------+-----------+---------------+\n"
     ]
    }
   ],
   "source": [
    "# Attribute and its datatype\n",
    "ptbl = PrettyTable()\n",
    "\n",
    "for attribute in df.columns:    \n",
    "    ptbl.field_names = [\"Attribute Name\", \"Data Type\", \"Unique Values\"]\n",
    "    ptbl.add_row([attribute, df[attribute].dtype, df[attribute].nunique()])\n",
    "    \n",
    "print(ptbl)"
   ]
  },
  {
   "cell_type": "markdown",
   "metadata": {
    "id": "qpqsVgpCVJoa"
   },
   "source": [
    "#### Display the summary statistics of the data.In a markdown cell below,explain your findings"
   ]
  },
  {
   "cell_type": "code",
   "execution_count": 26,
   "metadata": {
    "id": "UNf_tCw7VJob"
   },
   "outputs": [
    {
     "data": {
      "text/html": [
       "<div>\n",
       "<style scoped>\n",
       "    .dataframe tbody tr th:only-of-type {\n",
       "        vertical-align: middle;\n",
       "    }\n",
       "\n",
       "    .dataframe tbody tr th {\n",
       "        vertical-align: top;\n",
       "    }\n",
       "\n",
       "    .dataframe thead th {\n",
       "        text-align: right;\n",
       "    }\n",
       "</style>\n",
       "<table border=\"1\" class=\"dataframe\">\n",
       "  <thead>\n",
       "    <tr style=\"text-align: right;\">\n",
       "      <th></th>\n",
       "      <th>Invoice ID</th>\n",
       "      <th>Branch</th>\n",
       "      <th>City</th>\n",
       "      <th>Customer type</th>\n",
       "      <th>Gender</th>\n",
       "      <th>Product line</th>\n",
       "      <th>Unit price</th>\n",
       "      <th>Quantity</th>\n",
       "      <th>Total</th>\n",
       "      <th>Date</th>\n",
       "      <th>Time</th>\n",
       "      <th>Payment</th>\n",
       "      <th>costofgoodssold</th>\n",
       "      <th>Rating</th>\n",
       "      <th>hour</th>\n",
       "    </tr>\n",
       "  </thead>\n",
       "  <tbody>\n",
       "    <tr>\n",
       "      <th>count</th>\n",
       "      <td>1000</td>\n",
       "      <td>1000</td>\n",
       "      <td>1000</td>\n",
       "      <td>1000</td>\n",
       "      <td>1000</td>\n",
       "      <td>1000</td>\n",
       "      <td>1000.000000</td>\n",
       "      <td>1000.000000</td>\n",
       "      <td>1000.000000</td>\n",
       "      <td>1000</td>\n",
       "      <td>1000</td>\n",
       "      <td>1000</td>\n",
       "      <td>1000.00000</td>\n",
       "      <td>1000.00000</td>\n",
       "      <td>1000.000000</td>\n",
       "    </tr>\n",
       "    <tr>\n",
       "      <th>unique</th>\n",
       "      <td>1000</td>\n",
       "      <td>3</td>\n",
       "      <td>3</td>\n",
       "      <td>2</td>\n",
       "      <td>2</td>\n",
       "      <td>6</td>\n",
       "      <td>NaN</td>\n",
       "      <td>NaN</td>\n",
       "      <td>NaN</td>\n",
       "      <td>89</td>\n",
       "      <td>506</td>\n",
       "      <td>3</td>\n",
       "      <td>NaN</td>\n",
       "      <td>NaN</td>\n",
       "      <td>NaN</td>\n",
       "    </tr>\n",
       "    <tr>\n",
       "      <th>top</th>\n",
       "      <td>308-47-4913</td>\n",
       "      <td>A</td>\n",
       "      <td>Yangon</td>\n",
       "      <td>Member</td>\n",
       "      <td>Female</td>\n",
       "      <td>Fashion accessories</td>\n",
       "      <td>NaN</td>\n",
       "      <td>NaN</td>\n",
       "      <td>NaN</td>\n",
       "      <td>02-07-2019</td>\n",
       "      <td>14:42</td>\n",
       "      <td>Ewallet</td>\n",
       "      <td>NaN</td>\n",
       "      <td>NaN</td>\n",
       "      <td>NaN</td>\n",
       "    </tr>\n",
       "    <tr>\n",
       "      <th>freq</th>\n",
       "      <td>1</td>\n",
       "      <td>340</td>\n",
       "      <td>340</td>\n",
       "      <td>501</td>\n",
       "      <td>501</td>\n",
       "      <td>178</td>\n",
       "      <td>NaN</td>\n",
       "      <td>NaN</td>\n",
       "      <td>NaN</td>\n",
       "      <td>20</td>\n",
       "      <td>7</td>\n",
       "      <td>345</td>\n",
       "      <td>NaN</td>\n",
       "      <td>NaN</td>\n",
       "      <td>NaN</td>\n",
       "    </tr>\n",
       "    <tr>\n",
       "      <th>mean</th>\n",
       "      <td>NaN</td>\n",
       "      <td>NaN</td>\n",
       "      <td>NaN</td>\n",
       "      <td>NaN</td>\n",
       "      <td>NaN</td>\n",
       "      <td>NaN</td>\n",
       "      <td>55.672130</td>\n",
       "      <td>5.510000</td>\n",
       "      <td>322.966749</td>\n",
       "      <td>NaN</td>\n",
       "      <td>NaN</td>\n",
       "      <td>NaN</td>\n",
       "      <td>307.58738</td>\n",
       "      <td>6.97270</td>\n",
       "      <td>14.910000</td>\n",
       "    </tr>\n",
       "    <tr>\n",
       "      <th>std</th>\n",
       "      <td>NaN</td>\n",
       "      <td>NaN</td>\n",
       "      <td>NaN</td>\n",
       "      <td>NaN</td>\n",
       "      <td>NaN</td>\n",
       "      <td>NaN</td>\n",
       "      <td>26.494628</td>\n",
       "      <td>2.923431</td>\n",
       "      <td>245.885335</td>\n",
       "      <td>NaN</td>\n",
       "      <td>NaN</td>\n",
       "      <td>NaN</td>\n",
       "      <td>234.17651</td>\n",
       "      <td>1.71858</td>\n",
       "      <td>3.186857</td>\n",
       "    </tr>\n",
       "    <tr>\n",
       "      <th>min</th>\n",
       "      <td>NaN</td>\n",
       "      <td>NaN</td>\n",
       "      <td>NaN</td>\n",
       "      <td>NaN</td>\n",
       "      <td>NaN</td>\n",
       "      <td>NaN</td>\n",
       "      <td>10.080000</td>\n",
       "      <td>1.000000</td>\n",
       "      <td>10.678500</td>\n",
       "      <td>NaN</td>\n",
       "      <td>NaN</td>\n",
       "      <td>NaN</td>\n",
       "      <td>10.17000</td>\n",
       "      <td>4.00000</td>\n",
       "      <td>10.000000</td>\n",
       "    </tr>\n",
       "    <tr>\n",
       "      <th>25%</th>\n",
       "      <td>NaN</td>\n",
       "      <td>NaN</td>\n",
       "      <td>NaN</td>\n",
       "      <td>NaN</td>\n",
       "      <td>NaN</td>\n",
       "      <td>NaN</td>\n",
       "      <td>32.875000</td>\n",
       "      <td>3.000000</td>\n",
       "      <td>124.422375</td>\n",
       "      <td>NaN</td>\n",
       "      <td>NaN</td>\n",
       "      <td>NaN</td>\n",
       "      <td>118.49750</td>\n",
       "      <td>5.50000</td>\n",
       "      <td>12.000000</td>\n",
       "    </tr>\n",
       "    <tr>\n",
       "      <th>50%</th>\n",
       "      <td>NaN</td>\n",
       "      <td>NaN</td>\n",
       "      <td>NaN</td>\n",
       "      <td>NaN</td>\n",
       "      <td>NaN</td>\n",
       "      <td>NaN</td>\n",
       "      <td>55.230000</td>\n",
       "      <td>5.000000</td>\n",
       "      <td>253.848000</td>\n",
       "      <td>NaN</td>\n",
       "      <td>NaN</td>\n",
       "      <td>NaN</td>\n",
       "      <td>241.76000</td>\n",
       "      <td>7.00000</td>\n",
       "      <td>15.000000</td>\n",
       "    </tr>\n",
       "    <tr>\n",
       "      <th>75%</th>\n",
       "      <td>NaN</td>\n",
       "      <td>NaN</td>\n",
       "      <td>NaN</td>\n",
       "      <td>NaN</td>\n",
       "      <td>NaN</td>\n",
       "      <td>NaN</td>\n",
       "      <td>77.935000</td>\n",
       "      <td>8.000000</td>\n",
       "      <td>471.350250</td>\n",
       "      <td>NaN</td>\n",
       "      <td>NaN</td>\n",
       "      <td>NaN</td>\n",
       "      <td>448.90500</td>\n",
       "      <td>8.50000</td>\n",
       "      <td>18.000000</td>\n",
       "    </tr>\n",
       "    <tr>\n",
       "      <th>max</th>\n",
       "      <td>NaN</td>\n",
       "      <td>NaN</td>\n",
       "      <td>NaN</td>\n",
       "      <td>NaN</td>\n",
       "      <td>NaN</td>\n",
       "      <td>NaN</td>\n",
       "      <td>99.960000</td>\n",
       "      <td>10.000000</td>\n",
       "      <td>1042.650000</td>\n",
       "      <td>NaN</td>\n",
       "      <td>NaN</td>\n",
       "      <td>NaN</td>\n",
       "      <td>993.00000</td>\n",
       "      <td>10.00000</td>\n",
       "      <td>20.000000</td>\n",
       "    </tr>\n",
       "  </tbody>\n",
       "</table>\n",
       "</div>"
      ],
      "text/plain": [
       "         Invoice ID Branch    City Customer type  Gender         Product line  \\\n",
       "count          1000   1000    1000          1000    1000                 1000   \n",
       "unique         1000      3       3             2       2                    6   \n",
       "top     308-47-4913      A  Yangon        Member  Female  Fashion accessories   \n",
       "freq              1    340     340           501     501                  178   \n",
       "mean            NaN    NaN     NaN           NaN     NaN                  NaN   \n",
       "std             NaN    NaN     NaN           NaN     NaN                  NaN   \n",
       "min             NaN    NaN     NaN           NaN     NaN                  NaN   \n",
       "25%             NaN    NaN     NaN           NaN     NaN                  NaN   \n",
       "50%             NaN    NaN     NaN           NaN     NaN                  NaN   \n",
       "75%             NaN    NaN     NaN           NaN     NaN                  NaN   \n",
       "max             NaN    NaN     NaN           NaN     NaN                  NaN   \n",
       "\n",
       "         Unit price     Quantity        Total        Date   Time  Payment  \\\n",
       "count   1000.000000  1000.000000  1000.000000        1000   1000     1000   \n",
       "unique          NaN          NaN          NaN          89    506        3   \n",
       "top             NaN          NaN          NaN  02-07-2019  14:42  Ewallet   \n",
       "freq            NaN          NaN          NaN          20      7      345   \n",
       "mean      55.672130     5.510000   322.966749         NaN    NaN      NaN   \n",
       "std       26.494628     2.923431   245.885335         NaN    NaN      NaN   \n",
       "min       10.080000     1.000000    10.678500         NaN    NaN      NaN   \n",
       "25%       32.875000     3.000000   124.422375         NaN    NaN      NaN   \n",
       "50%       55.230000     5.000000   253.848000         NaN    NaN      NaN   \n",
       "75%       77.935000     8.000000   471.350250         NaN    NaN      NaN   \n",
       "max       99.960000    10.000000  1042.650000         NaN    NaN      NaN   \n",
       "\n",
       "        costofgoodssold      Rating         hour  \n",
       "count        1000.00000  1000.00000  1000.000000  \n",
       "unique              NaN         NaN          NaN  \n",
       "top                 NaN         NaN          NaN  \n",
       "freq                NaN         NaN          NaN  \n",
       "mean          307.58738     6.97270    14.910000  \n",
       "std           234.17651     1.71858     3.186857  \n",
       "min            10.17000     4.00000    10.000000  \n",
       "25%           118.49750     5.50000    12.000000  \n",
       "50%           241.76000     7.00000    15.000000  \n",
       "75%           448.90500     8.50000    18.000000  \n",
       "max           993.00000    10.00000    20.000000  "
      ]
     },
     "execution_count": 26,
     "metadata": {},
     "output_type": "execute_result"
    }
   ],
   "source": [
    "# (include = 'all'): Shows the statisitics of categorical as well as numerical variables\n",
    "df.describe(include = 'all')"
   ]
  },
  {
   "cell_type": "markdown",
   "metadata": {
    "id": "axzewlqBVJob"
   },
   "source": [
    "#### Identify whether male/female spends more on 'Health and beauty'.Write the code below"
   ]
  },
  {
   "cell_type": "code",
   "execution_count": 6,
   "metadata": {
    "id": "LiORijHGVJob"
   },
   "outputs": [
    {
     "data": {
      "text/html": [
       "<div>\n",
       "<style scoped>\n",
       "    .dataframe tbody tr th:only-of-type {\n",
       "        vertical-align: middle;\n",
       "    }\n",
       "\n",
       "    .dataframe tbody tr th {\n",
       "        vertical-align: top;\n",
       "    }\n",
       "\n",
       "    .dataframe thead th {\n",
       "        text-align: right;\n",
       "    }\n",
       "</style>\n",
       "<table border=\"1\" class=\"dataframe\">\n",
       "  <thead>\n",
       "    <tr style=\"text-align: right;\">\n",
       "      <th></th>\n",
       "      <th>Gender</th>\n",
       "      <th>Total</th>\n",
       "    </tr>\n",
       "  </thead>\n",
       "  <tbody>\n",
       "    <tr>\n",
       "      <th>1</th>\n",
       "      <td>Male</td>\n",
       "      <td>30632.75</td>\n",
       "    </tr>\n",
       "    <tr>\n",
       "      <th>0</th>\n",
       "      <td>Female</td>\n",
       "      <td>18560.99</td>\n",
       "    </tr>\n",
       "  </tbody>\n",
       "</table>\n",
       "</div>"
      ],
      "text/plain": [
       "   Gender     Total\n",
       "1    Male  30632.75\n",
       "0  Female  18560.99"
      ]
     },
     "execution_count": 6,
     "metadata": {},
     "output_type": "execute_result"
    }
   ],
   "source": [
    "# Filtering out only the \"Health and beauty\" Product line values from the dataset\n",
    "dfc = df.loc[df['Product line'] == 'Health and beauty']\n",
    "\n",
    "# Grouping by Gender and calculating \"Spends\" by summing the \"Total\" field\n",
    "dfCat = dfc[['Gender','Total']].groupby(['Gender'],as_index=False).sum().round(2)\n",
    "\n",
    "# Sorting the results in decreasing order\n",
    "dfCat.sort_values(by='Total', ascending=False)"
   ]
  },
  {
   "cell_type": "markdown",
   "metadata": {
    "id": "92Fbkr8oVJoc"
   },
   "source": [
    "# Visualisation Questions - 2 X 5 = 10 Marks"
   ]
  },
  {
   "cell_type": "markdown",
   "metadata": {
    "id": "l-u-4dwdVJoc"
   },
   "source": [
    "### Question 1\n",
    "<h4>Check the distribution of the Price variable .<br><br>\n",
    "    Write the python code in the below cell to create appropriate visual to perform the above task.\n",
    "<h4>Answer in markdown cells below the visual <br><br>\n",
    "    1.Summarise your findings from the visual..<br>\n",
    "    2.The reason for selecting the chart type you did <br>\n",
    "    3.Mention the pre-attentive attributes used.(atleast 2)<br>\n",
    "    4.Mention the gestalt principles used.(atleast 2)<br>\n",
    "   "
   ]
  },
  {
   "cell_type": "code",
   "execution_count": 123,
   "metadata": {
    "id": "qAbbLqgQVJoc"
   },
   "outputs": [
    {
     "data": {
      "text/plain": [
       "Text(0, 0.5, 'Count')"
      ]
     },
     "execution_count": 123,
     "metadata": {},
     "output_type": "execute_result"
    },
    {
     "data": {
      "image/png": "[encoded data removed]",
      "text/plain": [
       "<Figure size 504x432 with 1 Axes>"
      ]
     },
     "metadata": {
      "needs_background": "dark"
     },
     "output_type": "display_data"
    },
    {
     "data": {
      "text/plain": [
       "<Figure size 72x288 with 0 Axes>"
      ]
     },
     "metadata": {},
     "output_type": "display_data"
    }
   ],
   "source": [
    "# Defining color schemes\n",
    "clrScheme1Highlight = '#ca472f'\n",
    "clrScheme1Muted = '#fccdc6'\n",
    "clrScheme1MildMuted = '#e7a498'\n",
    "\n",
    "# Distribution of Unit Price (continuos) varaible\n",
    "fig, ax = plt.subplots(figsize=(7, 6))\n",
    "ax1 = sns.histplot(data=df['Unit price'], bins=10, kde=True, ax=ax, color=clrScheme1Muted, linewidth=1, edgecolor='white')\n",
    "ax1.lines[0].set_color(clrScheme1Highlight)\n",
    "\n",
    "# Setting the title for the graph\n",
    "plt.title(\"Price Variable Distribution\", size=16)\n",
    "\n",
    "# Setting graph size\n",
    "plt.figure(figsize=(1,4))\n",
    "\n",
    "# GRAPH CURATION\n",
    "# ---- 1) Removing unneccesary chart Borders ----\n",
    "sns.despine(right=True, top=True, ax=ax)\n",
    "\n",
    "# ---- 3) Removing unneccesary tick marks ----\n",
    "ax1.tick_params(left=False, bottom=False)\n",
    "\n",
    "# ---- 4) Muting x,y values ----\n",
    "ax1.tick_params(axis='x', colors=clrScheme1MildMuted)\n",
    "ax1.tick_params(axis='y', colors=clrScheme1MildMuted)\n",
    "\n",
    "# ---- 5) Muting x,y axes ----\n",
    "ax1.spines['left'].set_color(clrScheme1MildMuted)\n",
    "ax1.spines['bottom'].set_color(clrScheme1MildMuted)\n",
    "\n",
    "# ---- 6) Muting x,y axis labels ----\n",
    "ax.xaxis.label.set_color(clrScheme1MildMuted)\n",
    "ax.yaxis.label.set_color(clrScheme1MildMuted)\n",
    "\n",
    "# ---- 6) Changing x,y axis labels and size ----\n",
    "ax.set_xlabel(\"Unit Price\",fontsize=14)\n",
    "ax.set_ylabel(\"Count\",fontsize=14)\n"
   ]
  },
  {
   "cell_type": "markdown",
   "metadata": {
    "id": "j5A0UfH_VJod"
   },
   "source": [
    "### Question 2\n",
    "<h4>What does the distribution of customer rating looks like?Draw the mean,25th and 75th percentile on the plot.<br><br>\n",
    "    Write the python code in the below cell to create the appropriate visual to perform the above task .\n",
    "<h4>Answer in markdown cells below the visual <br><br>\n",
    "    1.Summarise your findings from the visual.<br>\n",
    "    2.The reason for selecting the chart type you did <br>\n",
    "    3.Mention the pre-attentive attributes used.(atleast 2)<br>\n",
    "    4.Mention the gestalt principles used.(atleast 2)<br>  \n",
    "   "
   ]
  },
  {
   "cell_type": "code",
   "execution_count": 10,
   "metadata": {
    "id": "rmnKt-t9VJod"
   },
   "outputs": [
    {
     "data": {
      "image/png": "[encoded data removed]",
      "text/plain": [
       "<Figure size 432x288 with 1 Axes>"
      ]
     },
     "metadata": {
      "needs_background": "light"
     },
     "output_type": "display_data"
    }
   ],
   "source": [
    "# Box plot\n",
    " \n",
    "# Creating plot\n",
    "# plt.boxplot(df['Rating'], vert=False)\n",
    "\n",
    "ax = sns.boxplot(x=df['Rating'])\n",
    "\n",
    "# Highlight 25%, 50% 75%\n",
    "# Annotate values for these\n",
    "# Remove Borders\n",
    "# Remove BG\n",
    "# Annote with mute color the whiskers\n"
   ]
  },
  {
   "cell_type": "markdown",
   "metadata": {
    "id": "__-le91tVJod"
   },
   "source": [
    "### Question 3\n",
    "<h4>For each payment method,compare the product lines.Does any stand out?.<br><br>\n",
    "    Write the python code in the below cell to create appropriate visual to perform the above task.\n",
    "<h4>Answer in markdown cells below the visual <br><br>\n",
    "    1.Summarise your findings from the visual.<br>\n",
    "    2.The reason for selecting the chart type you did <br>\n",
    "    3.Mention the pre-attentive attributes used.(atleast 2)<br>\n",
    "    4.Mention the gestalt principles used.(atleast 2)<br>\n",
    "    "
   ]
  },
  {
   "cell_type": "code",
   "execution_count": 52,
   "metadata": {},
   "outputs": [
    {
     "data": {
      "image/png": "[encoded data removed]",
      "text/plain": [
       "<Figure size 866.5x360 with 1 Axes>"
      ]
     },
     "metadata": {
      "needs_background": "light"
     },
     "output_type": "display_data"
    }
   ],
   "source": [
    "# Original\n",
    "dfCat = df[['Payment','Product line','Invoice ID']].groupby(['Payment','Product line'],as_index=False).count()\n",
    "sns.catplot(data=dfCat, y='Invoice ID', x='Payment', kind='bar', hue='Product line', height=5, aspect=2, palette=\"Set3\")\n",
    "plt.show()"
   ]
  },
  {
   "cell_type": "markdown",
   "metadata": {
    "id": "5zAUjlKmVJoe"
   },
   "source": [
    "### Question 4\n",
    "<h4>Identify,which is the most appropriate time(hour) to give online disounts?<br><br>\n",
    "    Write the python code in the below cell to create the appropriate visual(single visual) to perform the above task .(Prep the data as necessary)\n",
    "<h4>Answer in markdown cells below the visual <br><br>\n",
    "    1.Summarise your findings from the visual.<br>\n",
    "    2.The reason for selecting the chart type you did <br>\n",
    "    3.Mention the pre-attentive attributes used.(atleast 2)<br>\n",
    "    4.Mention the gestalt principles used.(atleast 2)<br>\n",
    "    "
   ]
  },
  {
   "cell_type": "code",
   "execution_count": 13,
   "metadata": {},
   "outputs": [
    {
     "ename": "TypeError",
     "evalue": "Only valid with DatetimeIndex, TimedeltaIndex or PeriodIndex, but got an instance of 'Index'",
     "output_type": "error",
     "traceback": [
      "\u001b[1;31m---------------------------------------------------------------------------\u001b[0m",
      "\u001b[1;31mTypeError\u001b[0m                                 Traceback (most recent call last)",
      "\u001b[1;32m<ipython-input-13-c90bd6984a5f>\u001b[0m in \u001b[0;36m<module>\u001b[1;34m\u001b[0m\n\u001b[0;32m      5\u001b[0m \u001b[0mplt\u001b[0m\u001b[1;33m.\u001b[0m\u001b[0mrcParams\u001b[0m\u001b[1;33m[\u001b[0m\u001b[1;34m\"figure.figsize\"\u001b[0m\u001b[1;33m]\u001b[0m \u001b[1;33m=\u001b[0m \u001b[1;33m[\u001b[0m\u001b[1;36m14.00\u001b[0m\u001b[1;33m,\u001b[0m \u001b[1;36m4.0\u001b[0m\u001b[1;33m]\u001b[0m\u001b[1;33m\u001b[0m\u001b[1;33m\u001b[0m\u001b[0m\n\u001b[0;32m      6\u001b[0m \u001b[0mdf\u001b[0m\u001b[1;33m[\u001b[0m\u001b[1;34m'hour'\u001b[0m\u001b[1;33m]\u001b[0m \u001b[1;33m=\u001b[0m \u001b[0mpd\u001b[0m\u001b[1;33m.\u001b[0m\u001b[0mto_datetime\u001b[0m\u001b[1;33m(\u001b[0m\u001b[0mdf\u001b[0m\u001b[1;33m[\u001b[0m\u001b[1;34m'Time'\u001b[0m\u001b[1;33m]\u001b[0m\u001b[1;33m,\u001b[0m \u001b[0mformat\u001b[0m\u001b[1;33m=\u001b[0m\u001b[1;34m'%H:%M'\u001b[0m\u001b[1;33m)\u001b[0m\u001b[1;33m.\u001b[0m\u001b[0mdt\u001b[0m\u001b[1;33m.\u001b[0m\u001b[0mhour\u001b[0m\u001b[1;33m\u001b[0m\u001b[1;33m\u001b[0m\u001b[0m\n\u001b[1;32m----> 7\u001b[1;33m \u001b[0manswers\u001b[0m \u001b[1;33m=\u001b[0m \u001b[0mdf\u001b[0m\u001b[1;33m.\u001b[0m\u001b[0mgroupby\u001b[0m\u001b[1;33m(\u001b[0m\u001b[0mpd\u001b[0m\u001b[1;33m.\u001b[0m\u001b[0mGrouper\u001b[0m\u001b[1;33m(\u001b[0m\u001b[0mkey\u001b[0m\u001b[1;33m=\u001b[0m\u001b[1;34m'Time'\u001b[0m\u001b[1;33m,\u001b[0m\u001b[0mfreq\u001b[0m\u001b[1;33m=\u001b[0m\u001b[1;34m'H'\u001b[0m\u001b[1;33m)\u001b[0m\u001b[1;33m)\u001b[0m\u001b[1;33m.\u001b[0m\u001b[0mmean\u001b[0m\u001b[1;33m(\u001b[0m\u001b[1;33m)\u001b[0m\u001b[1;33m\u001b[0m\u001b[1;33m\u001b[0m\u001b[0m\n\u001b[0m\u001b[0;32m      8\u001b[0m \u001b[0mdates\u001b[0m \u001b[1;33m=\u001b[0m \u001b[0manswers\u001b[0m\u001b[1;33m.\u001b[0m\u001b[0mindex\u001b[0m\u001b[1;33m.\u001b[0m\u001b[0mhour\u001b[0m\u001b[1;33m\u001b[0m\u001b[1;33m\u001b[0m\u001b[0m\n\u001b[0;32m      9\u001b[0m \u001b[0msums\u001b[0m \u001b[1;33m=\u001b[0m \u001b[0manswers\u001b[0m\u001b[1;33m[\u001b[0m\u001b[1;34m'Total'\u001b[0m\u001b[1;33m]\u001b[0m\u001b[1;33m\u001b[0m\u001b[1;33m\u001b[0m\u001b[0m\n",
      "\u001b[1;32m~\\Anaconda3\\lib\\site-packages\\pandas\\core\\frame.py\u001b[0m in \u001b[0;36mgroupby\u001b[1;34m(self, by, axis, level, as_index, sort, group_keys, squeeze, observed)\u001b[0m\n\u001b[0;32m   5799\u001b[0m         \u001b[0maxis\u001b[0m \u001b[1;33m=\u001b[0m \u001b[0mself\u001b[0m\u001b[1;33m.\u001b[0m\u001b[0m_get_axis_number\u001b[0m\u001b[1;33m(\u001b[0m\u001b[0maxis\u001b[0m\u001b[1;33m)\u001b[0m\u001b[1;33m\u001b[0m\u001b[1;33m\u001b[0m\u001b[0m\n\u001b[0;32m   5800\u001b[0m \u001b[1;33m\u001b[0m\u001b[0m\n\u001b[1;32m-> 5801\u001b[1;33m         return groupby_generic.DataFrameGroupBy(\n\u001b[0m\u001b[0;32m   5802\u001b[0m             \u001b[0mobj\u001b[0m\u001b[1;33m=\u001b[0m\u001b[0mself\u001b[0m\u001b[1;33m,\u001b[0m\u001b[1;33m\u001b[0m\u001b[1;33m\u001b[0m\u001b[0m\n\u001b[0;32m   5803\u001b[0m             \u001b[0mkeys\u001b[0m\u001b[1;33m=\u001b[0m\u001b[0mby\u001b[0m\u001b[1;33m,\u001b[0m\u001b[1;33m\u001b[0m\u001b[1;33m\u001b[0m\u001b[0m\n",
      "\u001b[1;32m~\\Anaconda3\\lib\\site-packages\\pandas\\core\\groupby\\groupby.py\u001b[0m in \u001b[0;36m__init__\u001b[1;34m(self, obj, keys, axis, level, grouper, exclusions, selection, as_index, sort, group_keys, squeeze, observed, mutated)\u001b[0m\n\u001b[0;32m    401\u001b[0m             \u001b[1;32mfrom\u001b[0m \u001b[0mpandas\u001b[0m\u001b[1;33m.\u001b[0m\u001b[0mcore\u001b[0m\u001b[1;33m.\u001b[0m\u001b[0mgroupby\u001b[0m\u001b[1;33m.\u001b[0m\u001b[0mgrouper\u001b[0m \u001b[1;32mimport\u001b[0m \u001b[0mget_grouper\u001b[0m\u001b[1;33m\u001b[0m\u001b[1;33m\u001b[0m\u001b[0m\n\u001b[0;32m    402\u001b[0m \u001b[1;33m\u001b[0m\u001b[0m\n\u001b[1;32m--> 403\u001b[1;33m             grouper, exclusions, obj = get_grouper(\n\u001b[0m\u001b[0;32m    404\u001b[0m                 \u001b[0mobj\u001b[0m\u001b[1;33m,\u001b[0m\u001b[1;33m\u001b[0m\u001b[1;33m\u001b[0m\u001b[0m\n\u001b[0;32m    405\u001b[0m                 \u001b[0mkeys\u001b[0m\u001b[1;33m,\u001b[0m\u001b[1;33m\u001b[0m\u001b[1;33m\u001b[0m\u001b[0m\n",
      "\u001b[1;32m~\\Anaconda3\\lib\\site-packages\\pandas\\core\\groupby\\grouper.py\u001b[0m in \u001b[0;36mget_grouper\u001b[1;34m(obj, key, axis, level, sort, observed, mutated, validate)\u001b[0m\n\u001b[0;32m    507\u001b[0m     \u001b[1;31m# a passed-in Grouper, directly convert\u001b[0m\u001b[1;33m\u001b[0m\u001b[1;33m\u001b[0m\u001b[1;33m\u001b[0m\u001b[0m\n\u001b[0;32m    508\u001b[0m     \u001b[1;32mif\u001b[0m \u001b[0misinstance\u001b[0m\u001b[1;33m(\u001b[0m\u001b[0mkey\u001b[0m\u001b[1;33m,\u001b[0m \u001b[0mGrouper\u001b[0m\u001b[1;33m)\u001b[0m\u001b[1;33m:\u001b[0m\u001b[1;33m\u001b[0m\u001b[1;33m\u001b[0m\u001b[0m\n\u001b[1;32m--> 509\u001b[1;33m         \u001b[0mbinner\u001b[0m\u001b[1;33m,\u001b[0m \u001b[0mgrouper\u001b[0m\u001b[1;33m,\u001b[0m \u001b[0mobj\u001b[0m \u001b[1;33m=\u001b[0m \u001b[0mkey\u001b[0m\u001b[1;33m.\u001b[0m\u001b[0m_get_grouper\u001b[0m\u001b[1;33m(\u001b[0m\u001b[0mobj\u001b[0m\u001b[1;33m,\u001b[0m \u001b[0mvalidate\u001b[0m\u001b[1;33m=\u001b[0m\u001b[1;32mFalse\u001b[0m\u001b[1;33m)\u001b[0m\u001b[1;33m\u001b[0m\u001b[1;33m\u001b[0m\u001b[0m\n\u001b[0m\u001b[0;32m    510\u001b[0m         \u001b[1;32mif\u001b[0m \u001b[0mkey\u001b[0m\u001b[1;33m.\u001b[0m\u001b[0mkey\u001b[0m \u001b[1;32mis\u001b[0m \u001b[1;32mNone\u001b[0m\u001b[1;33m:\u001b[0m\u001b[1;33m\u001b[0m\u001b[1;33m\u001b[0m\u001b[0m\n\u001b[0;32m    511\u001b[0m             \u001b[1;32mreturn\u001b[0m \u001b[0mgrouper\u001b[0m\u001b[1;33m,\u001b[0m \u001b[1;33m[\u001b[0m\u001b[1;33m]\u001b[0m\u001b[1;33m,\u001b[0m \u001b[0mobj\u001b[0m\u001b[1;33m\u001b[0m\u001b[1;33m\u001b[0m\u001b[0m\n",
      "\u001b[1;32m~\\Anaconda3\\lib\\site-packages\\pandas\\core\\resample.py\u001b[0m in \u001b[0;36m_get_grouper\u001b[1;34m(self, obj, validate)\u001b[0m\n\u001b[0;32m   1409\u001b[0m     \u001b[1;32mdef\u001b[0m \u001b[0m_get_grouper\u001b[0m\u001b[1;33m(\u001b[0m\u001b[0mself\u001b[0m\u001b[1;33m,\u001b[0m \u001b[0mobj\u001b[0m\u001b[1;33m,\u001b[0m \u001b[0mvalidate\u001b[0m\u001b[1;33m:\u001b[0m \u001b[0mbool\u001b[0m \u001b[1;33m=\u001b[0m \u001b[1;32mTrue\u001b[0m\u001b[1;33m)\u001b[0m\u001b[1;33m:\u001b[0m\u001b[1;33m\u001b[0m\u001b[1;33m\u001b[0m\u001b[0m\n\u001b[0;32m   1410\u001b[0m         \u001b[1;31m# create the resampler and return our binner\u001b[0m\u001b[1;33m\u001b[0m\u001b[1;33m\u001b[0m\u001b[1;33m\u001b[0m\u001b[0m\n\u001b[1;32m-> 1411\u001b[1;33m         \u001b[0mr\u001b[0m \u001b[1;33m=\u001b[0m \u001b[0mself\u001b[0m\u001b[1;33m.\u001b[0m\u001b[0m_get_resampler\u001b[0m\u001b[1;33m(\u001b[0m\u001b[0mobj\u001b[0m\u001b[1;33m)\u001b[0m\u001b[1;33m\u001b[0m\u001b[1;33m\u001b[0m\u001b[0m\n\u001b[0m\u001b[0;32m   1412\u001b[0m         \u001b[0mr\u001b[0m\u001b[1;33m.\u001b[0m\u001b[0m_set_binner\u001b[0m\u001b[1;33m(\u001b[0m\u001b[1;33m)\u001b[0m\u001b[1;33m\u001b[0m\u001b[1;33m\u001b[0m\u001b[0m\n\u001b[0;32m   1413\u001b[0m         \u001b[1;32mreturn\u001b[0m \u001b[0mr\u001b[0m\u001b[1;33m.\u001b[0m\u001b[0mbinner\u001b[0m\u001b[1;33m,\u001b[0m \u001b[0mr\u001b[0m\u001b[1;33m.\u001b[0m\u001b[0mgrouper\u001b[0m\u001b[1;33m,\u001b[0m \u001b[0mr\u001b[0m\u001b[1;33m.\u001b[0m\u001b[0mobj\u001b[0m\u001b[1;33m\u001b[0m\u001b[1;33m\u001b[0m\u001b[0m\n",
      "\u001b[1;32m~\\Anaconda3\\lib\\site-packages\\pandas\\core\\resample.py\u001b[0m in \u001b[0;36m_get_resampler\u001b[1;34m(self, obj, kind)\u001b[0m\n\u001b[0;32m   1401\u001b[0m             \u001b[1;32mreturn\u001b[0m \u001b[0mTimedeltaIndexResampler\u001b[0m\u001b[1;33m(\u001b[0m\u001b[0mobj\u001b[0m\u001b[1;33m,\u001b[0m \u001b[0mgroupby\u001b[0m\u001b[1;33m=\u001b[0m\u001b[0mself\u001b[0m\u001b[1;33m,\u001b[0m \u001b[0maxis\u001b[0m\u001b[1;33m=\u001b[0m\u001b[0mself\u001b[0m\u001b[1;33m.\u001b[0m\u001b[0maxis\u001b[0m\u001b[1;33m)\u001b[0m\u001b[1;33m\u001b[0m\u001b[1;33m\u001b[0m\u001b[0m\n\u001b[0;32m   1402\u001b[0m \u001b[1;33m\u001b[0m\u001b[0m\n\u001b[1;32m-> 1403\u001b[1;33m         raise TypeError(\n\u001b[0m\u001b[0;32m   1404\u001b[0m             \u001b[1;34m\"Only valid with DatetimeIndex, \"\u001b[0m\u001b[1;33m\u001b[0m\u001b[1;33m\u001b[0m\u001b[0m\n\u001b[0;32m   1405\u001b[0m             \u001b[1;34m\"TimedeltaIndex or PeriodIndex, \"\u001b[0m\u001b[1;33m\u001b[0m\u001b[1;33m\u001b[0m\u001b[0m\n",
      "\u001b[1;31mTypeError\u001b[0m: Only valid with DatetimeIndex, TimedeltaIndex or PeriodIndex, but got an instance of 'Index'"
     ]
    }
   ],
   "source": [
    "df4 = pd.read_csv('dvi-a2-ps7-data.csv', parse_dates=['Time'])\n",
    "\n",
    "# Add date and Time Concat\n",
    "\n",
    "plt.rcParams[\"figure.figsize\"] = [14.00, 4.0]\n",
    "df['hour'] = pd.to_datetime(df['Time'], format='%H:%M').dt.hour\n",
    "answers = df.groupby(pd.Grouper(key='Time',freq='H')).mean()\n",
    "dates = answers.index.hour\n",
    "sums = answers['Total']\n",
    "fig, ax = plt.subplots()\n",
    "plt.plot(dates,sums)\n",
    "plt.gcf().autofmt_xdate()\n",
    "ax.set_xlabel(\"Time\")\n",
    "ax.set_ylabel(\"Total\")\n",
    "ax.set_title(\"Total over Time\")\n",
    "plt.xticks(np.arange(min(dates), max(dates)+1, 1))\n",
    "plt.xticks(rotation=0)\n",
    "plt.show()\n",
    "\n",
    "# Remove box border\n",
    "# High Low Highlight\n",
    "# Add values in markers\n",
    "# Remove y axis\n",
    "# Remove ticks"
   ]
  },
  {
   "cell_type": "markdown",
   "metadata": {
    "id": "iVd8BgfqVJoe"
   },
   "source": [
    "### Question 5"
   ]
  },
  {
   "cell_type": "markdown",
   "metadata": {
    "id": "ZMaWvxZMVJoe"
   },
   "source": [
    "<h4>Which product line is more profitable?<br><br>\n",
    "    Write the python code in the below cell to create the appropriate visual(single visual) to perform the above task .(Prep the data as necessary)\n",
    "<h4>Answer in markdown cells below the visual <br><br>\n",
    "    1.Summarise your findings from the visual.<br>\n",
    "    2.The reason for selecting the chart type you did <br>\n",
    "    3.Mention the pre-attentive attributes used.(atleast 2)<br>\n",
    "    4.Mention the gestalt principles used.(atleast 2)<br>\n",
    "    "
   ]
  },
  {
   "cell_type": "code",
   "execution_count": 27,
   "metadata": {
    "id": "9rYIUwX4VJof"
   },
   "outputs": [
    {
     "data": {
      "text/plain": [
       "[Text(0, 0.5, '')]"
      ]
     },
     "execution_count": 27,
     "metadata": {},
     "output_type": "execute_result"
    },
    {
     "data": {
      "image/png": "[encoded data removed]",
      "text/plain": [
       "<Figure size 720x288 with 1 Axes>"
      ]
     },
     "metadata": {
      "needs_background": "light"
     },
     "output_type": "display_data"
    }
   ],
   "source": [
    "# Creating a copy of the dataframe\n",
    "dfc5 = df.copy()\n",
    "\n",
    "# Calculating profit = Total - costofgoodssold\n",
    "dfc5['Profit'] = dfc5['Total'] - dfc5['costofgoodssold']\n",
    "\n",
    "# Preparing data for display\n",
    "dfc5Cat = dfc5[['Product line','Profit']].groupby(['Product line'],as_index=False).sum().round(2)\n",
    "\n",
    "\n",
    "# Colors for the bar graph\n",
    "highLightColor = '#116ab4'\n",
    "mutedColor = '#9dc9ee'\n",
    "\n",
    "# Sorting the results in decreasing order\n",
    "dfc5Cat = dfc5Cat.sort_values(by='Profit', ascending=False)\n",
    "\n",
    "# Plotting bar graph\n",
    "values = dfc5Cat['Profit']\n",
    "clrs = [mutedColor if (x < max(values)) else highLightColor for x in values ]\n",
    "plt.figure(figsize=(10,4))\n",
    "plots = sns.barplot(x=\"Profit\", y=\"Product line\", data=dfc5Cat, palette=clrs)\n",
    " \n",
    "# Setting the title for the graph\n",
    "plt.title(\"Product Line vs Profit\", size=16)\n",
    "\n",
    "\n",
    "# GRAPH CURATION\n",
    "# ---- 1) Adding annotations to the bars in graph ----\n",
    "\n",
    "i=0;\n",
    "\n",
    "# Iterrating over bars\n",
    "for bar in plots.patches:\n",
    "    \n",
    "    if (i == 0):\n",
    "        # Annotating points in the bars, fixing their position and values\n",
    "        plots.annotate(format(((bar.get_width() / 1000)), '.2f')  + ' K',\n",
    "                       (bar.get_width() * 1.01, i * (bar.get_height() + 0.2)),\n",
    "                       va='center', size=11, xytext=(0, 0), textcoords='offset points',\n",
    "                       weight='bold', color=highLightColor)\n",
    "    else:\n",
    "        # Annotating points in the bars, fixing their position and values\n",
    "        plots.annotate(format(((bar.get_width() / 1000)), '.2f')  + ' K',\n",
    "                       (bar.get_width() * 1.01, i * (bar.get_height() + 0.2)),\n",
    "                       va='center', size=11, xytext=(0, 0), textcoords='offset points',\n",
    "                       weight='normal', color=mutedColor)\n",
    "    \n",
    "    i = i + 1\n",
    "\n",
    "\n",
    "# ---- 2) Removing unneccesary chart Borders ----\n",
    "sns.despine(right=True, left=True, top=True, bottom=True)\n",
    "\n",
    "# ---- 3) Removing unneccesary tick marks ----\n",
    "plots.tick_params(left=False, bottom=False)\n",
    "\n",
    "# ---- 4) Removing x values ----\n",
    "plots.set(xticklabels=[])\n",
    "\n",
    "# ---- 5) Removing x,y labels ----\n",
    "plots.set(xlabel=None)\n",
    "plots.set(ylabel=None)"
   ]
  },
  {
   "cell_type": "markdown",
   "metadata": {
    "id": "V2P_0YufVJof"
   },
   "source": [
    "# Group's choice-2 Marks\n",
    " \n",
    "#### Frame 1 (more) question which will help in the EDA(Exploratory Data Analysis) of the given data set and answer the same using the best visual.\n",
    " \n",
    " 1. Write the question in a markdown cell\n",
    " 2. Below the question,in a coding cell,write the python code to create the visual to answer the question  \n",
    "\n",
    "<h4> Answer in markdown cells below the visual <br><br>\n",
    "   1.Summarise your findings from the visual.<br>\n",
    "   2.The reason for selecting the chart type you did <br>\n",
    "   3.Mention the pre-attentive attributes used.(atleast 2)<br>\n",
    "   4.Mention the gestalt principles used.(atleast 2)<br>\n",
    "  "
   ]
  },
  {
   "cell_type": "code",
   "execution_count": 105,
   "metadata": {
    "id": "WqnGFc1qVJof"
   },
   "outputs": [
    {
     "data": {
      "image/png": "[encoded data removed]",
      "text/plain": [
       "<Figure size 801.5x360 with 1 Axes>"
      ]
     },
     "metadata": {
      "needs_background": "light"
     },
     "output_type": "display_data"
    }
   ],
   "source": [
    "# Branch vs Count of Invoice ID\n",
    "dfc6 = df.copy()\n",
    "dfc6Cat = dfc6[['Branch','Customer type','Invoice ID']].groupby(['Branch','Customer type'],as_index=False).count()\n",
    "colors = [\"crimson\" if i == 'Normal' else \"beige\" for i in dfc6Cat['Customer type']]\n",
    "g = sns.catplot(data=dfc6Cat, y='Invoice ID', x='Branch',kind='bar', hue='Customer type',height=5,aspect=2,palette=colors)"
   ]
  },
  {
   "cell_type": "markdown",
   "metadata": {
    "id": "YUEA7G6OVJof"
   },
   "source": [
    "<h1><center> ************ END OF ASSIGNMENT ****************</center></h1>"
   ]
  }
 ],
 "metadata": {
  "anaconda-cloud": {},
  "colab": {
   "collapsed_sections": [],
   "name": "dvi-a2-ps7.ipynb",
   "provenance": []
  },
  "kernelspec": {
   "display_name": "Python 3",
   "language": "python",
   "name": "python3"
  },
  "language_info": {
   "codemirror_mode": {
    "name": "ipython",
    "version": 3
   },
   "file_extension": ".py",
   "mimetype": "text/x-python",
   "name": "python",
   "nbconvert_exporter": "python",
   "pygments_lexer": "ipython3",
   "version": "3.8.3"
  }
 },
 "nbformat": 4,
 "nbformat_minor": 1
}
