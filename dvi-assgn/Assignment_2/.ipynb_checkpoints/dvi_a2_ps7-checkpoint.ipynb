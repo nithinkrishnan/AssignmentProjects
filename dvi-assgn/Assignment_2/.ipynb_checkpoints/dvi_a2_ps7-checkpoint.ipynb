{
 "cells": [
  {
   "cell_type": "markdown",
   "metadata": {
    "id": "bPWoq_7cVJn5"
   },
   "source": [
    "<img src = \"https://www.bits-pilani.ac.in/Uploads/Campus/BITS_university_logo.gif\">"
   ]
  },
  {
   "cell_type": "markdown",
   "metadata": {
    "id": "TxT4rkIHVJoB"
   },
   "source": [
    "<h1><center>Work Integrated Learning Programmes Division<br>\n",
    "M.Tech (Data Science and Engineering)<br> Data Visualization And Interpretation <br>\n",
    "</center></h1>\n",
    "\n",
    "<h2><center>Assignment 2 – PS7 [Weightage 13%]</center></h2>"
   ]
  },
  {
   "cell_type": "markdown",
   "metadata": {
    "id": "l6wUIYtkVJoP"
   },
   "source": [
    "## Instructions\n",
    "<ol>\n",
    "  <li>Do not change the name of the data file that is shared with the problem statement.</li>\n",
    "  <li>If intermediate data files are created, retain in the present working directory and attach them during submission.</li>\n",
    "  <li>Retain the data file in the same directory as that of this workbook.</li>\n",
    "  <li>Retain the Visualizations that is produced in the file. Don't clear them away.</li>\n",
    "    <li><b><div class=\"alert-warning\">All the visuals should adhere to the visualization principles learnt in the Course and must be presentation ready.Most effective visuals would fetch maximum credits</div></b></li>    \n",
    "    <li><b><div class=\"alert-warning\">Submissions done via means other than CANVAS will strictly be NOT graded.</div></b></li>\n",
    "    \n",
    "\n",
    "\n",
    "  \n",
    "</ol>"
   ]
  },
  {
   "cell_type": "markdown",
   "metadata": {
    "id": "4stimoo-VJoQ"
   },
   "source": [
    "<style>\n",
    "table {\n",
    "  font-family: arial, sans-serif;\n",
    "  border-collapse: collapse;\n",
    "  width: 100%;\n",
    "}\n",
    "\n",
    "td, th {\n",
    "  border: 1px solid #dddddd;\n",
    "  text-align: left;\n",
    "  padding: 8px;\n",
    "}\n",
    "\n",
    "tr:nth-child(even) {\n",
    "  background-color: #dddddd;\n",
    "}\n",
    "</style>\n",
    "\n",
    "<h2>Group No: 48</h2>\n",
    "\n",
    "<table>\n",
    "  <tr>\n",
    "    <th>Full Name</th>\n",
    "    <th>BITS ID</th>\n",
    "  </tr>\n",
    "  <tr>\n",
    "    <td>Shehza Fathima</td>\n",
    "    <td>2021C104174</td>\n",
    "  </tr>\n",
    "  <tr>\n",
    "    <td>Nithin Krishnan</td>\n",
    "    <td>2021C104176</td>\n",
    "  </tr>\n",
    "  <tr>\n",
    "    <td>Binsu Elizabeth Varghese</td>\n",
    "    <td>2021C104187</td>\n",
    "  </tr>\n",
    "</table>"
   ]
  },
  {
   "cell_type": "markdown",
   "metadata": {
    "id": "9fVRSzBzVJoS"
   },
   "source": [
    "<h1>Objective</h1>\n",
    "<h4>Perform EDA on the data set.</h4>\n",
    "\n"
   ]
  },
  {
   "cell_type": "markdown",
   "metadata": {
    "id": "2_1xHDJkVJoT"
   },
   "source": [
    "##  Download and Prep the Data: 1 Mark"
   ]
  },
  {
   "cell_type": "markdown",
   "metadata": {
    "id": "BQoa3m50VJoU"
   },
   "source": [
    "<h4>Import the libraries needed</h4>"
   ]
  },
  {
   "cell_type": "code",
   "execution_count": 1,
   "metadata": {
    "id": "ytuwltS7VJoW"
   },
   "outputs": [],
   "source": [
    "#Importing Libraries\n",
    "import numpy as np\n",
    "import pandas as pd\n",
    "import seaborn as sns\n",
    "from matplotlib import pyplot as plt\n",
    "from scipy.stats import skew\n",
    "from prettytable import PrettyTable\n",
    "import warnings\n",
    "warnings.simplefilter(action=\"ignore\", category=FutureWarning)\n",
    "pd.options.mode.chained_assignment = None"
   ]
  },
  {
   "cell_type": "markdown",
   "metadata": {
    "id": "AZ9vN8R3VJoX"
   },
   "source": [
    "<h4> Load data and store in dataframe </h4>"
   ]
  },
  {
   "cell_type": "code",
   "execution_count": 2,
   "metadata": {
    "id": "uUj8snK1VJoY"
   },
   "outputs": [
    {
     "data": {
      "text/html": [
       "<div>\n",
       "<style scoped>\n",
       "    .dataframe tbody tr th:only-of-type {\n",
       "        vertical-align: middle;\n",
       "    }\n",
       "\n",
       "    .dataframe tbody tr th {\n",
       "        vertical-align: top;\n",
       "    }\n",
       "\n",
       "    .dataframe thead th {\n",
       "        text-align: right;\n",
       "    }\n",
       "</style>\n",
       "<table border=\"1\" class=\"dataframe\">\n",
       "  <thead>\n",
       "    <tr style=\"text-align: right;\">\n",
       "      <th></th>\n",
       "      <th>Invoice ID</th>\n",
       "      <th>Branch</th>\n",
       "      <th>City</th>\n",
       "      <th>Customer type</th>\n",
       "      <th>Gender</th>\n",
       "      <th>Product line</th>\n",
       "      <th>Unit price</th>\n",
       "      <th>Quantity</th>\n",
       "      <th>Total</th>\n",
       "      <th>Date</th>\n",
       "      <th>Time</th>\n",
       "      <th>Payment</th>\n",
       "      <th>costofgoodssold</th>\n",
       "      <th>Rating</th>\n",
       "    </tr>\n",
       "  </thead>\n",
       "  <tbody>\n",
       "    <tr>\n",
       "      <th>0</th>\n",
       "      <td>750-67-8428</td>\n",
       "      <td>A</td>\n",
       "      <td>Yangon</td>\n",
       "      <td>Member</td>\n",
       "      <td>Female</td>\n",
       "      <td>Health and beauty</td>\n",
       "      <td>74.69</td>\n",
       "      <td>7</td>\n",
       "      <td>548.9715</td>\n",
       "      <td>01-05-2019</td>\n",
       "      <td>13:08</td>\n",
       "      <td>Ewallet</td>\n",
       "      <td>522.83</td>\n",
       "      <td>9.1</td>\n",
       "    </tr>\n",
       "    <tr>\n",
       "      <th>1</th>\n",
       "      <td>226-31-3081</td>\n",
       "      <td>C</td>\n",
       "      <td>Naypyitaw</td>\n",
       "      <td>Normal</td>\n",
       "      <td>Female</td>\n",
       "      <td>Electronic accessories</td>\n",
       "      <td>15.28</td>\n",
       "      <td>5</td>\n",
       "      <td>80.2200</td>\n",
       "      <td>03-08-2019</td>\n",
       "      <td>10:29</td>\n",
       "      <td>Cash</td>\n",
       "      <td>76.40</td>\n",
       "      <td>9.6</td>\n",
       "    </tr>\n",
       "  </tbody>\n",
       "</table>\n",
       "</div>"
      ],
      "text/plain": [
       "    Invoice ID Branch       City Customer type  Gender  \\\n",
       "0  750-67-8428      A     Yangon        Member  Female   \n",
       "1  226-31-3081      C  Naypyitaw        Normal  Female   \n",
       "\n",
       "             Product line  Unit price  Quantity     Total        Date   Time  \\\n",
       "0       Health and beauty       74.69         7  548.9715  01-05-2019  13:08   \n",
       "1  Electronic accessories       15.28         5   80.2200  03-08-2019  10:29   \n",
       "\n",
       "   Payment  costofgoodssold  Rating  \n",
       "0  Ewallet           522.83     9.1  \n",
       "1     Cash            76.40     9.6  "
      ]
     },
     "execution_count": 2,
     "metadata": {},
     "output_type": "execute_result"
    }
   ],
   "source": [
    "#Loading Data from the csv file into dataframe df\n",
    "df = pd.read_csv('dvi-a2-ps7-data.csv')\n",
    "df.head(2)"
   ]
  },
  {
   "cell_type": "markdown",
   "metadata": {
    "id": "Gi1XoAKfVJoZ"
   },
   "source": [
    "<h4>Find out  what type of variable you are dealing with. This will help you find the right visualization method for that variable.</p>\n"
   ]
  },
  {
   "cell_type": "code",
   "execution_count": 3,
   "metadata": {
    "id": "gCBGEsDSVJoa"
   },
   "outputs": [
    {
     "name": "stdout",
     "output_type": "stream",
     "text": [
      "+-----------------+-----------+---------------+\n",
      "|  Attribute Name | Data Type | Unique Values |\n",
      "+-----------------+-----------+---------------+\n",
      "|    Invoice ID   |   object  |      1000     |\n",
      "|      Branch     |   object  |       3       |\n",
      "|       City      |   object  |       3       |\n",
      "|  Customer type  |   object  |       2       |\n",
      "|      Gender     |   object  |       2       |\n",
      "|   Product line  |   object  |       6       |\n",
      "|    Unit price   |  float64  |      943      |\n",
      "|     Quantity    |   int64   |       10      |\n",
      "|      Total      |  float64  |      990      |\n",
      "|       Date      |   object  |       89      |\n",
      "|       Time      |   object  |      506      |\n",
      "|     Payment     |   object  |       3       |\n",
      "| costofgoodssold |  float64  |      990      |\n",
      "|      Rating     |  float64  |       61      |\n",
      "+-----------------+-----------+---------------+\n"
     ]
    }
   ],
   "source": [
    "# Attribute and its datatype\n",
    "ptbl = PrettyTable()\n",
    "\n",
    "for attribute in df.columns:    \n",
    "    ptbl.field_names = [\"Attribute Name\", \"Data Type\", \"Unique Values\"]\n",
    "    ptbl.add_row([attribute, df[attribute].dtype, df[attribute].nunique()])\n",
    "    \n",
    "print(ptbl)"
   ]
  },
  {
   "cell_type": "markdown",
   "metadata": {
    "id": "qpqsVgpCVJoa"
   },
   "source": [
    "#### Display the summary statistics of the data.In a markdown cell below,explain your findings"
   ]
  },
  {
   "cell_type": "code",
   "execution_count": 4,
   "metadata": {
    "id": "UNf_tCw7VJob"
   },
   "outputs": [
    {
     "data": {
      "text/html": [
       "<div>\n",
       "<style scoped>\n",
       "    .dataframe tbody tr th:only-of-type {\n",
       "        vertical-align: middle;\n",
       "    }\n",
       "\n",
       "    .dataframe tbody tr th {\n",
       "        vertical-align: top;\n",
       "    }\n",
       "\n",
       "    .dataframe thead th {\n",
       "        text-align: right;\n",
       "    }\n",
       "</style>\n",
       "<table border=\"1\" class=\"dataframe\">\n",
       "  <thead>\n",
       "    <tr style=\"text-align: right;\">\n",
       "      <th></th>\n",
       "      <th>Invoice ID</th>\n",
       "      <th>Branch</th>\n",
       "      <th>City</th>\n",
       "      <th>Customer type</th>\n",
       "      <th>Gender</th>\n",
       "      <th>Product line</th>\n",
       "      <th>Unit price</th>\n",
       "      <th>Quantity</th>\n",
       "      <th>Total</th>\n",
       "      <th>Date</th>\n",
       "      <th>Time</th>\n",
       "      <th>Payment</th>\n",
       "      <th>costofgoodssold</th>\n",
       "      <th>Rating</th>\n",
       "    </tr>\n",
       "  </thead>\n",
       "  <tbody>\n",
       "    <tr>\n",
       "      <th>count</th>\n",
       "      <td>1000</td>\n",
       "      <td>1000</td>\n",
       "      <td>1000</td>\n",
       "      <td>1000</td>\n",
       "      <td>1000</td>\n",
       "      <td>1000</td>\n",
       "      <td>1000.000000</td>\n",
       "      <td>1000.000000</td>\n",
       "      <td>1000.000000</td>\n",
       "      <td>1000</td>\n",
       "      <td>1000</td>\n",
       "      <td>1000</td>\n",
       "      <td>1000.00000</td>\n",
       "      <td>1000.00000</td>\n",
       "    </tr>\n",
       "    <tr>\n",
       "      <th>unique</th>\n",
       "      <td>1000</td>\n",
       "      <td>3</td>\n",
       "      <td>3</td>\n",
       "      <td>2</td>\n",
       "      <td>2</td>\n",
       "      <td>6</td>\n",
       "      <td>NaN</td>\n",
       "      <td>NaN</td>\n",
       "      <td>NaN</td>\n",
       "      <td>89</td>\n",
       "      <td>506</td>\n",
       "      <td>3</td>\n",
       "      <td>NaN</td>\n",
       "      <td>NaN</td>\n",
       "    </tr>\n",
       "    <tr>\n",
       "      <th>top</th>\n",
       "      <td>800-09-8606</td>\n",
       "      <td>A</td>\n",
       "      <td>Yangon</td>\n",
       "      <td>Member</td>\n",
       "      <td>Female</td>\n",
       "      <td>Fashion accessories</td>\n",
       "      <td>NaN</td>\n",
       "      <td>NaN</td>\n",
       "      <td>NaN</td>\n",
       "      <td>02-07-2019</td>\n",
       "      <td>14:42</td>\n",
       "      <td>Ewallet</td>\n",
       "      <td>NaN</td>\n",
       "      <td>NaN</td>\n",
       "    </tr>\n",
       "    <tr>\n",
       "      <th>freq</th>\n",
       "      <td>1</td>\n",
       "      <td>340</td>\n",
       "      <td>340</td>\n",
       "      <td>501</td>\n",
       "      <td>501</td>\n",
       "      <td>178</td>\n",
       "      <td>NaN</td>\n",
       "      <td>NaN</td>\n",
       "      <td>NaN</td>\n",
       "      <td>20</td>\n",
       "      <td>7</td>\n",
       "      <td>345</td>\n",
       "      <td>NaN</td>\n",
       "      <td>NaN</td>\n",
       "    </tr>\n",
       "    <tr>\n",
       "      <th>mean</th>\n",
       "      <td>NaN</td>\n",
       "      <td>NaN</td>\n",
       "      <td>NaN</td>\n",
       "      <td>NaN</td>\n",
       "      <td>NaN</td>\n",
       "      <td>NaN</td>\n",
       "      <td>55.672130</td>\n",
       "      <td>5.510000</td>\n",
       "      <td>322.966749</td>\n",
       "      <td>NaN</td>\n",
       "      <td>NaN</td>\n",
       "      <td>NaN</td>\n",
       "      <td>307.58738</td>\n",
       "      <td>6.97270</td>\n",
       "    </tr>\n",
       "    <tr>\n",
       "      <th>std</th>\n",
       "      <td>NaN</td>\n",
       "      <td>NaN</td>\n",
       "      <td>NaN</td>\n",
       "      <td>NaN</td>\n",
       "      <td>NaN</td>\n",
       "      <td>NaN</td>\n",
       "      <td>26.494628</td>\n",
       "      <td>2.923431</td>\n",
       "      <td>245.885335</td>\n",
       "      <td>NaN</td>\n",
       "      <td>NaN</td>\n",
       "      <td>NaN</td>\n",
       "      <td>234.17651</td>\n",
       "      <td>1.71858</td>\n",
       "    </tr>\n",
       "    <tr>\n",
       "      <th>min</th>\n",
       "      <td>NaN</td>\n",
       "      <td>NaN</td>\n",
       "      <td>NaN</td>\n",
       "      <td>NaN</td>\n",
       "      <td>NaN</td>\n",
       "      <td>NaN</td>\n",
       "      <td>10.080000</td>\n",
       "      <td>1.000000</td>\n",
       "      <td>10.678500</td>\n",
       "      <td>NaN</td>\n",
       "      <td>NaN</td>\n",
       "      <td>NaN</td>\n",
       "      <td>10.17000</td>\n",
       "      <td>4.00000</td>\n",
       "    </tr>\n",
       "    <tr>\n",
       "      <th>25%</th>\n",
       "      <td>NaN</td>\n",
       "      <td>NaN</td>\n",
       "      <td>NaN</td>\n",
       "      <td>NaN</td>\n",
       "      <td>NaN</td>\n",
       "      <td>NaN</td>\n",
       "      <td>32.875000</td>\n",
       "      <td>3.000000</td>\n",
       "      <td>124.422375</td>\n",
       "      <td>NaN</td>\n",
       "      <td>NaN</td>\n",
       "      <td>NaN</td>\n",
       "      <td>118.49750</td>\n",
       "      <td>5.50000</td>\n",
       "    </tr>\n",
       "    <tr>\n",
       "      <th>50%</th>\n",
       "      <td>NaN</td>\n",
       "      <td>NaN</td>\n",
       "      <td>NaN</td>\n",
       "      <td>NaN</td>\n",
       "      <td>NaN</td>\n",
       "      <td>NaN</td>\n",
       "      <td>55.230000</td>\n",
       "      <td>5.000000</td>\n",
       "      <td>253.848000</td>\n",
       "      <td>NaN</td>\n",
       "      <td>NaN</td>\n",
       "      <td>NaN</td>\n",
       "      <td>241.76000</td>\n",
       "      <td>7.00000</td>\n",
       "    </tr>\n",
       "    <tr>\n",
       "      <th>75%</th>\n",
       "      <td>NaN</td>\n",
       "      <td>NaN</td>\n",
       "      <td>NaN</td>\n",
       "      <td>NaN</td>\n",
       "      <td>NaN</td>\n",
       "      <td>NaN</td>\n",
       "      <td>77.935000</td>\n",
       "      <td>8.000000</td>\n",
       "      <td>471.350250</td>\n",
       "      <td>NaN</td>\n",
       "      <td>NaN</td>\n",
       "      <td>NaN</td>\n",
       "      <td>448.90500</td>\n",
       "      <td>8.50000</td>\n",
       "    </tr>\n",
       "    <tr>\n",
       "      <th>max</th>\n",
       "      <td>NaN</td>\n",
       "      <td>NaN</td>\n",
       "      <td>NaN</td>\n",
       "      <td>NaN</td>\n",
       "      <td>NaN</td>\n",
       "      <td>NaN</td>\n",
       "      <td>99.960000</td>\n",
       "      <td>10.000000</td>\n",
       "      <td>1042.650000</td>\n",
       "      <td>NaN</td>\n",
       "      <td>NaN</td>\n",
       "      <td>NaN</td>\n",
       "      <td>993.00000</td>\n",
       "      <td>10.00000</td>\n",
       "    </tr>\n",
       "  </tbody>\n",
       "</table>\n",
       "</div>"
      ],
      "text/plain": [
       "         Invoice ID Branch    City Customer type  Gender         Product line  \\\n",
       "count          1000   1000    1000          1000    1000                 1000   \n",
       "unique         1000      3       3             2       2                    6   \n",
       "top     800-09-8606      A  Yangon        Member  Female  Fashion accessories   \n",
       "freq              1    340     340           501     501                  178   \n",
       "mean            NaN    NaN     NaN           NaN     NaN                  NaN   \n",
       "std             NaN    NaN     NaN           NaN     NaN                  NaN   \n",
       "min             NaN    NaN     NaN           NaN     NaN                  NaN   \n",
       "25%             NaN    NaN     NaN           NaN     NaN                  NaN   \n",
       "50%             NaN    NaN     NaN           NaN     NaN                  NaN   \n",
       "75%             NaN    NaN     NaN           NaN     NaN                  NaN   \n",
       "max             NaN    NaN     NaN           NaN     NaN                  NaN   \n",
       "\n",
       "         Unit price     Quantity        Total        Date   Time  Payment  \\\n",
       "count   1000.000000  1000.000000  1000.000000        1000   1000     1000   \n",
       "unique          NaN          NaN          NaN          89    506        3   \n",
       "top             NaN          NaN          NaN  02-07-2019  14:42  Ewallet   \n",
       "freq            NaN          NaN          NaN          20      7      345   \n",
       "mean      55.672130     5.510000   322.966749         NaN    NaN      NaN   \n",
       "std       26.494628     2.923431   245.885335         NaN    NaN      NaN   \n",
       "min       10.080000     1.000000    10.678500         NaN    NaN      NaN   \n",
       "25%       32.875000     3.000000   124.422375         NaN    NaN      NaN   \n",
       "50%       55.230000     5.000000   253.848000         NaN    NaN      NaN   \n",
       "75%       77.935000     8.000000   471.350250         NaN    NaN      NaN   \n",
       "max       99.960000    10.000000  1042.650000         NaN    NaN      NaN   \n",
       "\n",
       "        costofgoodssold      Rating  \n",
       "count        1000.00000  1000.00000  \n",
       "unique              NaN         NaN  \n",
       "top                 NaN         NaN  \n",
       "freq                NaN         NaN  \n",
       "mean          307.58738     6.97270  \n",
       "std           234.17651     1.71858  \n",
       "min            10.17000     4.00000  \n",
       "25%           118.49750     5.50000  \n",
       "50%           241.76000     7.00000  \n",
       "75%           448.90500     8.50000  \n",
       "max           993.00000    10.00000  "
      ]
     },
     "execution_count": 4,
     "metadata": {},
     "output_type": "execute_result"
    }
   ],
   "source": [
    "# (include = 'all'): Shows the statisitics of categorical as well as numerical variables\n",
    "df.describe(include = 'all')"
   ]
  },
  {
   "cell_type": "markdown",
   "metadata": {
    "id": "axzewlqBVJob"
   },
   "source": [
    "#### Identify whether male/female spends more on 'Health and beauty'.Write the code below"
   ]
  },
  {
   "cell_type": "code",
   "execution_count": 5,
   "metadata": {
    "id": "LiORijHGVJob"
   },
   "outputs": [
    {
     "data": {
      "text/html": [
       "<div>\n",
       "<style scoped>\n",
       "    .dataframe tbody tr th:only-of-type {\n",
       "        vertical-align: middle;\n",
       "    }\n",
       "\n",
       "    .dataframe tbody tr th {\n",
       "        vertical-align: top;\n",
       "    }\n",
       "\n",
       "    .dataframe thead th {\n",
       "        text-align: right;\n",
       "    }\n",
       "</style>\n",
       "<table border=\"1\" class=\"dataframe\">\n",
       "  <thead>\n",
       "    <tr style=\"text-align: right;\">\n",
       "      <th></th>\n",
       "      <th>Gender</th>\n",
       "      <th>Total</th>\n",
       "    </tr>\n",
       "  </thead>\n",
       "  <tbody>\n",
       "    <tr>\n",
       "      <th>1</th>\n",
       "      <td>Male</td>\n",
       "      <td>30632.75</td>\n",
       "    </tr>\n",
       "    <tr>\n",
       "      <th>0</th>\n",
       "      <td>Female</td>\n",
       "      <td>18560.99</td>\n",
       "    </tr>\n",
       "  </tbody>\n",
       "</table>\n",
       "</div>"
      ],
      "text/plain": [
       "   Gender     Total\n",
       "1    Male  30632.75\n",
       "0  Female  18560.99"
      ]
     },
     "execution_count": 5,
     "metadata": {},
     "output_type": "execute_result"
    }
   ],
   "source": [
    "# Filtering out only the \"Health and beauty\" Product line values from the dataset\n",
    "dfc = df.loc[df['Product line'] == 'Health and beauty']\n",
    "\n",
    "# Grouping by Gender and calculating \"Spends\" by summing the \"Total\" field\n",
    "dfCat = dfc[['Gender','Total']].groupby(['Gender'],as_index=False).sum().round(2)\n",
    "\n",
    "# Sorting the results in decreasing order\n",
    "dfCat.sort_values(by='Total', ascending=False)"
   ]
  },
  {
   "cell_type": "markdown",
   "metadata": {
    "id": "92Fbkr8oVJoc"
   },
   "source": [
    "# Visualisation Questions - 2 X 5 = 10 Marks"
   ]
  },
  {
   "cell_type": "markdown",
   "metadata": {
    "id": "l-u-4dwdVJoc"
   },
   "source": [
    "### Question 1\n",
    "<h4>Check the distribution of the Price variable .<br><br>\n",
    "    Write the python code in the below cell to create appropriate visual to perform the above task.\n",
    "<h4>Answer in markdown cells below the visual <br><br>\n",
    "    1.Summarise your findings from the visual..<br>\n",
    "    2.The reason for selecting the chart type you did <br>\n",
    "    3.Mention the pre-attentive attributes used.(atleast 2)<br>\n",
    "    4.Mention the gestalt principles used.(atleast 2)<br>\n",
    "   "
   ]
  },
  {
   "cell_type": "code",
   "execution_count": 6,
   "metadata": {
    "id": "qAbbLqgQVJoc"
   },
   "outputs": [
    {
     "data": {
      "text/plain": [
       "<matplotlib.axes._subplots.AxesSubplot at 0x1fbce582640>"
      ]
     },
     "execution_count": 6,
     "metadata": {},
     "output_type": "execute_result"
    },
    {
     "data": {
      "image/png": "[encoded data removed]",
      "text/plain": [
       "<Figure size 432x288 with 1 Axes>"
      ]
     },
     "metadata": {
      "needs_background": "light"
     },
     "output_type": "display_data"
    }
   ],
   "source": [
    "# Distribution of Unit Price (continuos) varaible\n",
    "sns.histplot(data=df['Unit price'], bins=10, kde=True)"
   ]
  },
  {
   "cell_type": "markdown",
   "metadata": {
    "id": "j5A0UfH_VJod"
   },
   "source": [
    "### Question 2\n",
    "<h4>What does the distribution of customer rating looks like?Draw the mean,25th and 75th percentile on the plot.<br><br>\n",
    "    Write the python code in the below cell to create the appropriate visual to perform the above task .\n",
    "<h4>Answer in markdown cells below the visual <br><br>\n",
    "    1.Summarise your findings from the visual.<br>\n",
    "    2.The reason for selecting the chart type you did <br>\n",
    "    3.Mention the pre-attentive attributes used.(atleast 2)<br>\n",
    "    4.Mention the gestalt principles used.(atleast 2)<br>  \n",
    "   "
   ]
  },
  {
   "cell_type": "code",
   "execution_count": 7,
   "metadata": {
    "id": "rmnKt-t9VJod"
   },
   "outputs": [
    {
     "data": {
      "image/png": "[encoded data removed]",
      "text/plain": [
       "<Figure size 432x288 with 1 Axes>"
      ]
     },
     "metadata": {
      "needs_background": "light"
     },
     "output_type": "display_data"
    }
   ],
   "source": [
    "# Box plot\n",
    " \n",
    "# Creating plot\n",
    "# plt.boxplot(df['Rating'], vert=False)\n",
    "\n",
    "ax = sns.boxplot(x=df['Rating'])"
   ]
  },
  {
   "cell_type": "markdown",
   "metadata": {
    "id": "__-le91tVJod"
   },
   "source": [
    "### Question 3\n",
    "<h4>For each payment method,compare the product lines.Does any stand out?.<br><br>\n",
    "    Write the python code in the below cell to create appropriate visual to perform the above task.\n",
    "<h4>Answer in markdown cells below the visual <br><br>\n",
    "    1.Summarise your findings from the visual.<br>\n",
    "    2.The reason for selecting the chart type you did <br>\n",
    "    3.Mention the pre-attentive attributes used.(atleast 2)<br>\n",
    "    4.Mention the gestalt principles used.(atleast 2)<br>\n",
    "    "
   ]
  },
  {
   "cell_type": "code",
   "execution_count": 8,
   "metadata": {
    "id": "si8VQDamVJod"
   },
   "outputs": [
    {
     "data": {
      "image/png": "[encoded data removed]",
      "text/plain": [
       "<Figure size 866.5x360 with 1 Axes>"
      ]
     },
     "metadata": {
      "needs_background": "light"
     },
     "output_type": "display_data"
    }
   ],
   "source": [
    "# Bar graph for Payment methods in product line\n",
    "\n",
    "\n",
    "# perform groupby\n",
    "# df1 = df.groupby(['Product line', 'Payment']).agg(mean_payment=(\"Payment\", 'mean'))\n",
    "# # df = df.reset_index()\n",
    "  \n",
    "# # plot barplot\n",
    "# sns.barplot(x=\"Payment\",\n",
    "#            y=\"mean_payment\",\n",
    "# #            hue=\"attnr\",\n",
    "#            data=df1)\n",
    "\n",
    "\n",
    "dfCat = df[['Payment','Product line','Invoice ID']].groupby(['Payment','Product line'],as_index=False).count()\n",
    "sns.catplot(data=dfCat, y='Invoice ID', x='Payment', kind='bar', hue='Product line', height=5, aspect=2, palette=\"Set3\")\n",
    "plt.show()"
   ]
  },
  {
   "cell_type": "markdown",
   "metadata": {
    "id": "5zAUjlKmVJoe"
   },
   "source": [
    "### Question 4\n",
    "<h4>Identify,which is the most appropriate time(hour) to give online disounts?<br><br>\n",
    "    Write the python code in the below cell to create the appropriate visual(single visual) to perform the above task .(Prep the data as necessary)\n",
    "<h4>Answer in markdown cells below the visual <br><br>\n",
    "    1.Summarise your findings from the visual.<br>\n",
    "    2.The reason for selecting the chart type you did <br>\n",
    "    3.Mention the pre-attentive attributes used.(atleast 2)<br>\n",
    "    4.Mention the gestalt principles used.(atleast 2)<br>\n",
    "    "
   ]
  },
  {
   "cell_type": "code",
   "execution_count": 18,
   "metadata": {
    "id": "bMsxBcSaVJoe"
   },
   "outputs": [
    {
     "name": "stdout",
     "output_type": "stream",
     "text": [
      "['13:08' '10:29' '13:23' '20:33' '10:37' '18:30' '14:36' '11:38' '17:15'\n",
      " '13:27' '18:07' '17:03' '10:25' '16:48' '19:21' '16:19' '11:03' '10:39'\n",
      " '18:00' '15:30' '11:24' '10:40' '12:20' '11:15' '17:36' '19:20' '15:31'\n",
      " '12:17' '19:48' '15:36' '19:39' '12:43' '14:49' '10:12' '10:42' '12:28'\n",
      " '19:15' '17:17' '13:24' '13:01' '18:45' '10:11' '13:03' '20:39' '19:47'\n",
      " '17:24' '15:47' '12:45' '17:08' '10:19' '15:10' '14:42' '15:46' '11:49'\n",
      " '19:01' '11:26' '11:28' '15:55' '20:36' '17:47' '10:55' '13:40' '12:27'\n",
      " '14:35' '16:40' '15:43' '15:01' '10:04' '18:50' '12:46' '18:17' '18:21'\n",
      " '17:04' '14:20' '15:48' '16:24' '18:56' '19:56' '18:37' '10:17' '14:31'\n",
      " '10:23' '20:35' '16:57' '17:55' '19:54' '16:42' '12:09' '20:05' '20:38'\n",
      " '13:11' '10:16' '18:14' '13:22' '11:27' '16:44' '18:19' '14:50' '20:54'\n",
      " '20:19' '10:43' '14:30' '11:32' '10:41' '12:44' '20:07' '20:31' '12:29'\n",
      " '15:26' '20:48' '12:02' '17:26' '19:52' '14:57' '18:44' '13:26' '16:17'\n",
      " '15:57' '13:18' '20:34' '18:36' '14:40' '16:43' '20:59' '15:39' '12:21'\n",
      " '19:25' '13:00' '13:48' '19:57' '10:36' '16:37' '17:11' '15:07' '16:07'\n",
      " '11:56' '18:23' '13:05' '19:40' '13:58' '14:43' '19:18' '16:21' '19:44'\n",
      " '19:42' '15:24' '14:12' '13:32' '16:20' '16:31' '11:36' '19:17' '17:34'\n",
      " '12:04' '17:01' '10:50' '19:16' '16:47' '10:00' '11:51' '15:00' '11:19'\n",
      " '19:46' '19:00' '10:53' '12:50' '20:50' '13:41' '19:08' '20:23' '11:30'\n",
      " '19:30' '18:03' '10:13' '19:58' '10:01' '11:57' '10:02' '14:51' '12:42'\n",
      " '17:38' '20:24' '18:08' '15:53' '15:05' '18:27' '16:55' '12:58' '18:59'\n",
      " '13:44' '13:46' '18:06' '12:38' '15:56' '14:29' '19:14' '10:52' '12:55'\n",
      " '19:28' '13:52' '10:54' '18:31' '18:24' '18:09' '15:16' '17:07' '19:26'\n",
      " '11:20' '16:49' '12:01' '11:25' '18:42' '14:47' '19:43' '14:04' '16:11'\n",
      " '19:06' '15:34' '11:22' '11:23' '10:46' '13:25' '14:53' '19:22' '11:00'\n",
      " '19:24' '17:22' '20:55' '16:05' '13:34' '18:13' '11:44' '15:51' '16:52'\n",
      " '20:52' '16:28' '13:29' '11:09' '15:02' '14:21' '18:01' '13:30' '14:38'\n",
      " '17:37' '17:20' '20:29' '11:46' '13:42' '14:44' '14:16' '15:54' '10:21'\n",
      " '16:46' '20:14' '17:09' '17:43' '19:05' '10:08' '13:12' '20:51' '17:29'\n",
      " '11:34' '18:58' '20:26' '15:08' '13:21' '12:48' '19:53' '19:09' '16:30'\n",
      " '13:07' '18:48' '17:27' '15:59' '11:21' '15:49' '13:02' '20:21' '15:04'\n",
      " '16:10' '12:14' '11:06' '18:22' '19:02' '15:44' '20:01' '13:45' '15:40'\n",
      " '16:58' '11:12' '15:12' '20:37' '17:44' '16:23' '12:12' '19:33' '14:28'\n",
      " '17:54' '12:25' '12:52' '19:50' '15:32' '13:19' '13:37' '14:55' '12:31'\n",
      " '10:26' '20:18' '20:04' '13:38' '17:30' '15:28' '19:07' '18:55' '19:36'\n",
      " '10:57' '17:13' '13:57' '13:53' '16:53' '16:51' '15:37' '20:15' '19:35'\n",
      " '15:42' '14:11' '17:58' '11:02' '15:09' '13:47' '16:59' '14:15' '15:19'\n",
      " '18:33' '12:10' '11:40' '16:54' '15:25' '20:47' '18:20' '11:48' '14:14'\n",
      " '11:17' '12:40' '17:53' '16:36' '10:48' '18:05' '12:07' '19:49' '15:52'\n",
      " '20:46' '10:34' '13:55' '11:43' '16:03' '20:03' '19:41' '18:04' '10:31'\n",
      " '13:28' '17:16' '18:43' '10:30' '20:40' '12:08' '17:45' '10:28' '10:49'\n",
      " '12:34' '18:51' '19:38' '12:32' '10:33' '19:55' '14:33' '13:54' '12:15'\n",
      " '12:37' '15:06' '15:58' '14:03' '16:38' '11:07' '12:23' '14:13' '19:11'\n",
      " '18:53' '14:22' '10:06' '20:08' '12:56' '10:18' '11:45' '16:08' '12:24'\n",
      " '19:51' '18:10' '15:27' '16:04' '14:41' '14:19' '14:08' '11:29' '12:16'\n",
      " '20:00' '15:29' '14:58' '11:52' '17:46' '14:45' '11:39' '13:06' '20:43'\n",
      " '16:34' '13:10' '17:10' '10:22' '19:29' '14:27' '12:22' '11:59' '17:59'\n",
      " '12:51' '13:56' '19:45' '16:18' '18:57' '11:18' '14:06' '20:13' '15:14'\n",
      " '16:06' '12:47' '20:42' '20:10' '14:24' '11:42' '17:49' '15:33' '10:38'\n",
      " '12:39' '14:26' '12:41' '15:20' '16:33' '20:44' '11:16' '12:30' '17:48'\n",
      " '20:30' '13:59' '11:58' '16:50' '18:02' '17:52' '20:32' '16:09' '11:33'\n",
      " '15:15' '20:06' '16:26' '18:38' '16:45' '18:41' '17:12' '14:00' '16:32'\n",
      " '10:10' '10:05' '18:15' '11:01' '15:21' '16:16' '11:05' '19:31' '18:35'\n",
      " '13:51' '12:35' '11:55' '15:11' '14:48' '12:36' '13:35' '15:45' '14:25'\n",
      " '15:18' '10:03' '13:14' '16:35' '20:57' '13:50' '17:35' '17:56' '10:44'\n",
      " '10:09' '10:58' '13:49' '11:10' '13:33' '14:05' '16:27' '15:23' '18:18'\n",
      " '15:17' '19:12']\n"
     ]
    }
   ],
   "source": [
    "# Line graph of total vs time\n",
    "\n",
    "print(df['Time'].unique())\n",
    "\n",
    "\n",
    "# Step 1: Categorize time in hour slots\n",
    "# Step 2: May be take mean value of the totals in that slot\n",
    "# Step 3: Prepare the x-y series with that data\n",
    "\n",
    "\n",
    "# Invoice ID\tBranch\tCity\tCustomer type\tGender\tProduct line\tUnit price\tQuantity\tTotal\tDate\tTime\tPayment\tcostofgoodssold\tRating\n",
    "# sns.lineplot(data=df, x=\"Time\", y=\"Total\")"
   ]
  },
  {
   "cell_type": "markdown",
   "metadata": {
    "id": "iVd8BgfqVJoe"
   },
   "source": [
    "### Question 5"
   ]
  },
  {
   "cell_type": "markdown",
   "metadata": {
    "id": "ZMaWvxZMVJoe"
   },
   "source": [
    "<h4>Which product line is more profitable?<br><br>\n",
    "    Write the python code in the below cell to create the appropriate visual(single visual) to perform the above task .(Prep the data as necessary)\n",
    "<h4>Answer in markdown cells below the visual <br><br>\n",
    "    1.Summarise your findings from the visual.<br>\n",
    "    2.The reason for selecting the chart type you did <br>\n",
    "    3.Mention the pre-attentive attributes used.(atleast 2)<br>\n",
    "    4.Mention the gestalt principles used.(atleast 2)<br>\n",
    "    "
   ]
  },
  {
   "cell_type": "code",
   "execution_count": null,
   "metadata": {
    "id": "9rYIUwX4VJof"
   },
   "outputs": [],
   "source": [
    "dfc5 = df.copy()\n",
    "dfCat = dfc5[['Product line','Total']].groupby(['Product line'],as_index=False).sum().round(2)\n",
    "\n",
    "# Sorting the results in decreasing order\n",
    "dfCat = dfCat.sort_values(by='Total', ascending=False)\n",
    "\n",
    "# Plotting bar graph\n",
    "values = dfCat['Total']\n",
    "clrs = ['#9dc9ee' if (x < max(values)) else '#116ab4' for x in values ]\n",
    "plt.figure(figsize=(10,6))\n",
    "plots = sns.barplot(x=\"Total\", y=\"Product line\", data=dfCat, palette=clrs)\n",
    " \n",
    "# Setting the title for the graph\n",
    "plt.title(\"Product Line vs Profit\", size=15)\n",
    "\n",
    "\n",
    "# GRAPH CURATION\n",
    "# ---- 1) Adding annotations to the bars in graph ----\n",
    "\n",
    "i=0;\n",
    "\n",
    "# Iterrating over bars\n",
    "for bar in plots.patches:\n",
    "\n",
    "    # Annotating points in the bars, fixing their position and values\n",
    "    plots.annotate(format(((bar.get_width() / 1000)), '.2f')  + ' K',\n",
    "                   (bar.get_width() * 1.01, i * (bar.get_height() + 0.2)),\n",
    "                   va='center', size=10, xytext=(0, 0), textcoords='offset points', color='')\n",
    "    \n",
    "    i = i + 1\n",
    "\n",
    "\n",
    "# ---- 2) Removing unneccesary chart Borders ----\n",
    "sns.despine(right=True, left=True, top=True, bottom=True)\n",
    "\n",
    "# ---- 3) Removing unneccesary tick marks ----\n",
    "plots.tick_params(left=False, bottom=False)\n",
    "\n",
    "# ---- 4) Removing x values ----\n",
    "plots.set(xticklabels=[])\n",
    "\n",
    "# ---- 5) Removing x,y labels ----\n",
    "plots.set(xlabel=None)\n",
    "plots.set(ylabel=None)\n",
    "\n"
   ]
  },
  {
   "cell_type": "code",
   "execution_count": 130,
   "metadata": {},
   "outputs": [
    {
     "name": "stdout",
     "output_type": "stream",
     "text": [
      "<class 'pandas.core.series.Series'>\n"
     ]
    }
   ],
   "source": [
    "print(type(dfCat['Total']))"
   ]
  },
  {
   "cell_type": "markdown",
   "metadata": {
    "id": "V2P_0YufVJof"
   },
   "source": [
    "# Group's choice-2 Marks\n",
    " \n",
    "#### Frame 1 (more) question which will help in the EDA(Exploratory Data Analysis) of the given data set and answer the same using the best visual.\n",
    " \n",
    " 1. Write the question in a markdown cell\n",
    " 2. Below the question,in a coding cell,write the python code to create the visual to answer the question  \n",
    "\n",
    "<h4> Answer in markdown cells below the visual <br><br>\n",
    "   1.Summarise your findings from the visual.<br>\n",
    "   2.The reason for selecting the chart type you did <br>\n",
    "   3.Mention the pre-attentive attributes used.(atleast 2)<br>\n",
    "   4.Mention the gestalt principles used.(atleast 2)<br>\n",
    "  "
   ]
  },
  {
   "cell_type": "code",
   "execution_count": null,
   "metadata": {
    "id": "WqnGFc1qVJof"
   },
   "outputs": [],
   "source": []
  },
  {
   "cell_type": "markdown",
   "metadata": {
    "id": "YUEA7G6OVJof"
   },
   "source": [
    "<h1><center> ************ END OF ASSIGNMENT ****************</center></h1>"
   ]
  }
 ],
 "metadata": {
  "anaconda-cloud": {},
  "colab": {
   "collapsed_sections": [],
   "name": "dvi-a2-ps7.ipynb",
   "provenance": []
  },
  "kernelspec": {
   "display_name": "Python 3",
   "language": "python",
   "name": "python3"
  },
  "language_info": {
   "codemirror_mode": {
    "name": "ipython",
    "version": 3
   },
   "file_extension": ".py",
   "mimetype": "text/x-python",
   "name": "python",
   "nbconvert_exporter": "python",
   "pygments_lexer": "ipython3",
   "version": "3.8.3"
  }
 },
 "nbformat": 4,
 "nbformat_minor": 1
}
