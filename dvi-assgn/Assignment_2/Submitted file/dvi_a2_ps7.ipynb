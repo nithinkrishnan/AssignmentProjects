{
 "cells": [
  {
   "cell_type": "markdown",
   "metadata": {
    "id": "bPWoq_7cVJn5"
   },
   "source": [
    "<img src = \"https://www.bits-pilani.ac.in/Uploads/Campus/BITS_university_logo.gif\">"
   ]
  },
  {
   "cell_type": "markdown",
   "metadata": {
    "id": "TxT4rkIHVJoB"
   },
   "source": [
    "<h1><center>Work Integrated Learning Programmes Division<br>\n",
    "M.Tech (Data Science and Engineering)<br> Data Visualization And Interpretation <br>\n",
    "</center></h1>\n",
    "\n",
    "<h2><center>Assignment 2 – PS7 [Weightage 13%]</center></h2>"
   ]
  },
  {
   "cell_type": "markdown",
   "metadata": {
    "id": "l6wUIYtkVJoP"
   },
   "source": [
    "## Instructions\n",
    "<ol>\n",
    "  <li>Do not change the name of the data file that is shared with the problem statement.</li>\n",
    "  <li>If intermediate data files are created, retain in the present working directory and attach them during submission.</li>\n",
    "  <li>Retain the data file in the same directory as that of this workbook.</li>\n",
    "  <li>Retain the Visualizations that is produced in the file. Don't clear them away.</li>\n",
    "    <li><b><div class=\"alert-warning\">All the visuals should adhere to the visualization principles learnt in the Course and must be presentation ready.Most effective visuals would fetch maximum credits</div></b></li>    \n",
    "    <li><b><div class=\"alert-warning\">Submissions done via means other than CANVAS will strictly be NOT graded.</div></b></li>\n",
    "    \n",
    "\n",
    "\n",
    "  \n",
    "</ol>"
   ]
  },
  {
   "cell_type": "markdown",
   "metadata": {
    "id": "4stimoo-VJoQ"
   },
   "source": [
    "<style>\n",
    "table {\n",
    "  font-family: arial, sans-serif;\n",
    "  border-collapse: collapse;\n",
    "  width: 100%;\n",
    "}\n",
    "\n",
    "td, th {\n",
    "  border: 1px solid #dddddd;\n",
    "  text-align: left;\n",
    "  padding: 8px;\n",
    "}\n",
    "\n",
    "tr:nth-child(even) {\n",
    "  background-color: #dddddd;\n",
    "}\n",
    "</style>\n",
    "\n",
    "<h2>Group No: 48</h2>\n",
    "\n",
    "<table style=\"float: left;width: 35%;text-align: left; margin-left: 3rem;\">\n",
    "  <tr>\n",
    "    <th style=\"text-align: left;\">Full Name</th>\n",
    "    <th style=\"text-align: left;\">BITS ID</th>\n",
    "  </tr>\n",
    "  <tr>\n",
    "    <td style=\"text-align: left;\">Shehza Fathima</td>\n",
    "    <td style=\"text-align: left;\">2021C104174</td>\n",
    "  </tr>\n",
    "  <tr>\n",
    "    <td style=\"text-align: left;\">Nithin Krishnan</td>\n",
    "    <td style=\"text-align: left;\">2021C104176</td>\n",
    "  </tr>\n",
    "  <tr>\n",
    "    <td style=\"text-align: left;\">Binsu Elizabeth Varghese</td>\n",
    "    <td style=\"text-align: left;\">2021C104187</td>\n",
    "  </tr>\n",
    "</table>"
   ]
  },
  {
   "cell_type": "markdown",
   "metadata": {
    "id": "9fVRSzBzVJoS"
   },
   "source": [
    "<h1>Objective</h1>\n",
    "<h4>Perform EDA on the data set.</h4>\n",
    "\n"
   ]
  },
  {
   "cell_type": "markdown",
   "metadata": {
    "id": "2_1xHDJkVJoT"
   },
   "source": [
    "##  Download and Prep the Data: 1 Mark"
   ]
  },
  {
   "cell_type": "markdown",
   "metadata": {
    "id": "BQoa3m50VJoU"
   },
   "source": [
    "<h4>Import the libraries needed</h4>"
   ]
  },
  {
   "cell_type": "code",
   "execution_count": 164,
   "metadata": {
    "id": "ytuwltS7VJoW"
   },
   "outputs": [],
   "source": [
    "#Importing Libraries\n",
    "import numpy as np\n",
    "import pandas as pd\n",
    "import seaborn as sns\n",
    "from matplotlib import pyplot as plt\n",
    "from scipy.stats import skew\n",
    "from prettytable import PrettyTable\n",
    "import warnings\n",
    "warnings.simplefilter(action=\"ignore\", category=FutureWarning)\n",
    "pd.options.mode.chained_assignment = None"
   ]
  },
  {
   "cell_type": "markdown",
   "metadata": {
    "id": "AZ9vN8R3VJoX"
   },
   "source": [
    "<h4> Load data and store in dataframe </h4>"
   ]
  },
  {
   "cell_type": "code",
   "execution_count": 165,
   "metadata": {
    "id": "uUj8snK1VJoY"
   },
   "outputs": [
    {
     "data": {
      "text/html": [
       "<div>\n",
       "<style scoped>\n",
       "    .dataframe tbody tr th:only-of-type {\n",
       "        vertical-align: middle;\n",
       "    }\n",
       "\n",
       "    .dataframe tbody tr th {\n",
       "        vertical-align: top;\n",
       "    }\n",
       "\n",
       "    .dataframe thead th {\n",
       "        text-align: right;\n",
       "    }\n",
       "</style>\n",
       "<table border=\"1\" class=\"dataframe\">\n",
       "  <thead>\n",
       "    <tr style=\"text-align: right;\">\n",
       "      <th></th>\n",
       "      <th>Invoice ID</th>\n",
       "      <th>Branch</th>\n",
       "      <th>City</th>\n",
       "      <th>Customer type</th>\n",
       "      <th>Gender</th>\n",
       "      <th>Product line</th>\n",
       "      <th>Unit price</th>\n",
       "      <th>Quantity</th>\n",
       "      <th>Total</th>\n",
       "      <th>Date</th>\n",
       "      <th>Time</th>\n",
       "      <th>Payment</th>\n",
       "      <th>costofgoodssold</th>\n",
       "      <th>Rating</th>\n",
       "    </tr>\n",
       "  </thead>\n",
       "  <tbody>\n",
       "    <tr>\n",
       "      <th>0</th>\n",
       "      <td>750-67-8428</td>\n",
       "      <td>A</td>\n",
       "      <td>Yangon</td>\n",
       "      <td>Member</td>\n",
       "      <td>Female</td>\n",
       "      <td>Health and beauty</td>\n",
       "      <td>74.69</td>\n",
       "      <td>7</td>\n",
       "      <td>548.9715</td>\n",
       "      <td>01-05-2019</td>\n",
       "      <td>13:08</td>\n",
       "      <td>Ewallet</td>\n",
       "      <td>522.83</td>\n",
       "      <td>9.1</td>\n",
       "    </tr>\n",
       "    <tr>\n",
       "      <th>1</th>\n",
       "      <td>226-31-3081</td>\n",
       "      <td>C</td>\n",
       "      <td>Naypyitaw</td>\n",
       "      <td>Normal</td>\n",
       "      <td>Female</td>\n",
       "      <td>Electronic accessories</td>\n",
       "      <td>15.28</td>\n",
       "      <td>5</td>\n",
       "      <td>80.2200</td>\n",
       "      <td>03-08-2019</td>\n",
       "      <td>10:29</td>\n",
       "      <td>Cash</td>\n",
       "      <td>76.40</td>\n",
       "      <td>9.6</td>\n",
       "    </tr>\n",
       "  </tbody>\n",
       "</table>\n",
       "</div>"
      ],
      "text/plain": [
       "    Invoice ID Branch       City Customer type  Gender  \\\n",
       "0  750-67-8428      A     Yangon        Member  Female   \n",
       "1  226-31-3081      C  Naypyitaw        Normal  Female   \n",
       "\n",
       "             Product line  Unit price  Quantity     Total        Date   Time  \\\n",
       "0       Health and beauty       74.69         7  548.9715  01-05-2019  13:08   \n",
       "1  Electronic accessories       15.28         5   80.2200  03-08-2019  10:29   \n",
       "\n",
       "   Payment  costofgoodssold  Rating  \n",
       "0  Ewallet           522.83     9.1  \n",
       "1     Cash            76.40     9.6  "
      ]
     },
     "execution_count": 165,
     "metadata": {},
     "output_type": "execute_result"
    }
   ],
   "source": [
    "#Loading Data from the csv file into dataframe df\n",
    "df = pd.read_csv('dvi-a2-ps7-data.csv')\n",
    "df.head(2)"
   ]
  },
  {
   "cell_type": "markdown",
   "metadata": {
    "id": "Gi1XoAKfVJoZ"
   },
   "source": [
    "<h4>Find out  what type of variable you are dealing with. This will help you find the right visualization method for that variable.</p>\n"
   ]
  },
  {
   "cell_type": "code",
   "execution_count": 166,
   "metadata": {
    "id": "gCBGEsDSVJoa"
   },
   "outputs": [
    {
     "name": "stdout",
     "output_type": "stream",
     "text": [
      "+-----------------+-----------+---------------+\n",
      "|  Attribute Name | Data Type | Unique Values |\n",
      "+-----------------+-----------+---------------+\n",
      "|    Invoice ID   |   object  |      1000     |\n",
      "|      Branch     |   object  |       3       |\n",
      "|       City      |   object  |       3       |\n",
      "|  Customer type  |   object  |       2       |\n",
      "|      Gender     |   object  |       2       |\n",
      "|   Product line  |   object  |       6       |\n",
      "|    Unit price   |  float64  |      943      |\n",
      "|     Quantity    |   int64   |       10      |\n",
      "|      Total      |  float64  |      990      |\n",
      "|       Date      |   object  |       89      |\n",
      "|       Time      |   object  |      506      |\n",
      "|     Payment     |   object  |       3       |\n",
      "| costofgoodssold |  float64  |      990      |\n",
      "|      Rating     |  float64  |       61      |\n",
      "+-----------------+-----------+---------------+\n"
     ]
    }
   ],
   "source": [
    "# Attribute and its datatype\n",
    "ptbl = PrettyTable()\n",
    "\n",
    "for attribute in df.columns:    \n",
    "    ptbl.field_names = [\"Attribute Name\", \"Data Type\", \"Unique Values\"]\n",
    "    ptbl.add_row([attribute, df[attribute].dtype, df[attribute].nunique()])\n",
    "    \n",
    "print(ptbl)"
   ]
  },
  {
   "cell_type": "markdown",
   "metadata": {
    "id": "qpqsVgpCVJoa"
   },
   "source": [
    "#### Display the summary statistics of the data.In a markdown cell below,explain your findings"
   ]
  },
  {
   "cell_type": "code",
   "execution_count": 167,
   "metadata": {},
   "outputs": [],
   "source": [
    "#Defining class colour\n",
    "class color:\n",
    "   BLUE = '\\033[94m'\n",
    "   BOLD = '\\033[1m'\n",
    "   END = '\\033[0m'"
   ]
  },
  {
   "cell_type": "code",
   "execution_count": 168,
   "metadata": {
    "id": "UNf_tCw7VJob"
   },
   "outputs": [
    {
     "name": "stdout",
     "output_type": "stream",
     "text": [
      "           \u001b[94m\u001b[1mData Distribution of numerical attributes\u001b[0m          \n"
     ]
    },
    {
     "data": {
      "text/html": [
       "<div>\n",
       "<style scoped>\n",
       "    .dataframe tbody tr th:only-of-type {\n",
       "        vertical-align: middle;\n",
       "    }\n",
       "\n",
       "    .dataframe tbody tr th {\n",
       "        vertical-align: top;\n",
       "    }\n",
       "\n",
       "    .dataframe thead th {\n",
       "        text-align: right;\n",
       "    }\n",
       "</style>\n",
       "<table border=\"1\" class=\"dataframe\">\n",
       "  <thead>\n",
       "    <tr style=\"text-align: right;\">\n",
       "      <th></th>\n",
       "      <th>Unit price</th>\n",
       "      <th>Quantity</th>\n",
       "      <th>Total</th>\n",
       "      <th>costofgoodssold</th>\n",
       "      <th>Rating</th>\n",
       "    </tr>\n",
       "  </thead>\n",
       "  <tbody>\n",
       "    <tr>\n",
       "      <th>count</th>\n",
       "      <td>1000.000000</td>\n",
       "      <td>1000.000000</td>\n",
       "      <td>1000.000000</td>\n",
       "      <td>1000.00000</td>\n",
       "      <td>1000.00000</td>\n",
       "    </tr>\n",
       "    <tr>\n",
       "      <th>mean</th>\n",
       "      <td>55.672130</td>\n",
       "      <td>5.510000</td>\n",
       "      <td>322.966749</td>\n",
       "      <td>307.58738</td>\n",
       "      <td>6.97270</td>\n",
       "    </tr>\n",
       "    <tr>\n",
       "      <th>std</th>\n",
       "      <td>26.494628</td>\n",
       "      <td>2.923431</td>\n",
       "      <td>245.885335</td>\n",
       "      <td>234.17651</td>\n",
       "      <td>1.71858</td>\n",
       "    </tr>\n",
       "    <tr>\n",
       "      <th>min</th>\n",
       "      <td>10.080000</td>\n",
       "      <td>1.000000</td>\n",
       "      <td>10.678500</td>\n",
       "      <td>10.17000</td>\n",
       "      <td>4.00000</td>\n",
       "    </tr>\n",
       "    <tr>\n",
       "      <th>25%</th>\n",
       "      <td>32.875000</td>\n",
       "      <td>3.000000</td>\n",
       "      <td>124.422375</td>\n",
       "      <td>118.49750</td>\n",
       "      <td>5.50000</td>\n",
       "    </tr>\n",
       "    <tr>\n",
       "      <th>50%</th>\n",
       "      <td>55.230000</td>\n",
       "      <td>5.000000</td>\n",
       "      <td>253.848000</td>\n",
       "      <td>241.76000</td>\n",
       "      <td>7.00000</td>\n",
       "    </tr>\n",
       "    <tr>\n",
       "      <th>75%</th>\n",
       "      <td>77.935000</td>\n",
       "      <td>8.000000</td>\n",
       "      <td>471.350250</td>\n",
       "      <td>448.90500</td>\n",
       "      <td>8.50000</td>\n",
       "    </tr>\n",
       "    <tr>\n",
       "      <th>max</th>\n",
       "      <td>99.960000</td>\n",
       "      <td>10.000000</td>\n",
       "      <td>1042.650000</td>\n",
       "      <td>993.00000</td>\n",
       "      <td>10.00000</td>\n",
       "    </tr>\n",
       "  </tbody>\n",
       "</table>\n",
       "</div>"
      ],
      "text/plain": [
       "        Unit price     Quantity        Total  costofgoodssold      Rating\n",
       "count  1000.000000  1000.000000  1000.000000       1000.00000  1000.00000\n",
       "mean     55.672130     5.510000   322.966749        307.58738     6.97270\n",
       "std      26.494628     2.923431   245.885335        234.17651     1.71858\n",
       "min      10.080000     1.000000    10.678500         10.17000     4.00000\n",
       "25%      32.875000     3.000000   124.422375        118.49750     5.50000\n",
       "50%      55.230000     5.000000   253.848000        241.76000     7.00000\n",
       "75%      77.935000     8.000000   471.350250        448.90500     8.50000\n",
       "max      99.960000    10.000000  1042.650000        993.00000    10.00000"
      ]
     },
     "execution_count": 168,
     "metadata": {},
     "output_type": "execute_result"
    }
   ],
   "source": [
    "#Distribution Of numerical Data\n",
    "distTxt = color.BLUE + color.BOLD + \"Data Distribution of numerical attributes\" + color.END\n",
    "print(distTxt.center(75))\n",
    "df.describe()"
   ]
  },
  {
   "cell_type": "code",
   "execution_count": 169,
   "metadata": {},
   "outputs": [
    {
     "name": "stdout",
     "output_type": "stream",
     "text": [
      "                      \u001b[94m\u001b[1mData Distribution of categorical attributes\u001b[0m                      \n"
     ]
    },
    {
     "data": {
      "text/html": [
       "<div>\n",
       "<style scoped>\n",
       "    .dataframe tbody tr th:only-of-type {\n",
       "        vertical-align: middle;\n",
       "    }\n",
       "\n",
       "    .dataframe tbody tr th {\n",
       "        vertical-align: top;\n",
       "    }\n",
       "\n",
       "    .dataframe thead th {\n",
       "        text-align: right;\n",
       "    }\n",
       "</style>\n",
       "<table border=\"1\" class=\"dataframe\">\n",
       "  <thead>\n",
       "    <tr style=\"text-align: right;\">\n",
       "      <th></th>\n",
       "      <th>Invoice ID</th>\n",
       "      <th>Branch</th>\n",
       "      <th>City</th>\n",
       "      <th>Customer type</th>\n",
       "      <th>Gender</th>\n",
       "      <th>Product line</th>\n",
       "      <th>Date</th>\n",
       "      <th>Time</th>\n",
       "      <th>Payment</th>\n",
       "    </tr>\n",
       "  </thead>\n",
       "  <tbody>\n",
       "    <tr>\n",
       "      <th>count</th>\n",
       "      <td>1000</td>\n",
       "      <td>1000</td>\n",
       "      <td>1000</td>\n",
       "      <td>1000</td>\n",
       "      <td>1000</td>\n",
       "      <td>1000</td>\n",
       "      <td>1000</td>\n",
       "      <td>1000</td>\n",
       "      <td>1000</td>\n",
       "    </tr>\n",
       "    <tr>\n",
       "      <th>unique</th>\n",
       "      <td>1000</td>\n",
       "      <td>3</td>\n",
       "      <td>3</td>\n",
       "      <td>2</td>\n",
       "      <td>2</td>\n",
       "      <td>6</td>\n",
       "      <td>89</td>\n",
       "      <td>506</td>\n",
       "      <td>3</td>\n",
       "    </tr>\n",
       "    <tr>\n",
       "      <th>top</th>\n",
       "      <td>438-23-1242</td>\n",
       "      <td>A</td>\n",
       "      <td>Yangon</td>\n",
       "      <td>Member</td>\n",
       "      <td>Female</td>\n",
       "      <td>Fashion accessories</td>\n",
       "      <td>02-07-2019</td>\n",
       "      <td>19:48</td>\n",
       "      <td>Ewallet</td>\n",
       "    </tr>\n",
       "    <tr>\n",
       "      <th>freq</th>\n",
       "      <td>1</td>\n",
       "      <td>340</td>\n",
       "      <td>340</td>\n",
       "      <td>501</td>\n",
       "      <td>501</td>\n",
       "      <td>178</td>\n",
       "      <td>20</td>\n",
       "      <td>7</td>\n",
       "      <td>345</td>\n",
       "    </tr>\n",
       "  </tbody>\n",
       "</table>\n",
       "</div>"
      ],
      "text/plain": [
       "         Invoice ID Branch    City Customer type  Gender         Product line  \\\n",
       "count          1000   1000    1000          1000    1000                 1000   \n",
       "unique         1000      3       3             2       2                    6   \n",
       "top     438-23-1242      A  Yangon        Member  Female  Fashion accessories   \n",
       "freq              1    340     340           501     501                  178   \n",
       "\n",
       "              Date   Time  Payment  \n",
       "count         1000   1000     1000  \n",
       "unique          89    506        3  \n",
       "top     02-07-2019  19:48  Ewallet  \n",
       "freq            20      7      345  "
      ]
     },
     "execution_count": 169,
     "metadata": {},
     "output_type": "execute_result"
    }
   ],
   "source": [
    "#Distribution Of categorical Data\n",
    "distTxt = color.BLUE + color.BOLD + \"Data Distribution of categorical attributes\" + color.END\n",
    "print(distTxt.center(100))\n",
    "df.describe(include=[\"O\"])"
   ]
  },
  {
   "cell_type": "markdown",
   "metadata": {
    "id": "axzewlqBVJob"
   },
   "source": [
    "#### Identify whether male/female spends more on 'Health and beauty'.Write the code below"
   ]
  },
  {
   "cell_type": "code",
   "execution_count": 170,
   "metadata": {
    "id": "LiORijHGVJob"
   },
   "outputs": [
    {
     "data": {
      "text/html": [
       "<div>\n",
       "<style scoped>\n",
       "    .dataframe tbody tr th:only-of-type {\n",
       "        vertical-align: middle;\n",
       "    }\n",
       "\n",
       "    .dataframe tbody tr th {\n",
       "        vertical-align: top;\n",
       "    }\n",
       "\n",
       "    .dataframe thead th {\n",
       "        text-align: right;\n",
       "    }\n",
       "</style>\n",
       "<table border=\"1\" class=\"dataframe\">\n",
       "  <thead>\n",
       "    <tr style=\"text-align: right;\">\n",
       "      <th></th>\n",
       "      <th>Gender</th>\n",
       "      <th>Total</th>\n",
       "    </tr>\n",
       "  </thead>\n",
       "  <tbody>\n",
       "    <tr>\n",
       "      <th>1</th>\n",
       "      <td>Male</td>\n",
       "      <td>30632.75</td>\n",
       "    </tr>\n",
       "    <tr>\n",
       "      <th>0</th>\n",
       "      <td>Female</td>\n",
       "      <td>18560.99</td>\n",
       "    </tr>\n",
       "  </tbody>\n",
       "</table>\n",
       "</div>"
      ],
      "text/plain": [
       "   Gender     Total\n",
       "1    Male  30632.75\n",
       "0  Female  18560.99"
      ]
     },
     "execution_count": 170,
     "metadata": {},
     "output_type": "execute_result"
    }
   ],
   "source": [
    "# Filtering out only the \"Health and beauty\" Product line values from the dataset\n",
    "dfc = df.loc[df['Product line'] == 'Health and beauty']\n",
    "\n",
    "# Grouping by Gender and calculating \"Spends\" by summing the \"Total\" field\n",
    "dfCat = dfc[['Gender','Total']].groupby(['Gender'],as_index=False).sum().round(2)\n",
    "\n",
    "# Sorting the results in decreasing order\n",
    "dfCat.sort_values(by='Total', ascending=False)"
   ]
  },
  {
   "cell_type": "markdown",
   "metadata": {},
   "source": [
    "Male spends more on Health and Beauty"
   ]
  },
  {
   "cell_type": "markdown",
   "metadata": {
    "id": "92Fbkr8oVJoc"
   },
   "source": [
    "# Visualisation Questions - 2 X 5 = 10 Marks"
   ]
  },
  {
   "cell_type": "markdown",
   "metadata": {
    "id": "l-u-4dwdVJoc"
   },
   "source": [
    "### Question 1\n",
    "<h4>Check the distribution of the Price variable .<br><br>\n",
    "    Write the python code in the below cell to create appropriate visual to perform the above task.\n",
    "<h4>Answer in markdown cells below the visual <br><br>\n",
    "    1.Summarise your findings from the visual..<br>\n",
    "    2.The reason for selecting the chart type you did <br>\n",
    "    3.Mention the pre-attentive attributes used.(atleast 2)<br>\n",
    "    4.Mention the gestalt principles used.(atleast 2)<br>\n",
    "   "
   ]
  },
  {
   "cell_type": "code",
   "execution_count": 420,
   "metadata": {
    "id": "qAbbLqgQVJoc"
   },
   "outputs": [
    {
     "data": {
      "text/plain": [
       "Text(0.5, 0, 'Unit Price')"
      ]
     },
     "execution_count": 420,
     "metadata": {},
     "output_type": "execute_result"
    },
    {
     "data": {
      "image/png": "[encoded data removed]",
      "text/plain": [
       "<Figure size 504x432 with 1 Axes>"
      ]
     },
     "metadata": {
      "needs_background": "light"
     },
     "output_type": "display_data"
    },
    {
     "data": {
      "text/plain": [
       "<Figure size 72x360 with 0 Axes>"
      ]
     },
     "metadata": {},
     "output_type": "display_data"
    }
   ],
   "source": [
    "# Creating copy of dataframe\n",
    "dfc1 = df.copy()\n",
    "\n",
    "# Defining color schemes\n",
    "clrScheme1Highlight = '#ca472f'\n",
    "clrScheme1Muted = '#fccdc6'\n",
    "clrScheme1MildMuted = '#ca472f'\n",
    "\n",
    "# Distribution of Unit Price (continuos) varaible\n",
    "fig, ax = plt.subplots(figsize=(7, 6))\n",
    "ax1 = sns.histplot(data=dfc1['Unit price'], bins=10, kde=True,\n",
    "                   ax=ax, color=clrScheme1Muted, linewidth=1, edgecolor='white')\n",
    "ax1.lines[0].set_color(clrScheme1Highlight)\n",
    "\n",
    "# Setting the title for the graph\n",
    "plt.title(\"Price Variable Distribution\", size=16, y=1.05)\n",
    "mean=dfc1['Unit price'].mean()\n",
    "plt.axvline(mean, color='y', linestyle='--', label=\"Mean\")\n",
    "median=dfc1['Unit price'].median()\n",
    "plt.axvline(median, color='g', linestyle='--', label=\"Median\")\n",
    "plt.legend()\n",
    "\n",
    "# Setting graph size\n",
    "plt.figure(figsize=(1,5))\n",
    "\n",
    "# GRAPH CURATION\n",
    "# ---- 1) Removing unneccesary chart Borders ----\n",
    "sns.despine(right=True, top=True, ax=ax)\n",
    "\n",
    "# ---- 3) Removing unneccesary tick marks ----\n",
    "ax1.tick_params(left=False, bottom=False)\n",
    "\n",
    "# ---- 4) Muting x,y values ----\n",
    "ax1.tick_params(axis='x', colors=clrScheme1MildMuted)\n",
    "ax1.tick_params(axis='y', colors=clrScheme1MildMuted)\n",
    "\n",
    "# ---- 5) Muting x,y axes ----\n",
    "ax1.spines['left'].set_color(clrScheme1MildMuted)\n",
    "ax1.spines['bottom'].set_color(clrScheme1MildMuted)\n",
    "\n",
    "# ---- 6) Muting x,y axis labels ----\n",
    "ax.xaxis.label.set_color(clrScheme1MildMuted)\n",
    "ax.yaxis.label.set_color(clrScheme1MildMuted)\n",
    "\n",
    "# ---- 7) Changing x,y axis labels and size ----\n",
    "ax.set_xlabel(\"Unit Price\",fontsize=14)"
   ]
  },
  {
   "cell_type": "markdown",
   "metadata": {},
   "source": [
    "<div style=\"color: #2f80d0\">\n",
    "<b>Q1. Summarise your findings from the visual.</b><br>\n",
    "<b>Ans:</b> The graph for Price Variable Dictribution has a Normal Distribution - as the mean and median in the histogram are at center  of the distribution<br><br>\n",
    "\n",
    "<b>Q2. The reason for selecting the chart type you did</b><br>\n",
    "<b>Ans:</b> We can use either Histogram or Box Plot for analysing the distribution of Data. We used Histogram here as the shape of the Histogram trend line details the data’s distribution whether it is skewed or a normal distribution. And if the mean and the median lines coincide, it shows the data is normally distributed.<br><br>\n",
    "\n",
    "<b>Q3. Mention the pre-attentive attributes used.(atleast 2)</b><br>\n",
    "<b>Ans:</b> Preattentive attributes used:<br>\n",
    "<i>a) Color:</i> The preattentive attribute color of trend line, mean line, median lines are catchy to the audiance eyes.<br>\n",
    "<i>b) Contrast:</i> The preattentive attribute contrast helps focus on line than that in the Background<br>\n",
    "<i>c) Size:</i> Size of x,y labels are catchy, hence they form the preattentive attribute<br><br>\n",
    "\n",
    "<b>Q4. Mention the gestalt principles used.(atleast 2)</b><br>\n",
    "<b>Ans:</b> Gestalt Principles used:<br>\n",
    "<i>a) Law of Continuity:</i> The mean and median lines in the graph are dotted but they give a feel of a continuous line hence following the Gestalt's law of continuity<br>\n",
    "<i>b) Law of Focal Point:</i> The trend line is highlighted and the bars muted indicating the Gestalt's Law of Focal Point.<br>\n",
    "<i>c) Law of Figure and Ground:</i> The trend line is in foreground with the histogram bars muted implying the application of Gestalt's Law of Figure and Ground.<br>\n",
    "</div>"
   ]
  },
  {
   "cell_type": "markdown",
   "metadata": {
    "id": "j5A0UfH_VJod"
   },
   "source": [
    "### Question 2\n",
    "<h4>What does the distribution of customer rating looks like?Draw the mean,25th and 75th percentile on the plot.<br><br>\n",
    "    Write the python code in the below cell to create the appropriate visual to perform the above task .\n",
    "<h4>Answer in markdown cells below the visual <br><br>\n",
    "    1.Summarise your findings from the visual.<br>\n",
    "    2.The reason for selecting the chart type you did <br>\n",
    "    3.Mention the pre-attentive attributes used.(atleast 2)<br>\n",
    "    4.Mention the gestalt principles used.(atleast 2)<br>  \n",
    "   "
   ]
  },
  {
   "cell_type": "code",
   "execution_count": 328,
   "metadata": {
    "id": "rmnKt-t9VJod"
   },
   "outputs": [
    {
     "data": {
      "text/plain": [
       "Text(0.5, 0, 'Rating')"
      ]
     },
     "execution_count": 328,
     "metadata": {},
     "output_type": "execute_result"
    },
    {
     "data": {
      "image/png": "[encoded data removed]",
      "text/plain": [
       "<Figure size 792x216 with 1 Axes>"
      ]
     },
     "metadata": {},
     "output_type": "display_data"
    }
   ],
   "source": [
    "# Creating copy of dataframe\n",
    "dfc2 = df.copy()\n",
    "\n",
    "# Distribution of Unit Price (continuos) varaible\n",
    "fig, ax = plt.subplots(figsize=(11, 3))\n",
    "\n",
    "# Plotting te box plot\n",
    "ax2 = sns.boxplot(x=dfc2['Rating'], color='white', showmeans=True, meanline=True,\n",
    "                  meanprops={\"marker\":\"o\", \"markerfacecolor\":\"#216d41\", \"markersize\":\"5\"})\n",
    "\n",
    "mean = round(dfc2['Rating'].mean(), 2)\n",
    "pctle25 = round(dfc2['Rating'].quantile(0.25), 2)\n",
    "pctle75 = round(dfc2['Rating'].quantile(0.75), 2)\n",
    "iqr = pctle75 - pctle25\n",
    "\n",
    "# Setting the title for the graph\n",
    "plt.title(\"Rating Distribution\", size=16, y=1.05)\n",
    "\n",
    "size = 12\n",
    "xoffsetLabel25p = 1.1\n",
    "xoffsetLabel75p = 0.15\n",
    "\n",
    "ax2.annotate(mean, xy=(mean + 0.05, -0.43), ha='center', fontsize=size, color='#216d41')\n",
    "ax2.annotate(pctle25, xy=(pctle25, 0.5), ha='center', va='bottom', fontsize=size)\n",
    "ax2.annotate(pctle75, xy=(pctle75 + 1, 0.5), ha='center', va='bottom', fontsize=size)\n",
    "\n",
    "ax2.annotate('Mean: ', xy =(mean - 0.6, -0.43), xytext =(mean - 0.5, -0.43), fontsize=size, color='#216d41')\n",
    "ax2.annotate('25th Percentile: ', xy =(pctle25 - xoffsetLabel25p, 0.48), xytext =(pctle25 - xoffsetLabel25p, 0.48), fontsize=size)\n",
    "ax2.annotate('75th Percentile: ', xy =(pctle75 - xoffsetLabel75p, 0.48), xytext =(pctle75 - xoffsetLabel75p, 0.48), fontsize=size)\n",
    "\n",
    "# Annote with mute color the whiskers\n",
    "clrScheme1MildMuted = '#bfbdbd'\n",
    "\n",
    "# GRAPH CURATION\n",
    "# ---- 1) Removing unneccesary chart Borders ----\n",
    "sns.despine(right=True, left=True, top=True, bottom=False, ax=ax2)\n",
    "\n",
    "# ---- 2) Removing unneccesary tick marks ----\n",
    "ax2.tick_params(bottom=False)\n",
    "\n",
    "# ---- 3) Muting x values ----\n",
    "ax2.tick_params(axis='x', colors=clrScheme1MildMuted)\n",
    "\n",
    "# ---- 4) Muting x axes ----\n",
    "ax2.spines['bottom'].set_color(clrScheme1MildMuted)\n",
    "\n",
    "# ---- 5) Changing x,y axis labels and size ----\n",
    "ax.set_xlabel(\"Rating\", fontsize= size + 2, color=clrScheme1MildMuted)"
   ]
  },
  {
   "cell_type": "markdown",
   "metadata": {},
   "source": [
    "<div style=\"color: #2f80d0\">\n",
    "<b>Q1. Summarise your findings from the visual.</b><br>\n",
    "<b>Ans:</b> The graph for Rating Variable Dictribution has a Normal Distribution - as the mean and median lines in the box are very close by, at center of the distribution.<br><br>\n",
    "\n",
    "<b>Q2. The reason for selecting the chart type you did</b><br>\n",
    "<b>Ans:</b> We can use either Histogram or Box Plot for analysing the distribution of \"Ranking\" Data. We used Boxplot here as it best shows the 5 point summary of the data including the 25th percentile value, 50th percentile value (the median), 75th percentile value etc. And as the mean and the median lines coincide, it shows the data is normally distributed.<br><br>\n",
    "\n",
    "<b>Q3. Mention the pre-attentive attributes used.(atleast 2)</b><br>\n",
    "<b>Ans:</b> Preattentive attributes used:<br>\n",
    "<i>a) Color:</i> The preattentive attribute color of Mean line are catchy to the audiance eyes.<br>\n",
    "<i>b) Contrast:</i> The preattentive attribute constrast helps focus on Boxplot by bringing the axis labels, the secondary info, to the Background<br>\n",
    "<i>c) Size:</i> Size of x labels are catchy, hence they form the preattentive attribute<br><br>\n",
    "\n",
    "<b>Q4. Mention the gestalt principles used.(atleast 2)</b><br>\n",
    "<b>Ans:</b> Gestalt Principles used:<br>\n",
    "<i>a) Law of Continuity:</i> The mean line in the graph are dotted but they give a feel of a continuous line hence following the Gestalt's law of continuity<br>\n",
    "<i>b) Law of Similarity:</i> The color of label indicating the mean uses the Gestalt's Law of Similarity as both the line and the label text are of same color.<br>\n",
    "<i>c) Law of Proximity:</i> The text labels for the 25th percentile, 75th percentile and the mean text are closer to the respective lines, hence employing the Gestalt's Law of Proximity.<br>\n",
    "</div>"
   ]
  },
  {
   "cell_type": "markdown",
   "metadata": {
    "id": "__-le91tVJod"
   },
   "source": [
    "### Question 3\n",
    "<h4>For each payment method,compare the product lines.Does any stand out?.<br><br>\n",
    "    Write the python code in the below cell to create appropriate visual to perform the above task.\n",
    "<h4>Answer in markdown cells below the visual <br><br>\n",
    "    1.Summarise your findings from the visual.<br>\n",
    "    2.The reason for selecting the chart type you did <br>\n",
    "    3.Mention the pre-attentive attributes used.(atleast 2)<br>\n",
    "    4.Mention the gestalt principles used.(atleast 2)<br>\n",
    "    "
   ]
  },
  {
   "cell_type": "code",
   "execution_count": 350,
   "metadata": {},
   "outputs": [],
   "source": [
    "# Function to Annotating labels\n",
    "def show_values(axs, orient=\"v\", space=.01):\n",
    "    def _single(ax):\n",
    "        j=0\n",
    "        highlightValuess = [0, 5, 7]\n",
    "        for p in ax.patches:\n",
    "            _x = p.get_x() + p.get_width() / 2\n",
    "            _y = p.get_y() + p.get_height() + (p.get_height()*0.01)\n",
    "            value = '{:.0f}'.format(p.get_height())\n",
    "\n",
    "            # Muting other marker labels\n",
    "            if(j not in highlightValuess):\n",
    "                ax.text(_x, _y, value, ha=\"center\", size=12, color='#b6b6b6')\n",
    "\n",
    "            # Highlighting values\n",
    "            if(j in highlightValuess):\n",
    "                ax.text(_x, _y, value, ha=\"center\", size=14, color='red')\n",
    "                ax.annotate(\" - Max\", xy=(_x + 0.1, _y), ha='center', fontsize=size, color='red')\n",
    "            \n",
    "            j = j + 1\n",
    "\n",
    "    if isinstance(axs, np.ndarray):\n",
    "        for idx, ax in np.ndenumerate(axs):\n",
    "            _single(ax)\n",
    "    else:\n",
    "        _single(axs)"
   ]
  },
  {
   "cell_type": "code",
   "execution_count": 421,
   "metadata": {},
   "outputs": [
    {
     "data": {
      "text/plain": [
       "<seaborn.axisgrid.FacetGrid at 0x20972e17e80>"
      ]
     },
     "execution_count": 421,
     "metadata": {},
     "output_type": "execute_result"
    },
    {
     "data": {
      "image/png": "[encoded data removed]",
      "text/plain": [
       "<Figure size 866.5x360 with 1 Axes>"
      ]
     },
     "metadata": {
      "needs_background": "light"
     },
     "output_type": "display_data"
    }
   ],
   "source": [
    "# Preparing the dataset\n",
    "dfc3Cat = df[['Payment','Product line','Invoice ID']].groupby(['Payment','Product line'],as_index=False).count()\n",
    "\n",
    "# Plotting graph with the dataset\n",
    "ax3 = sns.catplot(data=dfc3Cat, y='Invoice ID', x='Payment', kind='bar',\n",
    "                hue='Product line', height=5, aspect=2, palette=\"Set3\")\n",
    "\n",
    "# Setting the title for the graph\n",
    "plt.title(\"Payment Method Preference in Product Line\", size=16, y=2.05)\n",
    "\n",
    "# Mark labels barplot\n",
    "show_values(ax3.axes[0,0])\n",
    "\n",
    "# GRAPH CURATION\n",
    "# ---- 1) Removing tickmarks ----\n",
    "plt.tick_params(left=False, bottom=False)\n",
    "\n",
    "# ---- 2) Removing unneccesary chart Borders ----\n",
    "sns.despine(right=True, left=True, top=True, bottom=True)\n",
    "\n",
    "# ---- 3) Removing x values ----\n",
    "ax3.set(yticklabels=[])\n",
    "\n",
    "# ---- 4) Removing x,y labels ----\n",
    "ax3.set(xlabel=None)\n",
    "ax3.set(ylabel=None)\n",
    "\n"
   ]
  },
  {
   "cell_type": "markdown",
   "metadata": {},
   "source": [
    "<div style=\"color: #2f80d0\">\n",
    "<b>Q1. Summarise your findings from the visual.</b><br>\n",
    "<b>Ans:</b> When comparing the \"Payment method Preferences\" in the Product Line, the graph shows:<br>\n",
    "<i>a) Cash is the most preferred mode of payment for \"Electronic accessories\" whereas least in 'Health and beauty'</i><br>\n",
    "<i>b) Credit Card is the most preferred mode of payment for \"Food and Beverages\" whereas least is 'Home and Lifestyle'</i><br>\n",
    "<i>c) Ewallet is the most preferred mode of payment for \"Fashion Accessories\" whereas least is in 'Home and Lifestyle'</i><br><br>\n",
    " \n",
    "\n",
    "<b>Q2. The reason for selecting the chart type you did</b><br>\n",
    "<b>Ans:</b> For categorical Data bar graphs are best to do the comparison between the values, here we want to compare the mode of payment in the various product lines. For that, the Bar Graph is best choice. Bar plots are multi-purpose, highly customizable, visually compelling and easy to interpret. We could easily compare the different product lines across payment methods with bar plot.<br><br>\n",
    "\n",
    "<b>Q3. Mention the pre-attentive attributes used.(atleast 2)</b><br>\n",
    "<b>Ans:</b> Preattentive attributes used:<br>\n",
    "<i>a) Color:</i> The preattentive attribute color with text label \"Max\" is catchy to find the maximum value at a glance.<br>\n",
    "<i>b) Contrast:</i> The preattentive attribute constrast helps focus on Maximum value easily and muting the other bar label values in the background<br>\n",
    "<i>c) Size:</i> Size of bar value labels are catchy for the maximum values, hence they form the preattentive attribute<br><br>\n",
    "\n",
    "<b>Q4. Mention the gestalt principles used.(atleast 2)</b><br>\n",
    "<b>Ans:</b> Gestalt Principles used:<br>\n",
    "<i>a) Law of Proximity:</i> The label values are closer to the bars in the bar chart, hence following the Gestalt's law of Proximity.<br>\n",
    "<i>b) Law of Enclosure:</i> There are no Chart border, still it gives a feeling of being one enclosed entity hence employing the Gestalt's Law of Enclosure.<br>\n",
    "<i>c) Law of Continuity:</i> The X-axis are removed in the bar plot, still it feels to be starting at a common point due to the Gestalt's Law of Continuity<br><br>\n",
    "</div>"
   ]
  },
  {
   "cell_type": "markdown",
   "metadata": {
    "id": "5zAUjlKmVJoe"
   },
   "source": [
    "### Question 4\n",
    "<h4>Identify,which is the most appropriate time(hour) to give online disounts?<br><br>\n",
    "    Write the python code in the below cell to create the appropriate visual(single visual) to perform the above task .(Prep the data as necessary)\n",
    "<h4>Answer in markdown cells below the visual <br><br>\n",
    "    1.Summarise your findings from the visual.<br>\n",
    "    2.The reason for selecting the chart type you did <br>\n",
    "    3.Mention the pre-attentive attributes used.(atleast 2)<br>\n",
    "    4.Mention the gestalt principles used.(atleast 2)<br>\n",
    "    "
   ]
  },
  {
   "cell_type": "code",
   "execution_count": 269,
   "metadata": {},
   "outputs": [
    {
     "data": {
      "image/png": "[encoded data removed]",
      "text/plain": [
       "<Figure size 792x360 with 1 Axes>"
      ]
     },
     "metadata": {
      "needs_background": "dark"
     },
     "output_type": "display_data"
    }
   ],
   "source": [
    "# Reading date values from the dataset and process\n",
    "df4 = pd.read_csv('dvi-a2-ps7-data.csv', parse_dates=['Time'])\n",
    "df4['hour'] = pd.to_datetime(df4['Time'], format='%H:%M').dt.hour\n",
    "answers = df4.groupby(pd.Grouper(key='Time',freq='H')).mean()\n",
    "dates = answers.index.hour\n",
    "sums = answers['Total']\n",
    "\n",
    "# Defining plot size\n",
    "fig, ax4 = plt.subplots(figsize=(11, 5))\n",
    "\n",
    "# Plotting the graph\n",
    "plt.plot(dates, sums, linewidth=2, marker ='.', color='orange')\n",
    "plt.gcf().autofmt_xdate()\n",
    "plt.xticks(np.arange(min(dates), max(dates)+1, 1))\n",
    "plt.xticks(rotation=0)\n",
    "\n",
    "# Adding title\n",
    "ax4.set_title(\"Total over Time\", size=16, y=1.05)\n",
    "\n",
    "# Calculating min and max values for deciding discoutn point\n",
    "maxVal = round(sums.max(), 2)\n",
    "minVal = round(sums.min(), 2)\n",
    "\n",
    "# Defining Colors\n",
    "highlightMarkerClr = 'darkgreen'\n",
    "lightLabelClr = '#ffd487'\n",
    "lightAxisClr = '#ffd487'\n",
    "fAxissize = 13\n",
    "\n",
    "# GRAPH CURATION\n",
    "# ---- 1) Adding annotations to the bars in graph ----\n",
    "for index in range(len(sums)):\n",
    "    ax4.text(dates[index] + 0.1, sums[index], round(sums[index], 2),\n",
    "            size=11, color=lightLabelClr)\n",
    "    \n",
    "    # ---- 2) Highlighting Min Max values ----\n",
    "    if (round(sums[index], 2) == maxVal):\n",
    "        ax4.plot(dates[index], sums[index], 'ro', color=highlightMarkerClr)\n",
    "        ax4.text(dates[index] + 0.1, sums[index], round(sums[index], 2),\n",
    "            size=11, color=highlightMarkerClr)\n",
    "        ax4.annotate(\" - Discount Point\", xy=(dates[index] + 1.7, sums[index]),\n",
    "            ha='center', fontsize=size, color=highlightMarkerClr)\n",
    "        \n",
    "    if (round(sums[index], 2) == minVal):\n",
    "        ax4.plot(dates[index], sums[index], 'ro', color=highlightMarkerClr)\n",
    "        ax4.text(dates[index] + 0.1, sums[index], round(sums[index], 2),\n",
    "            size=11, color=highlightMarkerClr)\n",
    "        ax4.annotate(\" - Discount Point\", xy=(dates[index] + 1.5, sums[index]),\n",
    "            ha='center', fontsize=size, color=highlightMarkerClr)\n",
    "\n",
    "# ---- 3) Changing x,y axis labels and size ----\n",
    "ax4.set_xlabel(\"Time (in Hour)\", fontsize= fAxissize + 2, color='darkorange')\n",
    "ax4.set_ylabel(\"Total\", fontsize= fAxissize + 2, color=lightAxisClr)\n",
    "\n",
    "# ---- 4) Removing unneccesary chart Borders ----\n",
    "sns.despine(right=True, left=True, top=True, bottom=False)\n",
    "\n",
    "# ---- 5) Removing unneccesary tick marks ----\n",
    "ax4.tick_params(left=False, bottom=False)\n",
    "\n",
    "# ---- 6) Removing x values ----\n",
    "ax4.set(yticklabels=[])\n",
    "\n",
    "# ---- 7) Removing y labels ----\n",
    "ax4.set(ylabel=None)\n",
    "\n",
    "# ---- 6) Muting x axis and values ----\n",
    "ax4.spines['bottom'].set_color('darkorange')\n",
    "ax4.tick_params(colors='darkorange')\n",
    "\n",
    "# Show the plot\n",
    "plt.show()\n"
   ]
  },
  {
   "cell_type": "markdown",
   "metadata": {},
   "source": [
    "<div style=\"color: #2f80d0\">\n",
    "<b>Q1. Summarise your findings from the visual.</b><br>\n",
    "<b>Ans:</b> The most appropriate time to introduce discounts is when the total value of the transactions, averaged in an hour is:<br>\n",
    "<i>a) At the 18th hour (6 pm), when the minimum value of transactions is 279.9, so that audiance gets encouraged to purchase more products when the sales are minimum and hence we have a better utilization of the resources</i><br>\n",
    "<i>b) Or, we can intorduce Discount when the total sale values are at its peak to attract more audiance.</i><br>\n",
    "Concluding: People purchase more at 14th hour and purchase least at 18th hour. So online discounts can be given at 18th hour to increase sales or at 14th hour.<br><br>\n",
    "\n",
    "<b>Q2. The reason for selecting the chart type you did</b><br>\n",
    "<b>Ans:</b> A trendline helps technical analysts determine the current direction in total prices. Tendlines can be used to gain more insight and make better decisions. Line plots are best to show time series tends. Here we want to find the best time to introduce discounts by comparing total sales over time hence the line chart is the best option here. <br><br>\n",
    "\n",
    "<b>Q3. Mention the pre-attentive attributes used.(atleast 2)</b><br>\n",
    "<b>Ans:</b> Preattentive attributes used:<br>\n",
    "<i>a) Color:</i> The preattentive attribute color with text label \"Discount\" is catchy to find the maximum and minimum Sales value at a glance.<br>\n",
    "<i>b) Contrast:</i> The preattentive attribute constrast helps focus on highlighted value easily and muting the other marker values in the background<br>\n",
    "<i>c) Size:</i> Size of xaxis labels are catchy, hence they form the preattentive attribute<br><br>\n",
    "\n",
    "<b>Q4. Mention the gestalt principles used.(atleast 2)</b><br>\n",
    "<b>Ans:</b> Gestalt Principles used:<br>\n",
    "<i>a) Law of Proximity:</i> The label values are closer to the line markers in the line plot, hence following the Gestalt's law of Proximity.<br>\n",
    "<i>b) Law of Similarity:</i> The label text and the label markers are having same colors, hence following the Gestalt's Law of Continuity<br>\n",
    "<i>c) Law of Enclosure:</i> There are no Chart border, still it gives a feeling of being one enclosed entity hence employing the Gestalt's Law of Enclosure.<br><br>\n",
    "</div>"
   ]
  },
  {
   "cell_type": "markdown",
   "metadata": {
    "id": "iVd8BgfqVJoe"
   },
   "source": [
    "### Question 5"
   ]
  },
  {
   "cell_type": "markdown",
   "metadata": {
    "id": "ZMaWvxZMVJoe"
   },
   "source": [
    "<h4>Which product line is more profitable?<br><br>\n",
    "    Write the python code in the below cell to create the appropriate visual(single visual) to perform the above task .(Prep the data as necessary)\n",
    "<h4>Answer in markdown cells below the visual <br><br>\n",
    "    1.Summarise your findings from the visual.<br>\n",
    "    2.The reason for selecting the chart type you did <br>\n",
    "    3.Mention the pre-attentive attributes used.(atleast 2)<br>\n",
    "    4.Mention the gestalt principles used.(atleast 2)<br>\n",
    "    "
   ]
  },
  {
   "cell_type": "code",
   "execution_count": 326,
   "metadata": {
    "id": "9rYIUwX4VJof"
   },
   "outputs": [
    {
     "data": {
      "text/plain": [
       "[Text(0, 0.5, '')]"
      ]
     },
     "execution_count": 326,
     "metadata": {},
     "output_type": "execute_result"
    },
    {
     "data": {
      "image/png": "[encoded data removed]",
      "text/plain": [
       "<Figure size 720x288 with 1 Axes>"
      ]
     },
     "metadata": {
      "needs_background": "light"
     },
     "output_type": "display_data"
    }
   ],
   "source": [
    "# Creating a copy of the dataframe\n",
    "dfc5 = df.copy()\n",
    "\n",
    "# Calculating profit = Total - costofgoodssold\n",
    "dfc5['Profit'] = dfc5['Total'] - dfc5['costofgoodssold']\n",
    "\n",
    "# Preparing data for display\n",
    "dfc5Cat = dfc5[['Product line','Profit']].groupby(['Product line'],as_index=False).sum().round(2)\n",
    "\n",
    "\n",
    "# Colors for the bar graph\n",
    "highLightColor = '#116ab4'\n",
    "mutedColor = '#9dc9ee'\n",
    "\n",
    "# Sorting the results in decreasing order\n",
    "dfc5Cat = dfc5Cat.sort_values(by='Profit', ascending=False)\n",
    "\n",
    "# Plotting bar graph\n",
    "values = dfc5Cat['Profit']\n",
    "clrs = [mutedColor if (x < max(values)) else highLightColor for x in values ]\n",
    "plt.figure(figsize=(10,4))\n",
    "plots = sns.barplot(x=\"Profit\", y=\"Product line\", data=dfc5Cat, palette=clrs)\n",
    " \n",
    "# Setting the title for the graph\n",
    "plt.title(\"Product Line vs Profit\", size=16, y=1.05)\n",
    "\n",
    "\n",
    "# GRAPH CURATION\n",
    "# ---- 1) Adding annotations to the bars in graph ----\n",
    "\n",
    "i=0;\n",
    "\n",
    "# Iterrating over bars\n",
    "for bar in plots.patches:\n",
    "    \n",
    "    if (i == 0):\n",
    "        # Annotating points in the bars, fixing their position and values\n",
    "        plots.annotate(format(((bar.get_width() / 1000)), '.2f')  + ' K',\n",
    "                       (bar.get_width() * 1.01, i * (bar.get_height() + 0.2)),\n",
    "                       va='center', size=11, xytext=(0, 0), textcoords='offset points',\n",
    "                       weight='bold', color=highLightColor)\n",
    "    else:\n",
    "        # Annotating points in the bars, fixing their position and values\n",
    "        plots.annotate(format(((bar.get_width() / 1000)), '.2f')  + ' K',\n",
    "                       (bar.get_width() * 1.01, i * (bar.get_height() + 0.2)),\n",
    "                       va='center', size=11, xytext=(0, 0), textcoords='offset points',\n",
    "                       weight='normal', color=mutedColor)\n",
    "    \n",
    "    i = i + 1\n",
    "\n",
    "\n",
    "# ---- 2) Removing unneccesary chart Borders ----\n",
    "sns.despine(right=True, left=True, top=True, bottom=True)\n",
    "\n",
    "# ---- 3) Removing unneccesary tick marks ----\n",
    "plots.tick_params(left=False, bottom=False)\n",
    "\n",
    "# ---- 4) Removing x values ----\n",
    "plots.set(xticklabels=[])\n",
    "\n",
    "# ---- 5) Removing x,y labels ----\n",
    "plots.set(xlabel=None)\n",
    "plots.set(ylabel=None)"
   ]
  },
  {
   "cell_type": "markdown",
   "metadata": {},
   "source": [
    "<div style=\"color: #2f80d0\">\n",
    "<b>Q1. Summarise your findings from the visual.</b><br>\n",
    "<b>Ans:</b> In the bar graph of Product Line vs Profit we find the \"Food and Beverages\" product line has the most profit.<br><br>\n",
    "\n",
    "<b>Q2. The reason for selecting the chart type you did</b><br>\n",
    "<b>Ans:</b> A Bar plots are multi-purpose, highly customizable, visually compelling, easy to interpret. Hence they can be used to give a quick comparison view to the audiances.<br><br>\n",
    "\n",
    "<b>Q3. Mention the pre-attentive attributes used.(atleast 2)</b><br>\n",
    "<b>Ans:</b> Preattentive attributes used:<br>\n",
    "<i>a) Intensity:</i> The preattentive attribute Intensity is used to catch the bar with max profit easily.<br>\n",
    "<i>b) Contrast:</i> The preattentive attribute constrast helps focus on highlighted value easily and muting the other marker values in the background<br>\n",
    "<i>c) Length:</i> Length of bar catches our pre attentiveness to figure out the product line with max profit value.<br><br>\n",
    "\n",
    "<b>Q4. Mention the gestalt principles used.(atleast 2)</b><br>\n",
    "<b>Ans:</b> Gestalt Principles used:<br>\n",
    "<i>a) Law of Focal Point:</i> The bar values of the \"Food and Beverages\" are highlighted whereas the other bars muted indicating Gestalt's law of Focal point.<br>\n",
    "<i>b) Law of Similarity:</i> The label text and the bars are having same colors, hence following the Gestalt's Law of Similarity<br>\n",
    "<i>c) Law of Proximity:</i> There bar value labels are closer to the bars, hence employing the Gestalt's Law of Proximity.<br>\n",
    "</div>"
   ]
  },
  {
   "cell_type": "markdown",
   "metadata": {
    "id": "V2P_0YufVJof"
   },
   "source": [
    "# Group's choice-2 Marks\n",
    " \n",
    "#### Frame 1 (more) question which will help in the EDA(Exploratory Data Analysis) of the given data set and answer the same using the best visual.\n",
    " \n",
    " 1. Write the question in a markdown cell\n",
    " 2. Below the question,in a coding cell,write the python code to create the visual to answer the question  \n",
    "\n",
    "<h4> Answer in markdown cells below the visual <br><br>\n",
    "   1.Summarise your findings from the visual.<br>\n",
    "   2.The reason for selecting the chart type you did <br>\n",
    "   3.Mention the pre-attentive attributes used.(atleast 2)<br>\n",
    "   4.Mention the gestalt principles used.(atleast 2)<br>\n",
    "  "
   ]
  },
  {
   "cell_type": "markdown",
   "metadata": {},
   "source": [
    "### Question 6"
   ]
  },
  {
   "cell_type": "markdown",
   "metadata": {},
   "source": [
    "<h4>Compare Customer type across the branches</h4>"
   ]
  },
  {
   "cell_type": "code",
   "execution_count": 393,
   "metadata": {},
   "outputs": [],
   "source": [
    "# Function to Annotating labels\n",
    "def show_label_values(axs, orient=\"v\", space=.01):\n",
    "    def _single(ax):\n",
    "        j=0\n",
    "        highlightValuess = [0, 3]\n",
    "        for p in ax.patches:\n",
    "            _x = p.get_x() + p.get_width() / 2\n",
    "            _y = p.get_y() + p.get_height() + (p.get_height()*0.01)\n",
    "            value = '{:.0f}'.format(p.get_height())\n",
    "\n",
    "            # Muting other marker labels\n",
    "            if(j not in highlightValuess):\n",
    "                ax.text(_x, _y + 1.2, value, ha=\"center\", size=14, color='#b6b6b6')\n",
    "\n",
    "            # Highlighting values\n",
    "            if(j in highlightValuess):\n",
    "                ax.text(_x, _y + 1.2, value, ha=\"center\", size=14, color='orange', weight='bold')\n",
    "            \n",
    "            j = j + 1\n",
    "\n",
    "    if isinstance(axs, np.ndarray):\n",
    "        for idx, ax in np.ndenumerate(axs):\n",
    "            _single(ax)\n",
    "    else:\n",
    "        _single(axs)"
   ]
  },
  {
   "cell_type": "code",
   "execution_count": 422,
   "metadata": {
    "id": "WqnGFc1qVJof"
   },
   "outputs": [
    {
     "data": {
      "image/png": "[encoded data removed]",
      "text/plain": [
       "<Figure size 576x360 with 1 Axes>"
      ]
     },
     "metadata": {
      "needs_background": "light"
     },
     "output_type": "display_data"
    }
   ],
   "source": [
    "# Copying the dataset\n",
    "dfc6 = df.copy()\n",
    "\n",
    "# Preparing data for plot and plotting the graph\n",
    "dfc6Cat = dfc6[['Branch','Customer type','Invoice ID']].groupby(['Branch','Customer type'],as_index=False).count()\n",
    "colors = [\"#2a8b53\" if i == 'Normal' else \"#c4edd5\" for i in dfc6Cat['Customer type']]\n",
    "ax6 = sns.catplot(data=dfc6Cat, y='Invoice ID', x='Branch', kind='bar', hue='Customer type',\n",
    "                  height=5, aspect=2, palette=colors)\n",
    "\n",
    "# Adding title\n",
    "plt.title(\"Transactions Count In Each Branch\", size=18, y=2.4)\n",
    "\n",
    "ax6.fig.set_figwidth(8)\n",
    "ax6.fig.set_figheight(5)\n",
    "\n",
    "# GRAPH CURATION\n",
    "# ---- 1) Adding annotations to the bars in graph ----\n",
    "show_label_values(ax6.axes[0,0])\n",
    "\n",
    "# ---- 2) Removing unneccesary chart Borders ----\n",
    "sns.despine(right=True, left=True, top=True, bottom=True)\n",
    "\n",
    "# ---- 3) Removing unneccesary tick marks ----\n",
    "plt.tick_params(left=False, bottom=False)\n",
    "\n",
    "# ---- 4) Removing x values ----\n",
    "ax6.set(yticklabels=[])\n",
    "\n",
    "# ---- 5) Removing x,y labels ----\n",
    "ax6.set(ylabel=None)\n",
    "\n",
    "# ---- 6) Adding X-label size ----\n",
    "plt.xlabel('Branch', fontsize=16)\n",
    "\n",
    "plt.show()"
   ]
  },
  {
   "cell_type": "markdown",
   "metadata": {},
   "source": [
    "<div style=\"color: #2f80d0\">\n",
    "<b>Q1. Summarise your findings from the visual.</b><br>\n",
    "<b>Ans:</b> For the Transaction count in each branch graph we find that, Non-Members (Normal) do more purchases at Branches A and B than the members, hence offers can be introduced to them to get a membership and get discounts for their purchases and increasing the customer base for the organization.<br><br>\n",
    "\n",
    "<b>Q2. The reason for selecting the chart type you did</b><br>\n",
    "<b>Ans:</b> A Bar plots are multi-purpose, highly customizable, visually compelling, easy to interpret. Hence they can be used to give a quick comparison view to the audiances.<br><br>\n",
    "\n",
    "<b>Q3. Mention the pre-attentive attributes used.(atleast 2)</b><br>\n",
    "<b>Ans:</b> Preattentive attributes used:<br>\n",
    "<i>a) Color:</i> The preattentive attribute color catches our eyes to find the count of transaction of the members and the normal users.<br>\n",
    "<i>b) Contrast:</i> The preattentive attribute constrast helps focus on highlighted value easily and muting the other bar label values in the background<br>\n",
    "<i>c) Length:</i> Length of bar catches our pre attentiveness to figure out the product line with max profit value.<br><br>\n",
    "\n",
    "<b>Q4. Mention the gestalt principles used.(atleast 2)</b><br>\n",
    "<b>Ans:</b> Gestalt Principles used:<br>\n",
    "<i>a) Law of Focal Point:</i> The bar label values for \"Branch A\" are highlighted whereas the other bars values muted indicating Gestalt's law of Focal point.<br>\n",
    "<i>c) Law of Proximity:</i> There bar value labels are closer to the bars, hence employing the Gestalt's Law of Proximity.<br>\n",
    "<i>b) Law of Continuity:</i> Even though the y-axis is visibly absent, still it feels taht the bars start at a line  following the Gestalt's Law of Continuity<br>\n",
    "</div>"
   ]
  },
  {
   "cell_type": "markdown",
   "metadata": {
    "id": "YUEA7G6OVJof"
   },
   "source": [
    "<h1><center> ************ END OF ASSIGNMENT ****************</center></h1>"
   ]
  }
 ],
 "metadata": {
  "anaconda-cloud": {},
  "colab": {
   "collapsed_sections": [],
   "name": "dvi-a2-ps7.ipynb",
   "provenance": []
  },
  "kernelspec": {
   "display_name": "Python 3",
   "language": "python",
   "name": "python3"
  },
  "language_info": {
   "codemirror_mode": {
    "name": "ipython",
    "version": 3
   },
   "file_extension": ".py",
   "mimetype": "text/x-python",
   "name": "python",
   "nbconvert_exporter": "python",
   "pygments_lexer": "ipython3",
   "version": "3.8.3"
  }
 },
 "nbformat": 4,
 "nbformat_minor": 1
}
