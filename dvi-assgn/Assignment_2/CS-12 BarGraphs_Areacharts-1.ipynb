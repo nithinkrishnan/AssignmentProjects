{
 "cells": [
  {
   "cell_type": "markdown",
   "metadata": {},
   "source": [
    "# Bar chart"
   ]
  },
  {
   "cell_type": "markdown",
   "metadata": {},
   "source": [
    "## Create a simple bar chart"
   ]
  },
  {
   "cell_type": "code",
   "execution_count": 1,
   "metadata": {},
   "outputs": [],
   "source": [
    "import matplotlib.pyplot as plt\n",
    "import numpy as np\n",
    "x=np.arange(4)\n",
    "y=[12,34,31,20]"
   ]
  },
  {
   "cell_type": "code",
   "execution_count": 5,
   "metadata": {},
   "outputs": [
    {
     "data": {
      "text/plain": [
       "([<matplotlib.axis.XTick at 0x1c048f9fe50>,\n",
       "  <matplotlib.axis.XTick at 0x1c048f9fe20>,\n",
       "  <matplotlib.axis.XTick at 0x1c048f9da90>,\n",
       "  <matplotlib.axis.XTick at 0x1c048fc1340>],\n",
       " [Text(0, 0, 'a'), Text(1, 0, 'b'), Text(2, 0, 'c'), Text(3, 0, 'd')])"
      ]
     },
     "execution_count": 5,
     "metadata": {},
     "output_type": "execute_result"
    },
    {
     "data": {
      "image/png": "[encoded data removed]",
      "text/plain": [
       "<Figure size 432x288 with 1 Axes>"
      ]
     },
     "metadata": {
      "needs_background": "light"
     },
     "output_type": "display_data"
    }
   ],
   "source": [
    "plt.bar(x,y,width=0.8)\n",
    "plt.xticks(np.arange(4),('a','b','c','d'))"
   ]
  },
  {
   "cell_type": "markdown",
   "metadata": {},
   "source": [
    "__Plotting multiple sets of data__<br>\n",
    "__Hiding Y axis__\n"
   ]
  },
  {
   "cell_type": "code",
   "execution_count": 10,
   "metadata": {},
   "outputs": [
    {
     "data": {
      "image/png": "[encoded data removed]",
      "text/plain": [
       "<Figure size 432x288 with 1 Axes>"
      ]
     },
     "metadata": {
      "needs_background": "light"
     },
     "output_type": "display_data"
    }
   ],
   "source": [
    "x1=[1,3,5,7]\n",
    "x2=[2,4,6,8]\n",
    "y1=[7,7,7,7]\n",
    "y2=[17,18,29,40]\n",
    "\n",
    "b1=plt.bar(x1,y1,label='first bar')\n",
    "\n",
    "b2=plt.bar(x2,y2,label='second bar')\n",
    "\n",
    "plt.legend()\n",
    "\n",
    "for bar1 in b1:\n",
    "    yval=bar1.get_height()\n",
    "    plt.text(bar1.get_x()+(bar1.get_width()/2),yval,int(yval),va='bottom') \n",
    "\n"
   ]
  },
  {
   "cell_type": "code",
   "execution_count": 24,
   "metadata": {},
   "outputs": [
    {
     "data": {
      "image/png": "[encoded data removed]",
      "text/plain": [
       "<Figure size 432x288 with 1 Axes>"
      ]
     },
     "metadata": {
      "needs_background": "light"
     },
     "output_type": "display_data"
    }
   ],
   "source": [
    "x1=[1,5,9,13]\n",
    "y1=[7,7,7,7]\n",
    "\n",
    "x2=[2,6,10,14]\n",
    "y2=[17,18,29,40]\n",
    "\n",
    "x3=[3,7,11,15]\n",
    "y3=[19,20,31,42]\n",
    "\n",
    "x4=[4,8,12,16]\n",
    "y4=[0,0,0,0]\n",
    "\n",
    "b1=plt.bar(x1,y1,label='first bar', width=1.0)\n",
    "\n",
    "b2=plt.bar(x2,y2,label='second bar', width=1.0)\n",
    "\n",
    "b3=plt.bar(x3,y3,label='third bar', width=1.0)\n",
    "\n",
    "b4=plt.bar(x4,y4,label='third bar', width=1.0)\n",
    "\n",
    "plt.legend()\n",
    "\n",
    "for bar1 in b1:\n",
    "    yval=bar1.get_height()\n",
    "    plt.text(bar1.get_x()+(bar1.get_width()/2),yval,int(yval),va='bottom') \n",
    "\n"
   ]
  },
  {
   "cell_type": "markdown",
   "metadata": {},
   "source": [
    "# Horizontal bar graph"
   ]
  },
  {
   "cell_type": "code",
   "execution_count": 11,
   "metadata": {},
   "outputs": [
    {
     "data": {
      "text/plain": [
       "<BarContainer object of 5 artists>"
      ]
     },
     "execution_count": 11,
     "metadata": {},
     "output_type": "execute_result"
    },
    {
     "data": {
      "image/png": "[encoded data removed]",
      "text/plain": [
       "<Figure size 432x288 with 1 Axes>"
      ]
     },
     "metadata": {
      "needs_background": "light"
     },
     "output_type": "display_data"
    }
   ],
   "source": [
    "X=[28,33,43,45,57]\n",
    "Y=[\"A\",\"B\",\"C\",\"D\",\"E\"]\n",
    "\n",
    "plt.barh(Y,X)"
   ]
  },
  {
   "cell_type": "markdown",
   "metadata": {},
   "source": [
    "Sort the bars<br>\n",
    "Reverse the order"
   ]
  },
  {
   "cell_type": "code",
   "execution_count": 20,
   "metadata": {},
   "outputs": [
    {
     "name": "stdout",
     "output_type": "stream",
     "text": [
      "[(28, 'A'), (33, 'B'), (43, 'C'), (45, 'D'), (57, 'E')] [(28, 'A'), (33, 'B'), (43, 'C'), (45, 'D'), (57, 'E')] ('A', 'B', 'C', 'D', 'E') (28, 33, 43, 45, 57)\n"
     ]
    },
    {
     "name": "stderr",
     "output_type": "stream",
     "text": [
      "C:\\Users\\Admin\\AppData\\Local\\Temp\\ipykernel_11960\\751527494.py:7: MatplotlibDeprecationWarning: Adding an axes using the same arguments as a previous axes currently reuses the earlier instance.  In a future version, a new instance will always be created and returned.  Meanwhile, this warning can be suppressed, and the future behavior ensured, by passing a unique label to each axes instance.\n",
      "  ax=plt.subplot()\n"
     ]
    },
    {
     "data": {
      "image/png": "[encoded data removed]",
      "text/plain": [
       "<Figure size 432x288 with 1 Axes>"
      ]
     },
     "metadata": {
      "needs_background": "light"
     },
     "output_type": "display_data"
    }
   ],
   "source": [
    "b=zip(X,Y)\n",
    "a=sorted(zip(X,Y))\n",
    "\n",
    "\n",
    "\n",
    "y,x=zip(*sorted(zip(Y,X)))\n",
    "print(list(b),a,y,x)\n",
    "plt.barh(y,x)\n",
    "\n",
    "ax=plt.subplot()\n",
    "ax.invert_yaxis()\n"
   ]
  },
  {
   "cell_type": "code",
   "execution_count": null,
   "metadata": {},
   "outputs": [],
   "source": []
  },
  {
   "cell_type": "code",
   "execution_count": null,
   "metadata": {},
   "outputs": [],
   "source": [
    "year1=(20,35,30,35,27,27,33)\n",
    "year2=(25,39,45,25,21,29,36)\n",
    "year3=(30,43,60,15,16,24,39)\n",
    "\n",
    "\n",
    "x=np.arange(7)\n",
    "width=0.45\n",
    "\n",
    "fig,ax=plt.subplots()\n",
    "r1=ax.bar(x-width/2,year1,width,color='b', label='year1',alpha=0.8)\n",
    "r2=ax.bar(x+width/2,year2,width,color='g', label='year2', alpha=0.2)\n",
    "r2=ax.bar(x+width+2,year2,width,color='g', label='year3', alpha=0.5)\n",
    "\n",
    "plt.legend()\n",
    "\n"
   ]
  },
  {
   "cell_type": "markdown",
   "metadata": {},
   "source": [
    "# Grouped Bar chart"
   ]
  },
  {
   "cell_type": "code",
   "execution_count": 16,
   "metadata": {},
   "outputs": [
    {
     "data": {
      "text/plain": [
       "<matplotlib.legend.Legend at 0x21552ebd640>"
      ]
     },
     "execution_count": 16,
     "metadata": {},
     "output_type": "execute_result"
    },
    {
     "data": {
      "image/png": "[encoded data removed]",
      "text/plain": [
       "<Figure size 432x288 with 1 Axes>"
      ]
     },
     "metadata": {
      "needs_background": "light"
     },
     "output_type": "display_data"
    }
   ],
   "source": [
    "year1=(20,35,30,35,27,27,33)\n",
    "year2=(25,39,45,25,21,29,36)\n",
    "year3=(30,43,60,15,16,24,39)\n",
    "\n",
    "\n",
    "x=np.arange(7)\n",
    "width=0.45\n",
    "\n",
    "fig,ax=plt.subplots()\n",
    "r1=ax.bar(x,year1,width,color='b', label='year1',alpha=0.8)\n",
    "r2=ax.bar(x+width,year2,width,color='g', label='year2', alpha=0.2)\n",
    "r3=ax.bar(x+(width),year3,width,color='r', label='year3', alpha=0.5)\n",
    "\n",
    "plt.legend()\n",
    "\n"
   ]
  },
  {
   "cell_type": "markdown",
   "metadata": {},
   "source": [
    "# Stacked bar chart\n"
   ]
  },
  {
   "cell_type": "code",
   "execution_count": null,
   "metadata": {},
   "outputs": [],
   "source": []
  },
  {
   "cell_type": "code",
   "execution_count": null,
   "metadata": {},
   "outputs": [],
   "source": []
  },
  {
   "cell_type": "markdown",
   "metadata": {},
   "source": [
    "# Area Chart"
   ]
  },
  {
   "cell_type": "markdown",
   "metadata": {},
   "source": [
    "\n"
   ]
  },
  {
   "cell_type": "code",
   "execution_count": 4,
   "metadata": {},
   "outputs": [],
   "source": [
    "y=[2,7,14,17,20,27,30,38,25,18,6,1]\n",
    "\n"
   ]
  },
  {
   "cell_type": "code",
   "execution_count": null,
   "metadata": {},
   "outputs": [],
   "source": []
  },
  {
   "cell_type": "code",
   "execution_count": null,
   "metadata": {},
   "outputs": [],
   "source": []
  }
 ],
 "metadata": {
  "kernelspec": {
   "display_name": "Python 3",
   "language": "python",
   "name": "python3"
  },
  "language_info": {
   "codemirror_mode": {
    "name": "ipython",
    "version": 3
   },
   "file_extension": ".py",
   "mimetype": "text/x-python",
   "name": "python",
   "nbconvert_exporter": "python",
   "pygments_lexer": "ipython3",
   "version": "3.8.3"
  }
 },
 "nbformat": 4,
 "nbformat_minor": 2
}
