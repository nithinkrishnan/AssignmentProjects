{
 "cells": [
  {
   "cell_type": "code",
   "execution_count": 14,
   "metadata": {},
   "outputs": [],
   "source": [
    "#Importing neccesary packages\n",
    "import pandas as pd\n",
    "import numpy as np\n",
    "import matplotlib.pyplot as plt\n",
    "from sklearn import datasets\n",
    "from sklearn.model_selection import train_test_split\n",
    "from sklearn.linear_model import LinearRegression\n",
    "from sklearn.metrics import r2_score"
   ]
  },
  {
   "cell_type": "code",
   "execution_count": 15,
   "metadata": {},
   "outputs": [
    {
     "data": {
      "text/html": [
       "<div>\n",
       "<style scoped>\n",
       "    .dataframe tbody tr th:only-of-type {\n",
       "        vertical-align: middle;\n",
       "    }\n",
       "\n",
       "    .dataframe tbody tr th {\n",
       "        vertical-align: top;\n",
       "    }\n",
       "\n",
       "    .dataframe thead th {\n",
       "        text-align: right;\n",
       "    }\n",
       "</style>\n",
       "<table border=\"1\" class=\"dataframe\">\n",
       "  <thead>\n",
       "    <tr style=\"text-align: right;\">\n",
       "      <th></th>\n",
       "      <th>CRIM</th>\n",
       "      <th>ZN</th>\n",
       "      <th>INDUS</th>\n",
       "      <th>CHAS</th>\n",
       "      <th>NOX</th>\n",
       "      <th>RM</th>\n",
       "      <th>AGE</th>\n",
       "      <th>DIS</th>\n",
       "      <th>RAD</th>\n",
       "      <th>TAX</th>\n",
       "      <th>PTRATIO</th>\n",
       "      <th>B</th>\n",
       "      <th>LSTAT</th>\n",
       "    </tr>\n",
       "  </thead>\n",
       "  <tbody>\n",
       "    <tr>\n",
       "      <th>0</th>\n",
       "      <td>0.00632</td>\n",
       "      <td>18.0</td>\n",
       "      <td>2.31</td>\n",
       "      <td>0.0</td>\n",
       "      <td>0.538</td>\n",
       "      <td>6.575</td>\n",
       "      <td>65.2</td>\n",
       "      <td>4.0900</td>\n",
       "      <td>1.0</td>\n",
       "      <td>296.0</td>\n",
       "      <td>15.3</td>\n",
       "      <td>396.90</td>\n",
       "      <td>4.98</td>\n",
       "    </tr>\n",
       "    <tr>\n",
       "      <th>1</th>\n",
       "      <td>0.02731</td>\n",
       "      <td>0.0</td>\n",
       "      <td>7.07</td>\n",
       "      <td>0.0</td>\n",
       "      <td>0.469</td>\n",
       "      <td>6.421</td>\n",
       "      <td>78.9</td>\n",
       "      <td>4.9671</td>\n",
       "      <td>2.0</td>\n",
       "      <td>242.0</td>\n",
       "      <td>17.8</td>\n",
       "      <td>396.90</td>\n",
       "      <td>9.14</td>\n",
       "    </tr>\n",
       "    <tr>\n",
       "      <th>2</th>\n",
       "      <td>0.02729</td>\n",
       "      <td>0.0</td>\n",
       "      <td>7.07</td>\n",
       "      <td>0.0</td>\n",
       "      <td>0.469</td>\n",
       "      <td>7.185</td>\n",
       "      <td>61.1</td>\n",
       "      <td>4.9671</td>\n",
       "      <td>2.0</td>\n",
       "      <td>242.0</td>\n",
       "      <td>17.8</td>\n",
       "      <td>392.83</td>\n",
       "      <td>4.03</td>\n",
       "    </tr>\n",
       "    <tr>\n",
       "      <th>3</th>\n",
       "      <td>0.03237</td>\n",
       "      <td>0.0</td>\n",
       "      <td>2.18</td>\n",
       "      <td>0.0</td>\n",
       "      <td>0.458</td>\n",
       "      <td>6.998</td>\n",
       "      <td>45.8</td>\n",
       "      <td>6.0622</td>\n",
       "      <td>3.0</td>\n",
       "      <td>222.0</td>\n",
       "      <td>18.7</td>\n",
       "      <td>394.63</td>\n",
       "      <td>2.94</td>\n",
       "    </tr>\n",
       "    <tr>\n",
       "      <th>4</th>\n",
       "      <td>0.06905</td>\n",
       "      <td>0.0</td>\n",
       "      <td>2.18</td>\n",
       "      <td>0.0</td>\n",
       "      <td>0.458</td>\n",
       "      <td>7.147</td>\n",
       "      <td>54.2</td>\n",
       "      <td>6.0622</td>\n",
       "      <td>3.0</td>\n",
       "      <td>222.0</td>\n",
       "      <td>18.7</td>\n",
       "      <td>396.90</td>\n",
       "      <td>5.33</td>\n",
       "    </tr>\n",
       "  </tbody>\n",
       "</table>\n",
       "</div>"
      ],
      "text/plain": [
       "      CRIM    ZN  INDUS  CHAS    NOX     RM   AGE     DIS  RAD    TAX  \\\n",
       "0  0.00632  18.0   2.31   0.0  0.538  6.575  65.2  4.0900  1.0  296.0   \n",
       "1  0.02731   0.0   7.07   0.0  0.469  6.421  78.9  4.9671  2.0  242.0   \n",
       "2  0.02729   0.0   7.07   0.0  0.469  7.185  61.1  4.9671  2.0  242.0   \n",
       "3  0.03237   0.0   2.18   0.0  0.458  6.998  45.8  6.0622  3.0  222.0   \n",
       "4  0.06905   0.0   2.18   0.0  0.458  7.147  54.2  6.0622  3.0  222.0   \n",
       "\n",
       "   PTRATIO       B  LSTAT  \n",
       "0     15.3  396.90   4.98  \n",
       "1     17.8  396.90   9.14  \n",
       "2     17.8  392.83   4.03  \n",
       "3     18.7  394.63   2.94  \n",
       "4     18.7  396.90   5.33  "
      ]
     },
     "execution_count": 15,
     "metadata": {},
     "output_type": "execute_result"
    }
   ],
   "source": [
    "# Loading data from python inbuilt dataaset\n",
    "boston_dataset = datasets.load_boston()\n",
    "boston_df = pd.DataFrame(boston_dataset.data)\n",
    "boston_df.columns = boston_dataset.feature_names\n",
    "boston_df.head()"
   ]
  },
  {
   "cell_type": "code",
   "execution_count": 16,
   "metadata": {},
   "outputs": [],
   "source": [
    "# Load the dataset into Pandas Dataframe\n",
    "\n",
    "\n",
    "boston_npy_target_column = np.asarray(boston_dataset.target)\n",
    "boston_df['House_Price'] = pd.Series(boston_npy_target_column)\n",
    "\n",
    "#Separating predictors and response\n",
    "predictors = boston_df.iloc[:, :-1]\n",
    "response = boston_df.iloc[:, -1]\n"
   ]
  },
  {
   "cell_type": "code",
   "execution_count": 18,
   "metadata": {},
   "outputs": [
    {
     "data": {
      "text/plain": [
       "0    24.0\n",
       "1    21.6\n",
       "2    34.7\n",
       "3    33.4\n",
       "4    36.2\n",
       "Name: House_Price, dtype: float64"
      ]
     },
     "execution_count": 18,
     "metadata": {},
     "output_type": "execute_result"
    }
   ],
   "source": [
    "response.head()"
   ]
  },
  {
   "cell_type": "code",
   "execution_count": 19,
   "metadata": {},
   "outputs": [
    {
     "name": "stdout",
     "output_type": "stream",
     "text": [
      "(404, 13)\n",
      "(102, 13)\n"
     ]
    }
   ],
   "source": [
    "X_train, X_test, Y_train, Y_test = train_test_split(predictors,response,test_size = 0.20)\n",
    "\n",
    "print(X_train.shape)\n",
    "print(X_test.shape)"
   ]
  },
  {
   "cell_type": "code",
   "execution_count": 20,
   "metadata": {},
   "outputs": [
    {
     "name": "stdout",
     "output_type": "stream",
     "text": [
      "R squared Error on test set :  0.5823432784573012\n",
      "   Column_Name  Coefficient_Value\n",
      "0         CRIM          -0.130955\n",
      "1           ZN           0.043321\n",
      "2        INDUS           0.048065\n",
      "3         CHAS           4.302752\n",
      "4          NOX         -17.650626\n",
      "5           RM           4.171555\n",
      "6          AGE           0.018929\n",
      "7          DIS          -1.250016\n",
      "8          RAD           0.314749\n",
      "9          TAX          -0.009826\n",
      "10     PTRATIO          -0.914086\n",
      "11           B           0.010046\n",
      "12       LSTAT          -0.597622\n"
     ]
    },
    {
     "data": {
      "text/plain": [
       "<BarContainer object of 13 artists>"
      ]
     },
     "execution_count": 20,
     "metadata": {},
     "output_type": "execute_result"
    },
    {
     "data": {
      "image/png": "[encoded data removed]",
      "text/plain": [
       "<Figure size 1080x432 with 1 Axes>"
      ]
     },
     "metadata": {
      "needs_background": "light"
     },
     "output_type": "display_data"
    }
   ],
   "source": [
    "# Apply a normal linear regression\n",
    "linearreg = LinearRegression()\n",
    "linearreg.fit(X_train, Y_train)\n",
    "\n",
    "# predicting on test\n",
    "linearreg_prediction = linearreg.predict(X_test)\n",
    "\n",
    "# calculating Mean Squared Error (mse)\n",
    "R_squared = r2_score(linearreg_prediction,Y_test)\n",
    "print(\"R squared Error on test set : \", R_squared)\n",
    "\n",
    "\n",
    "# Putting together the coefficient and their corresponding variable names\n",
    "coefficient_df = pd.DataFrame()\n",
    "coefficient_df[\"Column_Name\"] = X_train.columns\n",
    "coefficient_df['Coefficient_Value'] = pd.Series(linearreg.coef_)\n",
    "print(coefficient_df.head(15))\n",
    "\n",
    "plt.rcParams[\"figure.figsize\"] = (15,6)\n",
    " \n",
    "plt.bar(coefficient_df[\"Column_Name\"],coefficient_df[\"Coefficient_Value\"])\n"
   ]
  },
  {
   "cell_type": "code",
   "execution_count": null,
   "metadata": {},
   "outputs": [],
   "source": [
    "# import ridge regression library\n",
    "from sklearn.linear_model import Ridge\n",
    "\n",
    "# Train the model\n",
    "ridgeRegressor = Ridge(alpha = 0.5) #here setting alpha 1\n",
    "ridgeRegressor.fit(X_train, Y_train)\n",
    "y_predicted_ridge = ridgeRegressor.predict(X_test)\n",
    "\n",
    "# calculating Mean Squared Error (mse)\n",
    "R_squared = r2_score(y_predicted_ridge,Y_test)\n",
    "print(\"R squared Error on test set : \", R_squared)\n",
    "\n",
    "\n",
    "# Putting together the coefficient and their corresponding variable names\n",
    "coefficient_df = pd.DataFrame()\n",
    "coefficient_df[\"Column_Name\"] = x_train.columns\n",
    "coefficient_df['Coefficient_Value'] = pd.Series(ridgeRegressor.coef_)\n",
    "print(coefficient_df.head(15))\n",
    "\n",
    "plt.rcParams[\"figure.figsize\"] = (15,6)\n",
    " \n",
    "plt.bar(coefficient_df[\"Column_Name\"],coefficient_df[\"Coefficient_Value\"])"
   ]
  },
  {
   "cell_type": "code",
   "execution_count": 24,
   "metadata": {},
   "outputs": [
    {
     "name": "stdout",
     "output_type": "stream",
     "text": [
      "R squared Error on test set :  0.4845050892603663\n",
      "   Column_Name  Coefficient_Value\n",
      "0         CRIM          -0.079377\n",
      "1           ZN           0.045579\n",
      "2        INDUS          -0.000000\n",
      "3         CHAS           0.000000\n",
      "4          NOX          -0.000000\n",
      "5           RM           1.017088\n",
      "6          AGE           0.048613\n",
      "7          DIS          -0.450187\n",
      "8          RAD           0.267852\n",
      "9          TAX          -0.011745\n",
      "10     PTRATIO          -0.749902\n",
      "11           B           0.008709\n",
      "12       LSTAT          -0.876529\n"
     ]
    },
    {
     "data": {
      "text/plain": [
       "<BarContainer object of 13 artists>"
      ]
     },
     "execution_count": 24,
     "metadata": {},
     "output_type": "execute_result"
    },
    {
     "data": {
      "image/png": "[encoded data removed]",
      "text/plain": [
       "<Figure size 1080x432 with 1 Axes>"
      ]
     },
     "metadata": {
      "needs_background": "light"
     },
     "output_type": "display_data"
    }
   ],
   "source": [
    "# import Lasso regression from sklearn library\n",
    "from sklearn.linear_model import Lasso\n",
    "\n",
    "# Train the model\n",
    "lassoRegressor = Lasso(alpha = 1) #here setting alpha \n",
    "lassoRegressor.fit(X_train, Y_train)\n",
    "y_predicted_lasso = lassoRegressor.predict(X_test)\n",
    "\n",
    "# calculating Mean Squared Error (mse)\n",
    "R_squared = r2_score(y_predicted_lasso,Y_test)\n",
    "print(\"R squared Error on test set : \", R_squared)\n",
    "\n",
    "\n",
    "# Putting together the coefficient and their corresponding variable names\n",
    "coefficient_df = pd.DataFrame()\n",
    "coefficient_df[\"Column_Name\"] = X_train.columns\n",
    "coefficient_df['Coefficient_Value'] = pd.Series(lassoRegressor.coef_)\n",
    "print(coefficient_df.head(15))\n",
    "\n",
    "plt.rcParams[\"figure.figsize\"] = (15,6)\n",
    " \n",
    "plt.bar(coefficient_df[\"Column_Name\"],coefficient_df[\"Coefficient_Value\"])"
   ]
  },
  {
   "cell_type": "code",
   "execution_count": 8,
   "metadata": {},
   "outputs": [
    {
     "data": {
      "text/plain": [
       "<matplotlib.collections.PathCollection at 0x2b7c3f49730>"
      ]
     },
     "execution_count": 8,
     "metadata": {},
     "output_type": "execute_result"
    },
    {
     "data": {
      "image/png": "[encoded data removed]",
      "text/plain": [
       "<Figure size 1080x432 with 1 Axes>"
      ]
     },
     "metadata": {
      "needs_background": "light"
     },
     "output_type": "display_data"
    }
   ],
   "source": [
    "import seaborn as sns\n",
    "#sns.pairplot(boston_df)\n",
    "plt.scatter(boston_df['LSTAT'],boston_df['House_Price'])"
   ]
  },
  {
   "cell_type": "code",
   "execution_count": null,
   "metadata": {},
   "outputs": [],
   "source": []
  },
  {
   "cell_type": "code",
   "execution_count": null,
   "metadata": {},
   "outputs": [],
   "source": []
  }
 ],
 "metadata": {
  "kernelspec": {
   "display_name": "Python 3",
   "language": "python",
   "name": "python3"
  },
  "language_info": {
   "codemirror_mode": {
    "name": "ipython",
    "version": 3
   },
   "file_extension": ".py",
   "mimetype": "text/x-python",
   "name": "python",
   "nbconvert_exporter": "python",
   "pygments_lexer": "ipython3",
   "version": "3.8.3"
  }
 },
 "nbformat": 4,
 "nbformat_minor": 4
}
