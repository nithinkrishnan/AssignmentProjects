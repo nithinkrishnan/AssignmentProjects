{
 "cells": [
  {
   "cell_type": "markdown",
   "metadata": {},
   "source": [
    "<h1><center> ML ASSIGNMENT 2 - Income Prediction </center></h1>"
   ]
  },
  {
   "cell_type": "markdown",
   "metadata": {},
   "source": [
    "<h4>Dataset: Adult income classification\n",
    "<br>\n",
    "<br>\n",
    "Group No: 49\n",
    "<br>\n",
    "<br>\n",
    "Group Members:</h4>\n",
    "<table align = \"left\">\n",
    "  <tr>\n",
    "    <th>Full Name</th>\n",
    "    <th>BITS ID</th>\n",
    "  </tr>\n",
    "  <tr>\n",
    "    <td>Shehza Fathima</td>\n",
    "    <td>2021C104174</td>\n",
    "  </tr>\n",
    "  <tr>\n",
    "    <td>Nithin Krishnan</td>\n",
    "    <td>2021C104176</td>\n",
    "  </tr>\n",
    "  <tr>\n",
    "    <td>Binsu Elizabeth Varghese</td>\n",
    "    <td>2021C104187</td>\n",
    "  </tr>\n",
    "</table>"
   ]
  },
  {
   "cell_type": "markdown",
   "metadata": {},
   "source": [
    "<h2 style=\"color: #2f80d0\">Import Libraries/Dataset</h2>"
   ]
  },
  {
   "cell_type": "code",
   "execution_count": 8,
   "metadata": {},
   "outputs": [],
   "source": [
    "# linear algebra\n",
    "import numpy as np \n",
    "\n",
    "# data processing\n",
    "import pandas as pd \n",
    "\n",
    "# Visualizations\n",
    "import matplotlib.pyplot as plt\n",
    "from matplotlib import pyplot\n",
    "from matplotlib import rcParams\n",
    "from scipy.stats import skew\n",
    "import seaborn as sns\n",
    "from prettytable import PrettyTable\n",
    "from scipy import stats\n",
    "import warnings\n",
    "warnings.filterwarnings('ignore')\n",
    "%matplotlib inline\n",
    "\n",
    "# For feature selections and Feature Engineering\n",
    "from sklearn.model_selection import train_test_split\n",
    "from sklearn.feature_selection import SelectKBest, chi2, mutual_info_classif\n",
    "from sklearn import preprocessing\n",
    "from sklearn.preprocessing import StandardScaler\n",
    "from sklearn.preprocessing import MinMaxScaler\n",
    "from sklearn.preprocessing import LabelEncoder\n",
    "from sklearn.decomposition import PCA\n",
    "# from imblearn.combine import SMOTETomek\n",
    "from collections import Counter\n",
    "\n",
    "\n",
    "# Importing the KNeighborsClassifier and svm algorithms for model building\n",
    "from sklearn.neighbors import KNeighborsClassifier\n",
    "from sklearn.model_selection import cross_val_score\n",
    "from sklearn.model_selection import GridSearchCV\n",
    "from sklearn.svm import SVC, LinearSVC\n",
    "from sklearn.model_selection import RepeatedStratifiedKFold\n",
    "from sklearn.model_selection import RandomizedSearchCV\n",
    "\n",
    "# For Analyzing the models\n",
    "from sklearn import metrics\n",
    "from sklearn import model_selection\n",
    "from sklearn.metrics import accuracy_score\n",
    "from sklearn.ensemble import RandomForestClassifier\n",
    "from sklearn.metrics import confusion_matrix\n",
    "from sklearn.metrics import classification_report\n",
    "from sklearn.metrics import f1_score\n",
    "from sklearn.metrics import make_scorer, roc_curve, roc_auc_score"
   ]
  },
  {
   "cell_type": "code",
   "execution_count": 2,
   "metadata": {},
   "outputs": [],
   "source": [
    "#Defining class colour\n",
    "class color:\n",
    "   BLUE = '\\033[94m'\n",
    "   BOLD = '\\033[1m'\n",
    "   END = '\\033[0m'"
   ]
  },
  {
   "cell_type": "code",
   "execution_count": 3,
   "metadata": {},
   "outputs": [],
   "source": [
    "#Importing dataset\n",
    "df = pd.read_csv('adult.csv')"
   ]
  },
  {
   "cell_type": "markdown",
   "metadata": {},
   "source": [
    "<h2 style=\"color: #2f80d0\">1. Data Visualization and Exploration</h2>"
   ]
  },
  {
   "cell_type": "markdown",
   "metadata": {},
   "source": [
    "<h4 style=\"color: #2f80d0\">1.1. a) Print 2 rows for sanity check to identify all the features present in the dataset and if the target matches with them.</h4>"
   ]
  },
  {
   "cell_type": "code",
   "execution_count": 4,
   "metadata": {},
   "outputs": [
    {
     "data": {
      "text/html": [
       "<div>\n",
       "<style scoped>\n",
       "    .dataframe tbody tr th:only-of-type {\n",
       "        vertical-align: middle;\n",
       "    }\n",
       "\n",
       "    .dataframe tbody tr th {\n",
       "        vertical-align: top;\n",
       "    }\n",
       "\n",
       "    .dataframe thead th {\n",
       "        text-align: right;\n",
       "    }\n",
       "</style>\n",
       "<table border=\"1\" class=\"dataframe\">\n",
       "  <thead>\n",
       "    <tr style=\"text-align: right;\">\n",
       "      <th></th>\n",
       "      <th>age</th>\n",
       "      <th>workclass</th>\n",
       "      <th>fnlwgt</th>\n",
       "      <th>education</th>\n",
       "      <th>educational-num</th>\n",
       "      <th>marital-status</th>\n",
       "      <th>occupation</th>\n",
       "      <th>relationship</th>\n",
       "      <th>race</th>\n",
       "      <th>gender</th>\n",
       "      <th>capital-gain</th>\n",
       "      <th>capital-loss</th>\n",
       "      <th>hours-per-week</th>\n",
       "      <th>native-country</th>\n",
       "      <th>income</th>\n",
       "    </tr>\n",
       "  </thead>\n",
       "  <tbody>\n",
       "    <tr>\n",
       "      <th>0</th>\n",
       "      <td>25</td>\n",
       "      <td>Private</td>\n",
       "      <td>226802</td>\n",
       "      <td>11th</td>\n",
       "      <td>7</td>\n",
       "      <td>Never-married</td>\n",
       "      <td>Machine-op-inspct</td>\n",
       "      <td>Own-child</td>\n",
       "      <td>Black</td>\n",
       "      <td>Male</td>\n",
       "      <td>0</td>\n",
       "      <td>0</td>\n",
       "      <td>40</td>\n",
       "      <td>United-States</td>\n",
       "      <td>&lt;=50K</td>\n",
       "    </tr>\n",
       "    <tr>\n",
       "      <th>1</th>\n",
       "      <td>38</td>\n",
       "      <td>Private</td>\n",
       "      <td>89814</td>\n",
       "      <td>HS-grad</td>\n",
       "      <td>9</td>\n",
       "      <td>Married-civ-spouse</td>\n",
       "      <td>Farming-fishing</td>\n",
       "      <td>Husband</td>\n",
       "      <td>White</td>\n",
       "      <td>Male</td>\n",
       "      <td>0</td>\n",
       "      <td>0</td>\n",
       "      <td>50</td>\n",
       "      <td>United-States</td>\n",
       "      <td>&lt;=50K</td>\n",
       "    </tr>\n",
       "  </tbody>\n",
       "</table>\n",
       "</div>"
      ],
      "text/plain": [
       "   age workclass  fnlwgt education  educational-num      marital-status  \\\n",
       "0   25   Private  226802      11th                7       Never-married   \n",
       "1   38   Private   89814   HS-grad                9  Married-civ-spouse   \n",
       "\n",
       "          occupation relationship   race gender  capital-gain  capital-loss  \\\n",
       "0  Machine-op-inspct    Own-child  Black   Male             0             0   \n",
       "1    Farming-fishing      Husband  White   Male             0             0   \n",
       "\n",
       "   hours-per-week native-country income  \n",
       "0              40  United-States  <=50K  \n",
       "1              50  United-States  <=50K  "
      ]
     },
     "execution_count": 4,
     "metadata": {},
     "output_type": "execute_result"
    }
   ],
   "source": [
    "df.head(2)"
   ]
  },
  {
   "cell_type": "markdown",
   "metadata": {},
   "source": [
    "<h4 style=\"color: #2f80d0\">1.1 b) Analysing the size of Dataset</h4>"
   ]
  },
  {
   "cell_type": "code",
   "execution_count": 5,
   "metadata": {},
   "outputs": [
    {
     "name": "stdout",
     "output_type": "stream",
     "text": [
      "\u001b[94m\u001b[1m\n",
      "Size of Dataset:\u001b[0m\n",
      "(48842, 15)\n"
     ]
    }
   ],
   "source": [
    "#Size of the Dataset\n",
    "print(color.BLUE + color.BOLD + \"\\nSize of Dataset:\" + color.END)\n",
    "print(df.shape)"
   ]
  },
  {
   "cell_type": "markdown",
   "metadata": {},
   "source": [
    "<h4 style=\"color: #2f80d0\">1.2) Comment on class imbalance with appropriate visualization method.</h4>"
   ]
  },
  {
   "cell_type": "code",
   "execution_count": 6,
   "metadata": {},
   "outputs": [
    {
     "name": "stdout",
     "output_type": "stream",
     "text": [
      "\u001b[94m\u001b[1mClassification of Income:\u001b[0m\n",
      "<=50K    37155\n",
      ">50K     11687\n",
      "Name: income, dtype: int64\n"
     ]
    },
    {
     "data": {
      "text/plain": [
       "<AxesSubplot:ylabel='income'>"
      ]
     },
     "execution_count": 6,
     "metadata": {},
     "output_type": "execute_result"
    },
    {
     "data": {
      "image/png": "[encoded data removed]",
      "text/plain": [
       "<Figure size 432x288 with 1 Axes>"
      ]
     },
     "metadata": {},
     "output_type": "display_data"
    }
   ],
   "source": [
    "#Balanced or Imbalanced Dataset\n",
    "print(color.BLUE + color.BOLD + \"Classification of Income:\" + color.END)\n",
    "count = df['income'].value_counts()\n",
    "print(count)\n",
    "count.plot.pie(autopct='%.2f')"
   ]
  },
  {
   "cell_type": "markdown",
   "metadata": {},
   "source": [
    "<div style=\"color: #2f80d0\"><b>Analysis:</b><br> From the piechart we see that the dataset is highly imbalanced as 76% of the outcome variable (income) is having the class \"<=50k\" and 24% is having the class \">50k\". Higher imbalance in the output class variable can hamper our model accuracy. In our further steps, we are going to introduce sampling methods that would be applied to the outcome variable to eliminate the imbalance.</div>\n"
   ]
  },
  {
   "cell_type": "markdown",
   "metadata": {},
   "source": [
    "<h2 style=\"color: #2f80d0\">2. Data Pre-processing and Cleaning</h2>"
   ]
  },
  {
   "cell_type": "markdown",
   "metadata": {},
   "source": [
    "<h4 style=\"color: #2f80d0\">2.1 Identifying and handling NULL values</h4>"
   ]
  },
  {
   "cell_type": "code",
   "execution_count": 7,
   "metadata": {},
   "outputs": [],
   "source": [
    "# Replace ? with python NaN\n",
    "df.replace(\"?\", np.NaN,inplace=True)"
   ]
  },
  {
   "cell_type": "code",
   "execution_count": 8,
   "metadata": {},
   "outputs": [
    {
     "name": "stdout",
     "output_type": "stream",
     "text": [
      "\u001b[94m\u001b[1m\n",
      "Count of NaN/Null values for each feature:\u001b[0m\n",
      "age                   0\n",
      "workclass          2799\n",
      "fnlwgt                0\n",
      "education             0\n",
      "educational-num       0\n",
      "marital-status        0\n",
      "occupation         2809\n",
      "relationship          0\n",
      "race                  0\n",
      "gender                0\n",
      "capital-gain          0\n",
      "capital-loss          0\n",
      "hours-per-week        0\n",
      "native-country      857\n",
      "income                0\n",
      "dtype: int64\n"
     ]
    }
   ],
   "source": [
    "#Count of NaN/Null values from dataset\n",
    "print(color.BLUE + color.BOLD + \"\\nCount of NaN/Null values for each feature:\" + color.END)\n",
    "print(df.isnull().sum())"
   ]
  },
  {
   "cell_type": "code",
   "execution_count": 21,
   "metadata": {},
   "outputs": [
    {
     "name": "stdout",
     "output_type": "stream",
     "text": [
      "\u001b[94m\u001b[1m\n",
      "Count of NaN/Null values for each feature after handling:\u001b[0m\n",
      "age                0\n",
      "workclass          0\n",
      "education          0\n",
      "educational-num    0\n",
      "marital-status     0\n",
      "occupation         0\n",
      "relationship       0\n",
      "race               0\n",
      "gender             0\n",
      "capital-gain       0\n",
      "capital-loss       0\n",
      "hours-per-week     0\n",
      "native-country     0\n",
      "income             0\n",
      "dtype: int64\n"
     ]
    }
   ],
   "source": [
    "print(color.BLUE + color.BOLD + \"\\nCount of NaN/Null values for each feature after handling:\" + color.END)\n",
    "print(df.isnull().sum())"
   ]
  },
  {
   "cell_type": "code",
   "execution_count": 9,
   "metadata": {},
   "outputs": [],
   "source": [
    "#Since a very small amount of data is missing, we can replace the null values with the mode of each column\n",
    "mode1 = df['workclass'].value_counts().idxmax()\n",
    "mode2 = df['occupation'].value_counts().idxmax()\n",
    "mode3 = df['native-country'].value_counts().idxmax()\n",
    "df['workclass'] = df['workclass'].fillna(mode1)\n",
    "df['occupation'] = df['occupation'].fillna(mode2)\n",
    "df['native-country'] = df['native-country'].fillna(mode3)"
   ]
  },
  {
   "cell_type": "markdown",
   "metadata": {},
   "source": [
    "<h4 style=\"color: #2f80d0\">2.1.a) Identifying type of attribute (Categorical / Numeric) and their Distribution</h4>"
   ]
  },
  {
   "cell_type": "code",
   "execution_count": 10,
   "metadata": {},
   "outputs": [
    {
     "name": "stdout",
     "output_type": "stream",
     "text": [
      "+-----------------+-----------+\n",
      "|  Attribute Name | Data Type |\n",
      "+-----------------+-----------+\n",
      "|       age       |   int64   |\n",
      "|    workclass    |   object  |\n",
      "|      fnlwgt     |   int64   |\n",
      "|    education    |   object  |\n",
      "| educational-num |   int64   |\n",
      "|  marital-status |   object  |\n",
      "|    occupation   |   object  |\n",
      "|   relationship  |   object  |\n",
      "|       race      |   object  |\n",
      "|      gender     |   object  |\n",
      "|   capital-gain  |   int64   |\n",
      "|   capital-loss  |   int64   |\n",
      "|  hours-per-week |   int64   |\n",
      "|  native-country |   object  |\n",
      "|      income     |   object  |\n",
      "+-----------------+-----------+\n"
     ]
    }
   ],
   "source": [
    "# Attribute and its datatype\n",
    "ptbl = PrettyTable()\n",
    "\n",
    "for attribute in df.columns:    \n",
    "    ptbl.field_names = [\"Attribute Name\", \"Data Type\"]\n",
    "    ptbl.add_row([attribute, df[attribute].dtype])\n",
    "    \n",
    "print(ptbl)"
   ]
  },
  {
   "cell_type": "code",
   "execution_count": 11,
   "metadata": {},
   "outputs": [
    {
     "name": "stdout",
     "output_type": "stream",
     "text": [
      "                       \u001b[94m\u001b[1mData Distribution of numerical attributes\u001b[0m                       \n"
     ]
    },
    {
     "data": {
      "text/html": [
       "<div>\n",
       "<style scoped>\n",
       "    .dataframe tbody tr th:only-of-type {\n",
       "        vertical-align: middle;\n",
       "    }\n",
       "\n",
       "    .dataframe tbody tr th {\n",
       "        vertical-align: top;\n",
       "    }\n",
       "\n",
       "    .dataframe thead th {\n",
       "        text-align: right;\n",
       "    }\n",
       "</style>\n",
       "<table border=\"1\" class=\"dataframe\">\n",
       "  <thead>\n",
       "    <tr style=\"text-align: right;\">\n",
       "      <th></th>\n",
       "      <th>age</th>\n",
       "      <th>fnlwgt</th>\n",
       "      <th>educational-num</th>\n",
       "      <th>capital-gain</th>\n",
       "      <th>capital-loss</th>\n",
       "      <th>hours-per-week</th>\n",
       "    </tr>\n",
       "  </thead>\n",
       "  <tbody>\n",
       "    <tr>\n",
       "      <th>count</th>\n",
       "      <td>48842.000000</td>\n",
       "      <td>4.884200e+04</td>\n",
       "      <td>48842.000000</td>\n",
       "      <td>48842.000000</td>\n",
       "      <td>48842.000000</td>\n",
       "      <td>48842.000000</td>\n",
       "    </tr>\n",
       "    <tr>\n",
       "      <th>mean</th>\n",
       "      <td>38.643585</td>\n",
       "      <td>1.896641e+05</td>\n",
       "      <td>10.078089</td>\n",
       "      <td>1079.067626</td>\n",
       "      <td>87.502314</td>\n",
       "      <td>40.422382</td>\n",
       "    </tr>\n",
       "    <tr>\n",
       "      <th>std</th>\n",
       "      <td>13.710510</td>\n",
       "      <td>1.056040e+05</td>\n",
       "      <td>2.570973</td>\n",
       "      <td>7452.019058</td>\n",
       "      <td>403.004552</td>\n",
       "      <td>12.391444</td>\n",
       "    </tr>\n",
       "    <tr>\n",
       "      <th>min</th>\n",
       "      <td>17.000000</td>\n",
       "      <td>1.228500e+04</td>\n",
       "      <td>1.000000</td>\n",
       "      <td>0.000000</td>\n",
       "      <td>0.000000</td>\n",
       "      <td>1.000000</td>\n",
       "    </tr>\n",
       "    <tr>\n",
       "      <th>25%</th>\n",
       "      <td>28.000000</td>\n",
       "      <td>1.175505e+05</td>\n",
       "      <td>9.000000</td>\n",
       "      <td>0.000000</td>\n",
       "      <td>0.000000</td>\n",
       "      <td>40.000000</td>\n",
       "    </tr>\n",
       "    <tr>\n",
       "      <th>50%</th>\n",
       "      <td>37.000000</td>\n",
       "      <td>1.781445e+05</td>\n",
       "      <td>10.000000</td>\n",
       "      <td>0.000000</td>\n",
       "      <td>0.000000</td>\n",
       "      <td>40.000000</td>\n",
       "    </tr>\n",
       "    <tr>\n",
       "      <th>75%</th>\n",
       "      <td>48.000000</td>\n",
       "      <td>2.376420e+05</td>\n",
       "      <td>12.000000</td>\n",
       "      <td>0.000000</td>\n",
       "      <td>0.000000</td>\n",
       "      <td>45.000000</td>\n",
       "    </tr>\n",
       "    <tr>\n",
       "      <th>max</th>\n",
       "      <td>90.000000</td>\n",
       "      <td>1.490400e+06</td>\n",
       "      <td>16.000000</td>\n",
       "      <td>99999.000000</td>\n",
       "      <td>4356.000000</td>\n",
       "      <td>99.000000</td>\n",
       "    </tr>\n",
       "  </tbody>\n",
       "</table>\n",
       "</div>"
      ],
      "text/plain": [
       "                age        fnlwgt  educational-num  capital-gain  \\\n",
       "count  48842.000000  4.884200e+04     48842.000000  48842.000000   \n",
       "mean      38.643585  1.896641e+05        10.078089   1079.067626   \n",
       "std       13.710510  1.056040e+05         2.570973   7452.019058   \n",
       "min       17.000000  1.228500e+04         1.000000      0.000000   \n",
       "25%       28.000000  1.175505e+05         9.000000      0.000000   \n",
       "50%       37.000000  1.781445e+05        10.000000      0.000000   \n",
       "75%       48.000000  2.376420e+05        12.000000      0.000000   \n",
       "max       90.000000  1.490400e+06        16.000000  99999.000000   \n",
       "\n",
       "       capital-loss  hours-per-week  \n",
       "count  48842.000000    48842.000000  \n",
       "mean      87.502314       40.422382  \n",
       "std      403.004552       12.391444  \n",
       "min        0.000000        1.000000  \n",
       "25%        0.000000       40.000000  \n",
       "50%        0.000000       40.000000  \n",
       "75%        0.000000       45.000000  \n",
       "max     4356.000000       99.000000  "
      ]
     },
     "execution_count": 11,
     "metadata": {},
     "output_type": "execute_result"
    }
   ],
   "source": [
    "#Distribution Of Data\n",
    "distTxt = color.BLUE + color.BOLD + \"Data Distribution of numerical attributes\" + color.END\n",
    "print(distTxt.center(100))\n",
    "df.describe()"
   ]
  },
  {
   "cell_type": "code",
   "execution_count": 12,
   "metadata": {},
   "outputs": [
    {
     "name": "stdout",
     "output_type": "stream",
     "text": [
      "                      \u001b[94m\u001b[1mData Distribution of categorical attributes\u001b[0m                      \n"
     ]
    },
    {
     "data": {
      "text/html": [
       "<div>\n",
       "<style scoped>\n",
       "    .dataframe tbody tr th:only-of-type {\n",
       "        vertical-align: middle;\n",
       "    }\n",
       "\n",
       "    .dataframe tbody tr th {\n",
       "        vertical-align: top;\n",
       "    }\n",
       "\n",
       "    .dataframe thead th {\n",
       "        text-align: right;\n",
       "    }\n",
       "</style>\n",
       "<table border=\"1\" class=\"dataframe\">\n",
       "  <thead>\n",
       "    <tr style=\"text-align: right;\">\n",
       "      <th></th>\n",
       "      <th>workclass</th>\n",
       "      <th>education</th>\n",
       "      <th>marital-status</th>\n",
       "      <th>occupation</th>\n",
       "      <th>relationship</th>\n",
       "      <th>race</th>\n",
       "      <th>gender</th>\n",
       "      <th>native-country</th>\n",
       "      <th>income</th>\n",
       "    </tr>\n",
       "  </thead>\n",
       "  <tbody>\n",
       "    <tr>\n",
       "      <th>count</th>\n",
       "      <td>48842</td>\n",
       "      <td>48842</td>\n",
       "      <td>48842</td>\n",
       "      <td>48842</td>\n",
       "      <td>48842</td>\n",
       "      <td>48842</td>\n",
       "      <td>48842</td>\n",
       "      <td>48842</td>\n",
       "      <td>48842</td>\n",
       "    </tr>\n",
       "    <tr>\n",
       "      <th>unique</th>\n",
       "      <td>8</td>\n",
       "      <td>16</td>\n",
       "      <td>7</td>\n",
       "      <td>14</td>\n",
       "      <td>6</td>\n",
       "      <td>5</td>\n",
       "      <td>2</td>\n",
       "      <td>41</td>\n",
       "      <td>2</td>\n",
       "    </tr>\n",
       "    <tr>\n",
       "      <th>top</th>\n",
       "      <td>Private</td>\n",
       "      <td>HS-grad</td>\n",
       "      <td>Married-civ-spouse</td>\n",
       "      <td>Prof-specialty</td>\n",
       "      <td>Husband</td>\n",
       "      <td>White</td>\n",
       "      <td>Male</td>\n",
       "      <td>United-States</td>\n",
       "      <td>&lt;=50K</td>\n",
       "    </tr>\n",
       "    <tr>\n",
       "      <th>freq</th>\n",
       "      <td>36705</td>\n",
       "      <td>15784</td>\n",
       "      <td>22379</td>\n",
       "      <td>8981</td>\n",
       "      <td>19716</td>\n",
       "      <td>41762</td>\n",
       "      <td>32650</td>\n",
       "      <td>44689</td>\n",
       "      <td>37155</td>\n",
       "    </tr>\n",
       "  </tbody>\n",
       "</table>\n",
       "</div>"
      ],
      "text/plain": [
       "       workclass education      marital-status      occupation relationship  \\\n",
       "count      48842     48842               48842           48842        48842   \n",
       "unique         8        16                   7              14            6   \n",
       "top      Private   HS-grad  Married-civ-spouse  Prof-specialty      Husband   \n",
       "freq       36705     15784               22379            8981        19716   \n",
       "\n",
       "         race gender native-country income  \n",
       "count   48842  48842          48842  48842  \n",
       "unique      5      2             41      2  \n",
       "top     White   Male  United-States  <=50K  \n",
       "freq    41762  32650          44689  37155  "
      ]
     },
     "execution_count": 12,
     "metadata": {},
     "output_type": "execute_result"
    }
   ],
   "source": [
    "#Distribution Of Data\n",
    "distTxt = color.BLUE + color.BOLD + \"Data Distribution of categorical attributes\" + color.END\n",
    "print(distTxt.center(100))\n",
    "df.describe(include=[\"O\"])"
   ]
  },
  {
   "cell_type": "markdown",
   "metadata": {},
   "source": [
    "<h4 style=\"color: #2f80d0\">2.1.b) Mapping Output Variable to Binary</h4>"
   ]
  },
  {
   "cell_type": "code",
   "execution_count": 13,
   "metadata": {},
   "outputs": [],
   "source": [
    "# Mapping binary values to the target variable\n",
    "df['income']=df['income'].map({'<=50K': 0, '>50K': 1})"
   ]
  },
  {
   "cell_type": "code",
   "execution_count": 14,
   "metadata": {},
   "outputs": [
    {
     "name": "stdout",
     "output_type": "stream",
     "text": [
      "\u001b[94m\u001b[1mCategorical Data:\u001b[0m\n",
      "['workclass', 'education', 'marital-status', 'occupation', 'relationship', 'race', 'gender', 'native-country']\n",
      "\u001b[94m\u001b[1m\n",
      "Numerical Data:\u001b[0m\n",
      "['age', 'educational-num', 'capital-gain', 'income', 'capital-loss', 'hours-per-week', 'fnlwgt']\n"
     ]
    }
   ],
   "source": [
    "columnsList = list(df)\n",
    "categoricalList = list(df.select_dtypes(include=['object']).columns)\n",
    "numericalList = list(set(columnsList) - set(categoricalList))\n",
    "\n",
    "#Character or Numerical Data\n",
    "print(color.BLUE + color.BOLD + \"Categorical Data:\" + color.END)\n",
    "print(categoricalList)\n",
    "print(color.BLUE + color.BOLD + \"\\nNumerical Data:\" + color.END)\n",
    "print(numericalList)"
   ]
  },
  {
   "cell_type": "code",
   "execution_count": 15,
   "metadata": {},
   "outputs": [
    {
     "name": "stdout",
     "output_type": "stream",
     "text": [
      "Qualitiative Features:  8\n",
      "['workclass', 'education', 'marital-status', 'occupation', 'relationship', 'race', 'gender', 'native-country']\n",
      "----------------------------------------\n",
      "workclass : ['Private' 'Local-gov' 'Self-emp-not-inc' 'Federal-gov' 'State-gov'\n",
      " 'Self-emp-inc' 'Without-pay' 'Never-worked']\n",
      "Private             36705\n",
      "Self-emp-not-inc     3862\n",
      "Local-gov            3136\n",
      "State-gov            1981\n",
      "Self-emp-inc         1695\n",
      "Federal-gov          1432\n",
      "Without-pay            21\n",
      "Never-worked           10\n",
      "Name: workclass, dtype: int64\n",
      "_________________________________________________________________\n",
      "education : ['11th' 'HS-grad' 'Assoc-acdm' 'Some-college' '10th' 'Prof-school'\n",
      " '7th-8th' 'Bachelors' 'Masters' 'Doctorate' '5th-6th' 'Assoc-voc' '9th'\n",
      " '12th' '1st-4th' 'Preschool']\n",
      "HS-grad         15784\n",
      "Some-college    10878\n",
      "Bachelors        8025\n",
      "Masters          2657\n",
      "Assoc-voc        2061\n",
      "11th             1812\n",
      "Assoc-acdm       1601\n",
      "10th             1389\n",
      "7th-8th           955\n",
      "Prof-school       834\n",
      "9th               756\n",
      "12th              657\n",
      "Doctorate         594\n",
      "5th-6th           509\n",
      "1st-4th           247\n",
      "Preschool          83\n",
      "Name: education, dtype: int64\n",
      "_________________________________________________________________\n",
      "marital-status : ['Never-married' 'Married-civ-spouse' 'Widowed' 'Divorced' 'Separated'\n",
      " 'Married-spouse-absent' 'Married-AF-spouse']\n",
      "Married-civ-spouse       22379\n",
      "Never-married            16117\n",
      "Divorced                  6633\n",
      "Separated                 1530\n",
      "Widowed                   1518\n",
      "Married-spouse-absent      628\n",
      "Married-AF-spouse           37\n",
      "Name: marital-status, dtype: int64\n",
      "_________________________________________________________________\n",
      "occupation : ['Machine-op-inspct' 'Farming-fishing' 'Protective-serv' 'Prof-specialty'\n",
      " 'Other-service' 'Craft-repair' 'Adm-clerical' 'Exec-managerial'\n",
      " 'Tech-support' 'Sales' 'Priv-house-serv' 'Transport-moving'\n",
      " 'Handlers-cleaners' 'Armed-Forces']\n",
      "Prof-specialty       8981\n",
      "Craft-repair         6112\n",
      "Exec-managerial      6086\n",
      "Adm-clerical         5611\n",
      "Sales                5504\n",
      "Other-service        4923\n",
      "Machine-op-inspct    3022\n",
      "Transport-moving     2355\n",
      "Handlers-cleaners    2072\n",
      "Farming-fishing      1490\n",
      "Tech-support         1446\n",
      "Protective-serv       983\n",
      "Priv-house-serv       242\n",
      "Armed-Forces           15\n",
      "Name: occupation, dtype: int64\n",
      "_________________________________________________________________\n",
      "relationship : ['Own-child' 'Husband' 'Not-in-family' 'Unmarried' 'Wife' 'Other-relative']\n",
      "Husband           19716\n",
      "Not-in-family     12583\n",
      "Own-child          7581\n",
      "Unmarried          5125\n",
      "Wife               2331\n",
      "Other-relative     1506\n",
      "Name: relationship, dtype: int64\n",
      "_________________________________________________________________\n",
      "race : ['Black' 'White' 'Asian-Pac-Islander' 'Other' 'Amer-Indian-Eskimo']\n",
      "White                 41762\n",
      "Black                  4685\n",
      "Asian-Pac-Islander     1519\n",
      "Amer-Indian-Eskimo      470\n",
      "Other                   406\n",
      "Name: race, dtype: int64\n",
      "_________________________________________________________________\n",
      "gender : ['Male' 'Female']\n",
      "Male      32650\n",
      "Female    16192\n",
      "Name: gender, dtype: int64\n",
      "_________________________________________________________________\n",
      "native-country : ['United-States' 'Peru' 'Guatemala' 'Mexico' 'Dominican-Republic'\n",
      " 'Ireland' 'Germany' 'Philippines' 'Thailand' 'Haiti' 'El-Salvador'\n",
      " 'Puerto-Rico' 'Vietnam' 'South' 'Columbia' 'Japan' 'India' 'Cambodia'\n",
      " 'Poland' 'Laos' 'England' 'Cuba' 'Taiwan' 'Italy' 'Canada' 'Portugal'\n",
      " 'China' 'Nicaragua' 'Honduras' 'Iran' 'Scotland' 'Jamaica' 'Ecuador'\n",
      " 'Yugoslavia' 'Hungary' 'Hong' 'Greece' 'Trinadad&Tobago'\n",
      " 'Outlying-US(Guam-USVI-etc)' 'France' 'Holand-Netherlands']\n",
      "United-States                 44689\n",
      "Mexico                          951\n",
      "Philippines                     295\n",
      "Germany                         206\n",
      "Puerto-Rico                     184\n",
      "Canada                          182\n",
      "El-Salvador                     155\n",
      "India                           151\n",
      "Cuba                            138\n",
      "England                         127\n",
      "China                           122\n",
      "South                           115\n",
      "Jamaica                         106\n",
      "Italy                           105\n",
      "Dominican-Republic              103\n",
      "Japan                            92\n",
      "Guatemala                        88\n",
      "Poland                           87\n",
      "Vietnam                          86\n",
      "Columbia                         85\n",
      "Haiti                            75\n",
      "Portugal                         67\n",
      "Taiwan                           65\n",
      "Iran                             59\n",
      "Greece                           49\n",
      "Nicaragua                        49\n",
      "Peru                             46\n",
      "Ecuador                          45\n",
      "France                           38\n",
      "Ireland                          37\n",
      "Thailand                         30\n",
      "Hong                             30\n",
      "Cambodia                         28\n",
      "Trinadad&Tobago                  27\n",
      "Yugoslavia                       23\n",
      "Laos                             23\n",
      "Outlying-US(Guam-USVI-etc)       23\n",
      "Scotland                         21\n",
      "Honduras                         20\n",
      "Hungary                          19\n",
      "Holand-Netherlands                1\n",
      "Name: native-country, dtype: int64\n",
      "_________________________________________________________________\n"
     ]
    }
   ],
   "source": [
    "print(\"Qualitiative Features: \", len(categoricalList))\n",
    "print(categoricalList)\n",
    "print('----------------------------------------')\n",
    "\n",
    "for column in categoricalList:\n",
    "\n",
    "        # Lists all coloumns and unique value in them\n",
    "        print(str(column) + ' : ' + str(df[column].unique()))\n",
    "\n",
    "        # Diplays count of each value of the column\n",
    "        print(df[column].value_counts())\n",
    "\n",
    "        print(\"_________________________________________________________________\")"
   ]
  },
  {
   "cell_type": "code",
   "execution_count": 16,
   "metadata": {},
   "outputs": [
    {
     "name": "stdout",
     "output_type": "stream",
     "text": [
      "Quantitative Features:  7\n",
      "['age', 'educational-num', 'capital-gain', 'income', 'capital-loss', 'hours-per-week', 'fnlwgt']\n",
      "-----------------------------------\n",
      "age : [25 38 28 44 18 34 29 63 24 55 65 36 26 58 48 43 20 37 40 72 45 22 23 54\n",
      " 32 46 56 17 39 52 21 42 33 30 47 41 19 69 50 31 59 49 51 27 57 61 64 79\n",
      " 73 53 77 80 62 35 68 66 75 60 67 71 70 90 81 74 78 82 83 85 76 84 89 88\n",
      " 87 86]\n",
      "36    1348\n",
      "35    1337\n",
      "33    1335\n",
      "23    1329\n",
      "31    1325\n",
      "      ... \n",
      "88       6\n",
      "85       5\n",
      "87       3\n",
      "89       2\n",
      "86       1\n",
      "Name: age, Length: 74, dtype: int64\n",
      "_________________________________________________________________\n",
      "educational-num : [ 7  9 12 10  6 15  4 13 14 16  3 11  5  8  2  1]\n",
      "9     15784\n",
      "10    10878\n",
      "13     8025\n",
      "14     2657\n",
      "11     2061\n",
      "7      1812\n",
      "12     1601\n",
      "6      1389\n",
      "4       955\n",
      "15      834\n",
      "5       756\n",
      "8       657\n",
      "16      594\n",
      "3       509\n",
      "2       247\n",
      "1        83\n",
      "Name: educational-num, dtype: int64\n",
      "_________________________________________________________________\n",
      "capital-gain : [    0  7688  3103  6418  7298  3908 14084  5178 15024 99999  2597  2907\n",
      "  4650  6497  1055  5013 27828  4934  4064  3674  2174 10605  3418   114\n",
      "  2580  3411  4508  4386  8614 13550  6849  2463  3137  2885  2964  1471\n",
      " 10566  2354  1424  1455  3325  4416 25236   594  2105  4787  2829   401\n",
      "  4865  1264  1506 10520  3464  2653 20051  4101  1797  2407  3471  1086\n",
      "  1848 14344  1151  2993  2290 15020  9386  2202  3818  2176  5455 11678\n",
      "  7978  7262  6514 41310  3456  7430  2414  2062 34095  1831  6723  5060\n",
      " 15831  2977  2346  3273  2329  9562  2635  4931  1731  6097   914  7896\n",
      "  5556  1409  3781  3942  2538  3887 25124  7443  5721  1173  4687  6612\n",
      "  6767  2961   991  2036  2936  2050  1111  2228 22040  3432  6360  2009\n",
      "  1639 18481  2387]\n",
      "0        44807\n",
      "15024      513\n",
      "7688       410\n",
      "7298       364\n",
      "99999      244\n",
      "         ...  \n",
      "1111         1\n",
      "6612         1\n",
      "2387         1\n",
      "22040        1\n",
      "1731         1\n",
      "Name: capital-gain, Length: 123, dtype: int64\n",
      "_________________________________________________________________\n",
      "income : [0 1]\n",
      "0    37155\n",
      "1    11687\n",
      "Name: income, dtype: int64\n",
      "_________________________________________________________________\n",
      "capital-loss : [   0 1721 1876 2415 1887  625 1977 2057 1429 1590 1485 2051 2377 1672\n",
      " 1628 1902 1602 1741 2444 1408 2001 2042 1740 1825 1848 1719 3004 2179\n",
      " 1573 2205 1258 2339 1726 2258 1340 1504 2559 1668 1974 1980 1564 2547\n",
      " 2002 1669 1617  323 3175 2472 2174 1579 2129 1510 1735 2282 1870 1411\n",
      " 1911 1651 1092 1762 2457 2231 2238  653 1138 2246 2603 2392 1944 1380\n",
      " 2465 1421 3770 1594  213 2149 2824 1844 2467 2163 1816 1648 2206 2352\n",
      "  419 1539  880  810  974 4356 2489 1755 3683 2267 2080  155 3900 2201\n",
      " 2754]\n",
      "0       46560\n",
      "1902      304\n",
      "1977      253\n",
      "1887      233\n",
      "2415       72\n",
      "        ...  \n",
      "155         1\n",
      "1870        1\n",
      "2465        1\n",
      "1911        1\n",
      "2080        1\n",
      "Name: capital-loss, Length: 99, dtype: int64\n",
      "_________________________________________________________________\n",
      "hours-per-week : [40 50 30 32 10 39 35 48 25 20 45 47  6 43 90 54 60 38 36 18 24 44 56 28\n",
      " 16 41 22 55 14 33 37  8 12 70 15 75 52 84 42 80 68 99 65  5 17 72 53 29\n",
      " 96 21 46  3  1 23 49 67 76  7  2 58 26 34  4 51 78 63 31 92 77 27 85 13\n",
      " 19 98 62 66 57 11 86 59  9 64 73 61 88 79 89 74 69 87 97 94 82 91 81 95]\n",
      "40    22803\n",
      "50     4246\n",
      "45     2717\n",
      "60     2177\n",
      "35     1937\n",
      "      ...  \n",
      "79        1\n",
      "94        1\n",
      "87        1\n",
      "82        1\n",
      "69        1\n",
      "Name: hours-per-week, Length: 96, dtype: int64\n",
      "_________________________________________________________________\n",
      "fnlwgt : [226802  89814 336951 ... 129912 255835 257302]\n",
      "203488    21\n",
      "190290    19\n",
      "120277    19\n",
      "125892    18\n",
      "126569    18\n",
      "          ..\n",
      "82649      1\n",
      "193304     1\n",
      "227689     1\n",
      "135891     1\n",
      "250034     1\n",
      "Name: fnlwgt, Length: 28523, dtype: int64\n",
      "_________________________________________________________________\n"
     ]
    }
   ],
   "source": [
    "print(\"Quantitative Features: \", len(numericalList))\n",
    "print(numericalList)\n",
    "print(\"-----------------------------------\")\n",
    "\n",
    "for column in numericalList:\n",
    "\n",
    "        # Lists all coloumns and unique value in them\n",
    "        print(str(column) + ' : ' + str(df[column].unique()))\n",
    "\n",
    "        # Diplays count of each value of the column\n",
    "        print(df[column].value_counts())\n",
    "\n",
    "        print(\"_________________________________________________________________\")"
   ]
  },
  {
   "cell_type": "markdown",
   "metadata": {},
   "source": [
    "<h2 style=\"color: #2f80d0\">3. Data Visualization</h4>"
   ]
  },
  {
   "cell_type": "code",
   "execution_count": 17,
   "metadata": {},
   "outputs": [
    {
     "name": "stdout",
     "output_type": "stream",
     "text": [
      "                         \u001b[94m\u001b[1mCount Plot for Categorical Attributes\u001b[0m                         \n"
     ]
    },
    {
     "data": {
      "image/png": "[encoded data removed]",
      "text/plain": [
       "<Figure size 1008x288 with 3 Axes>"
      ]
     },
     "metadata": {
      "needs_background": "light"
     },
     "output_type": "display_data"
    },
    {
     "data": {
      "image/png": "[encoded data removed]",
      "text/plain": [
       "<Figure size 1008x288 with 3 Axes>"
      ]
     },
     "metadata": {
      "needs_background": "light"
     },
     "output_type": "display_data"
    },
    {
     "data": {
      "image/png": "[encoded data removed]",
      "text/plain": [
       "<Figure size 1008x288 with 3 Axes>"
      ]
     },
     "metadata": {
      "needs_background": "light"
     },
     "output_type": "display_data"
    }
   ],
   "source": [
    "#Count Plots (for categorical attributes)\n",
    "catPlotTxt = color.BLUE + color.BOLD + \"Count Plot for Categorical Attributes\" + color.END\n",
    "print(catPlotTxt.center(100))\n",
    "\n",
    "plt.rcParams[\"figure.figsize\"] = [14.00, 4.0]\n",
    "plt.rcParams[\"figure.autolayout\"] = True\n",
    "\n",
    "index = 0\n",
    "graphsInARow = 3\n",
    "\n",
    "for attr in categoricalList:\n",
    "    \n",
    "    if (index % graphsInARow == 0):\n",
    "        f, ax = plt.subplots(1, graphsInARow)\n",
    "        \n",
    "    sns.countplot(x=attr, data=df, ax = ax[index % graphsInARow])\n",
    "    index = index + 1\n",
    "    \n",
    "    if (index % graphsInARow == 0):\n",
    "        plt.show()"
   ]
  },
  {
   "cell_type": "code",
   "execution_count": 18,
   "metadata": {},
   "outputs": [
    {
     "name": "stdout",
     "output_type": "stream",
     "text": [
      "                       \u001b[94m\u001b[1mHistogram Plot for Continuous Attributes\u001b[0m                        \n"
     ]
    },
    {
     "data": {
      "image/png": "[encoded data removed]",
      "text/plain": [
       "<Figure size 1008x288 with 3 Axes>"
      ]
     },
     "metadata": {
      "needs_background": "light"
     },
     "output_type": "display_data"
    },
    {
     "data": {
      "image/png": "[encoded data removed]",
      "text/plain": [
       "<Figure size 1008x288 with 3 Axes>"
      ]
     },
     "metadata": {
      "needs_background": "light"
     },
     "output_type": "display_data"
    },
    {
     "data": {
      "image/png": "[encoded data removed]",
      "text/plain": [
       "<Figure size 1008x288 with 3 Axes>"
      ]
     },
     "metadata": {
      "needs_background": "light"
     },
     "output_type": "display_data"
    }
   ],
   "source": [
    "#Histogram Distribution (for Continuous Attributes)\n",
    "histPlotTxt = color.BLUE + color.BOLD + \"Histogram Plot for Continuous Attributes\" + color.END\n",
    "print(histPlotTxt.center(100))\n",
    "\n",
    "plt.rcParams[\"figure.figsize\"] = [14.00, 4.0]\n",
    "plt.rcParams[\"figure.autolayout\"] = True\n",
    "\n",
    "index = 0\n",
    "graphsInARow = 3\n",
    "\n",
    "for attr in numericalList:\n",
    "    if (index % graphsInARow == 0):\n",
    "        f, ax = plt.subplots(1, graphsInARow)\n",
    "    sns.histplot(data=df[attr], bins=10, kde=True, ax = ax[index % graphsInARow])\n",
    "    index = index + 1\n",
    "    if (index % graphsInARow == 0):\n",
    "        plt.show()"
   ]
  },
  {
   "cell_type": "markdown",
   "metadata": {},
   "source": [
    "<h4 style=\"color: #2f80d0\">3.1.a) Correlation Analysis</h4>"
   ]
  },
  {
   "cell_type": "code",
   "execution_count": 19,
   "metadata": {},
   "outputs": [
    {
     "name": "stdout",
     "output_type": "stream",
     "text": [
      "                                         \u001b[94m\u001b[1mCorrelation Using HeatMap\u001b[0m                                         \n"
     ]
    },
    {
     "data": {
      "text/plain": [
       "<AxesSubplot:>"
      ]
     },
     "execution_count": 19,
     "metadata": {},
     "output_type": "execute_result"
    },
    {
     "data": {
      "image/png": "[encoded data removed]",
      "text/plain": [
       "<Figure size 720x504 with 2 Axes>"
      ]
     },
     "metadata": {
      "needs_background": "light"
     },
     "output_type": "display_data"
    }
   ],
   "source": [
    "#Correlation of the features in the dataset\n",
    "corr = df.corr()\n",
    "\n",
    "corrTxt = color.BLUE + color.BOLD + \"Correlation Using HeatMap\" + color.END\n",
    "print(corrTxt.center(120))\n",
    "\n",
    "#Visualizing correlation using Heatmap\n",
    "plt.figure(figsize=(10,7))\n",
    "mask = np.triu(np.ones_like(corr))\n",
    "sns.heatmap(corr, mask=mask, annot = True, cmap='YlGnBu')\n",
    "#sns.heatmap(corr, annot=True, cmap='YlGnBu')"
   ]
  },
  {
   "cell_type": "markdown",
   "metadata": {},
   "source": [
    "<h4 style=\"color: #2f80d0\">3.1.a) Correlation Analysis</h4>"
   ]
  },
  {
   "cell_type": "code",
   "execution_count": 20,
   "metadata": {},
   "outputs": [],
   "source": [
    "#Dropping the column with higher correlation\n",
    "df.drop(['fnlwgt'], axis = 1, inplace = True)"
   ]
  },
  {
   "cell_type": "markdown",
   "metadata": {},
   "source": [
    "<div style=\"color: #2f80d0\"><b>Analysis:</b><br>Correlational Analysis have an effect on feature selection. Features with high correlation are more linearly dependent and hence have almost the same effect on the dependent variable. Here we find the correlation of 'fnlwgt' is -0.05, Hence, dropping the field.</div>"
   ]
  },
  {
   "cell_type": "markdown",
   "metadata": {},
   "source": [
    "<h2 style=\"color: #2f80d0\">4. Feature Engineering</h4>"
   ]
  },
  {
   "cell_type": "code",
   "execution_count": 22,
   "metadata": {},
   "outputs": [],
   "source": [
    "#Splitting the data set into features and outcome\n",
    "X = df.drop(['income'], axis=1)\n",
    "Y = df['income']"
   ]
  },
  {
   "cell_type": "code",
   "execution_count": 23,
   "metadata": {},
   "outputs": [],
   "source": [
    "#Splitting the data into test data and training data\n",
    "X_train, X_test, Y_train, Y_test = train_test_split(X, Y, test_size = 0.3, random_state = 0)"
   ]
  },
  {
   "cell_type": "code",
   "execution_count": 24,
   "metadata": {},
   "outputs": [],
   "source": [
    "for feature in categoricalList:\n",
    "        le = preprocessing.LabelEncoder()\n",
    "        X_train[feature] = le.fit_transform(X_train[feature])\n",
    "        X_test[feature] = le.transform(X_test[feature])"
   ]
  },
  {
   "cell_type": "markdown",
   "metadata": {},
   "source": [
    "<h4 style=\"color: #2f80d0\">4.a) Using Random Forest for Feature Engineering</h4>\n",
    "<p style=\"color: #2f80d0\">Random Forest classifier employs a random decision tree aproach that assigns scores to the attributes based on their importance. Hence we can use it to reduce the number of attributes, least imprtant attributes can be dropped.</p>"
   ]
  },
  {
   "cell_type": "code",
   "execution_count": 25,
   "metadata": {},
   "outputs": [
    {
     "data": {
      "text/plain": [
       "<AxesSubplot:xlabel='feature'>"
      ]
     },
     "execution_count": 25,
     "metadata": {},
     "output_type": "execute_result"
    },
    {
     "data": {
      "image/png": "[encoded data removed]",
      "text/plain": [
       "<Figure size 720x360 with 1 Axes>"
      ]
     },
     "metadata": {
      "needs_background": "light"
     },
     "output_type": "display_data"
    }
   ],
   "source": [
    "#Finding significance of each feature using Random Forest\n",
    "random_forest = RandomForestClassifier(n_estimators=100)\n",
    "random_forest.fit(X_train, Y_train)\n",
    "\n",
    "importances = pd.DataFrame({'feature':X_train.columns,'importance':np.round(random_forest.feature_importances_,3)})\n",
    "importances = importances.sort_values('importance',ascending=False).set_index('feature')\n",
    "\n",
    "#Plotting the significance of each feautre\n",
    "importances.plot.bar(figsize=(10,5))"
   ]
  },
  {
   "cell_type": "markdown",
   "metadata": {},
   "source": [
    "<div style=\"color: #2f80d0\"><b>Inference:</b><br> We can find that Gender, Age and Native-Country features are least importance and thus we can drop these columns to avoid overfitting.</div>"
   ]
  },
  {
   "cell_type": "code",
   "execution_count": 26,
   "metadata": {},
   "outputs": [],
   "source": [
    "#Dropping the columns with least significance\n",
    "df  = df.drop(\"gender\", axis=1)\n",
    "df  = df.drop(\"race\", axis=1)\n",
    "df  = df.drop(\"native-country\", axis=1)\n",
    "categoricalList.remove(\"gender\")\n",
    "categoricalList.remove(\"race\")\n",
    "categoricalList.remove(\"native-country\")"
   ]
  },
  {
   "cell_type": "markdown",
   "metadata": {},
   "source": [
    "<h4 style=\"color: #2f80d0\">4.a.1 Splitting the training and test sets </h4>"
   ]
  },
  {
   "cell_type": "markdown",
   "metadata": {},
   "source": [
    "<div style=\"color: #2f80d0\">We split the dataset into train and test sets while performing feature engineering.<br>As per the standards, we can go for a 80:20 split or a 70:30 split. A Split Ratio of 70:30 has been used due to the below reasons: <br>1.To build a reliable machine learning model, you need to split your dataset into the training and test sets. If not results will be biased, and will end up with a false impression of better model accuracy.<br>2. We have a relatively large dataset, making the model more complex. Hence a larger chunk of data should be kept in training set.<br>3. Also we are taking much lesser chunk for test data as with less testing data, the model performance statistic will have greater variance.</div> "
   ]
  },
  {
   "cell_type": "code",
   "execution_count": 27,
   "metadata": {},
   "outputs": [],
   "source": [
    "#Splitting the data set into features and outcome\n",
    "X = df.drop(['income'], axis=1)\n",
    "#Splitting the data into test data and training data\n",
    "X_train, X_test, Y_train, Y_test = train_test_split(X, Y, test_size = 0.3, random_state = 0)"
   ]
  },
  {
   "cell_type": "markdown",
   "metadata": {},
   "source": [
    "<h4 style=\"color: #2f80d0\">4.b) Applying Label Encoding, Normalization, Standardisation</h4>\n",
    "<p style=\"color: #2f80d0\">\n",
    "    <b>- Label Encoding:</b> Is used to converts each categorical value to a numeric value by assign them corresponding numbers for each category for preparing it for Machine Learning algorithm as ML algorithms cant process categorical/String data.<br>\n",
    "    <b>- Standardisation:</b> transforms all attributes into the same scale, hence ensuring regularization and other scale-sensitive operations work fine.<br>\n",
    "    <b>- Normalization:</b> as most of our attributes are having a skewed distribution, we apply Normalization to fit the attribute values between the range of 0 and 1, hence making the data scale free.\n",
    "</p>"
   ]
  },
  {
   "cell_type": "code",
   "execution_count": 28,
   "metadata": {},
   "outputs": [],
   "source": [
    "#Transform the non numerical data into numerical\n",
    "for feature in categoricalList:\n",
    "        le = preprocessing.LabelEncoder()\n",
    "        X_train[feature] = le.fit_transform(X_train[feature])\n",
    "        X_test[feature] = le.transform(X_test[feature])"
   ]
  },
  {
   "cell_type": "code",
   "execution_count": 29,
   "metadata": {},
   "outputs": [
    {
     "name": "stdout",
     "output_type": "stream",
     "text": [
      "\u001b[94m\u001b[1mStandardized or z-score Normalized Train Dataset:\n",
      "\u001b[0m\n"
     ]
    },
    {
     "data": {
      "text/html": [
       "<div>\n",
       "<style scoped>\n",
       "    .dataframe tbody tr th:only-of-type {\n",
       "        vertical-align: middle;\n",
       "    }\n",
       "\n",
       "    .dataframe tbody tr th {\n",
       "        vertical-align: top;\n",
       "    }\n",
       "\n",
       "    .dataframe thead th {\n",
       "        text-align: right;\n",
       "    }\n",
       "</style>\n",
       "<table border=\"1\" class=\"dataframe\">\n",
       "  <thead>\n",
       "    <tr style=\"text-align: right;\">\n",
       "      <th></th>\n",
       "      <th>age</th>\n",
       "      <th>workclass</th>\n",
       "      <th>education</th>\n",
       "      <th>educational-num</th>\n",
       "      <th>marital-status</th>\n",
       "      <th>occupation</th>\n",
       "      <th>relationship</th>\n",
       "      <th>capital-gain</th>\n",
       "      <th>capital-loss</th>\n",
       "      <th>hours-per-week</th>\n",
       "    </tr>\n",
       "  </thead>\n",
       "  <tbody>\n",
       "    <tr>\n",
       "      <th>0</th>\n",
       "      <td>-0.849978</td>\n",
       "      <td>-1.887643</td>\n",
       "      <td>1.212393</td>\n",
       "      <td>-0.027733</td>\n",
       "      <td>-0.406325</td>\n",
       "      <td>-1.554732</td>\n",
       "      <td>0.969833</td>\n",
       "      <td>-0.144199</td>\n",
       "      <td>-0.216492</td>\n",
       "      <td>-0.034027</td>\n",
       "    </tr>\n",
       "    <tr>\n",
       "      <th>1</th>\n",
       "      <td>0.241031</td>\n",
       "      <td>-0.094859</td>\n",
       "      <td>-2.650223</td>\n",
       "      <td>-1.587187</td>\n",
       "      <td>-0.406325</td>\n",
       "      <td>-1.049322</td>\n",
       "      <td>0.969833</td>\n",
       "      <td>-0.144199</td>\n",
       "      <td>-0.216492</td>\n",
       "      <td>0.207331</td>\n",
       "    </tr>\n",
       "  </tbody>\n",
       "</table>\n",
       "</div>"
      ],
      "text/plain": [
       "        age  workclass  education  educational-num  marital-status  \\\n",
       "0 -0.849978  -1.887643   1.212393        -0.027733       -0.406325   \n",
       "1  0.241031  -0.094859  -2.650223        -1.587187       -0.406325   \n",
       "\n",
       "   occupation  relationship  capital-gain  capital-loss  hours-per-week  \n",
       "0   -1.554732      0.969833     -0.144199     -0.216492       -0.034027  \n",
       "1   -1.049322      0.969833     -0.144199     -0.216492        0.207331  "
      ]
     },
     "execution_count": 29,
     "metadata": {},
     "output_type": "execute_result"
    }
   ],
   "source": [
    "#Using StandardScalar to normalise the dataset\n",
    "scaler = StandardScaler()\n",
    "X_train = pd.DataFrame(scaler.fit_transform(X_train), columns = X.columns)\n",
    "X_test = pd.DataFrame(scaler.transform(X_test), columns = X.columns)\n",
    "\n",
    "print(color.BLUE + color.BOLD + 'Standardized or z-score Normalized Train Dataset:\\n' + color.END)\n",
    "X_train.head(2)"
   ]
  },
  {
   "cell_type": "markdown",
   "metadata": {},
   "source": [
    "<h4 style=\"color: #2f80d0\">4.c) Applying PCA</h4>\n",
    "<p style=\"color: #2f80d0\">PCA is used to reduce the number of attributes by compressing the data and encapsulating the gist of it in the first few principle components, hence helping to reduce the number of columns in the data set.\n",
    "</p>"
   ]
  },
  {
   "cell_type": "code",
   "execution_count": 30,
   "metadata": {},
   "outputs": [
    {
     "name": "stdout",
     "output_type": "stream",
     "text": [
      "\u001b[94m\u001b[1mVariance attributed to each of the principal components:\u001b[0m\n",
      "[0.17637059 0.13181598 0.10438255 0.10268665 0.09877363 0.09275235\n",
      " 0.09165453 0.07843402 0.06305553 0.06007417]\n"
     ]
    }
   ],
   "source": [
    "#Dimensionality Reduction using PCA\n",
    "pca = PCA(.95)\n",
    "\n",
    "pca.fit(X_train)\n",
    "\n",
    "X_train_pca = pca.transform(X_train) #PCA transformation on Train Set\n",
    "X_test_pca = pca.transform(X_test) #PCA transformation on Test Set\n",
    "\n",
    "#How much information (variance) attributed to each of the principal components\n",
    "explained_variance = pca.explained_variance_ratio_\n",
    "\n",
    "print(color.BLUE + color.BOLD + 'Variance attributed to each of the principal components:' + color.END)\n",
    "print(explained_variance)"
   ]
  },
  {
   "cell_type": "markdown",
   "metadata": {},
   "source": [
    "<h4 style=\"color: #2f80d0\">4.d) Handling class Imbalance</h4>\n",
    "<p style=\"color: #2f80d0\">We saw earlier that our target variable suffers for class imbalance, hence applying SMOTE to address class imbalances. It works by balancing the class distribution of the target variable by randomly increasing the minority class examples by adding synthetic records following the same mathematical statistics.\n",
    "</p>"
   ]
  },
  {
   "cell_type": "code",
   "execution_count": 31,
   "metadata": {},
   "outputs": [
    {
     "name": "stdout",
     "output_type": "stream",
     "text": [
      "\u001b[94m\u001b[1mBefore Sampling:\u001b[0m\n",
      "Counter({0: 26017, 1: 8172})\n",
      "\u001b[94m\u001b[1mAfter Sampling:\u001b[0m\n",
      "Counter({0: 25380, 1: 25380})\n"
     ]
    }
   ],
   "source": [
    "#Handling the Dataset Imbalance Using Hybridization: SMOTE + Tomek Links\n",
    "counter = Counter(Y_train) #Before Sampling, count of Y_train\n",
    "print(color.BLUE + color.BOLD + 'Before Sampling:' + color.END)\n",
    "print(counter)\n",
    "\n",
    "#Oversampling the train dataset using SMOTE + Tomek\n",
    "smtom = SMOTETomek(random_state=0)  #To get better class clusters, Tomek links are applied to oversampled minority class samples done by SMOTE\n",
    "X_train_smtom, y_train_smtom = smtom.fit_resample(X_train_pca, Y_train) #Fit the resampled model\n",
    "\n",
    "counter = Counter(y_train_smtom) #After Sampling, Count of y_train_smtom\n",
    "print(color.BLUE + color.BOLD + 'After Sampling:' + color.END)\n",
    "print(counter)"
   ]
  },
  {
   "cell_type": "markdown",
   "metadata": {},
   "source": [
    "<h2 style=\"color: #2f80d0\">5. Building the Model</h4>"
   ]
  },
  {
   "cell_type": "markdown",
   "metadata": {},
   "source": [
    "<h4 style=\"color: #2f80d0\">5.1 Model Building using KNN </h4>"
   ]
  },
  {
   "cell_type": "code",
   "execution_count": 32,
   "metadata": {},
   "outputs": [
    {
     "name": "stdout",
     "output_type": "stream",
     "text": [
      "Accuracy of KNN model is 0.798744284446871\n"
     ]
    }
   ],
   "source": [
    "#Applying the K Nearest Neighbour (KNN) algorithm\n",
    "knn = KNeighborsClassifier(n_neighbors = 3)\n",
    "knn.fit(X_train_smtom, y_train_smtom) \n",
    "Y_pred_knn = knn.predict(X_test_pca)\n",
    "acc_knn = round(knn.score(X_train_smtom, y_train_smtom) * 100, 2)\n",
    "print(\"Accuracy of KNN model is\",metrics.accuracy_score(Y_test, Y_pred_knn))"
   ]
  },
  {
   "cell_type": "markdown",
   "metadata": {},
   "source": [
    "<h4 style=\"color: #2f80d0\">5.2 Model Building using SVM </h4>"
   ]
  },
  {
   "cell_type": "code",
   "execution_count": 33,
   "metadata": {},
   "outputs": [
    {
     "name": "stdout",
     "output_type": "stream",
     "text": [
      "Accuracy of SVM model is 0.7584112468436498\n"
     ]
    }
   ],
   "source": [
    "#Applying the Support Vector Machine (SVM) algorithm\n",
    "linear_svc = LinearSVC()\n",
    "linear_svc.fit(X_train_smtom, y_train_smtom)\n",
    "Y_pred_svc = linear_svc.predict(X_test_pca)\n",
    "acc_linear_svc = round(linear_svc.score(X_train_smtom, y_train_smtom) * 100, 2)\n",
    "print(\"Accuracy of SVM model is\",metrics.accuracy_score(Y_test, Y_pred_svc))"
   ]
  },
  {
   "cell_type": "markdown",
   "metadata": {},
   "source": [
    "<h2 style=\"color: #2f80d0\">6. Performance Evaluation</h2>"
   ]
  },
  {
   "cell_type": "markdown",
   "metadata": {},
   "source": [
    "<h4 style=\"color: #2f80d0\">6.1 Score comparison for KNN and SVM Models </h4>"
   ]
  },
  {
   "cell_type": "code",
   "execution_count": 34,
   "metadata": {},
   "outputs": [
    {
     "data": {
      "text/html": [
       "<div>\n",
       "<style scoped>\n",
       "    .dataframe tbody tr th:only-of-type {\n",
       "        vertical-align: middle;\n",
       "    }\n",
       "\n",
       "    .dataframe tbody tr th {\n",
       "        vertical-align: top;\n",
       "    }\n",
       "\n",
       "    .dataframe thead th {\n",
       "        text-align: right;\n",
       "    }\n",
       "</style>\n",
       "<table border=\"1\" class=\"dataframe\">\n",
       "  <thead>\n",
       "    <tr style=\"text-align: right;\">\n",
       "      <th></th>\n",
       "      <th>Model</th>\n",
       "    </tr>\n",
       "    <tr>\n",
       "      <th>Score</th>\n",
       "      <th></th>\n",
       "    </tr>\n",
       "  </thead>\n",
       "  <tbody>\n",
       "    <tr>\n",
       "      <th>93.17</th>\n",
       "      <td>KNN</td>\n",
       "    </tr>\n",
       "    <tr>\n",
       "      <th>76.78</th>\n",
       "      <td>Support Vector Machines</td>\n",
       "    </tr>\n",
       "  </tbody>\n",
       "</table>\n",
       "</div>"
      ],
      "text/plain": [
       "                         Model\n",
       "Score                         \n",
       "93.17                      KNN\n",
       "76.78  Support Vector Machines"
      ]
     },
     "execution_count": 34,
     "metadata": {},
     "output_type": "execute_result"
    }
   ],
   "source": [
    "#Plotting the accuracy of the used algorithms to find the best fit\n",
    "results = pd.DataFrame({\n",
    "    'Model': ['Support Vector Machines', 'KNN'],\n",
    "    'Score': [acc_linear_svc, acc_knn]})\n",
    "result_df = results.sort_values(by='Score', ascending=False)\n",
    "result_df = result_df.set_index('Score')\n",
    "result_df.head(2)"
   ]
  },
  {
   "cell_type": "markdown",
   "metadata": {},
   "source": [
    "<div style=\"color: #2f80d0\"><b>Inference:</b><br> We can find that KNN has higer accuracy score that SVM and thus can be chosen as the best fit model.</div> "
   ]
  },
  {
   "cell_type": "markdown",
   "metadata": {},
   "source": [
    "<h4 style=\"color: #2f80d0\">6.2 Identifying the best parameter for KNN model </h4>"
   ]
  },
  {
   "cell_type": "code",
   "execution_count": 35,
   "metadata": {},
   "outputs": [
    {
     "name": "stdout",
     "output_type": "stream",
     "text": [
      "Minimum error is 0.1872654064014195 at K = 4\n"
     ]
    },
    {
     "data": {
      "image/png": "[encoded data removed]",
      "text/plain": [
       "<Figure size 360x288 with 1 Axes>"
      ]
     },
     "metadata": {
      "needs_background": "light"
     },
     "output_type": "display_data"
    }
   ],
   "source": [
    "# Identify the K value with minimum error rate\n",
    "error_rate = []\n",
    "for i in range(1,11):\n",
    " knn = KNeighborsClassifier(n_neighbors=i)\n",
    " knn.fit(X_train_smtom, y_train_smtom)\n",
    " pred_i = knn.predict(X_test_pca)\n",
    " error_rate.append(np.mean(pred_i != Y_test))\n",
    "\n",
    "plt.figure(figsize=(5,4))\n",
    "plt.plot(range(1,11),error_rate,color='blue', linestyle='dashed', \n",
    "         marker='o',markerfacecolor='red', markersize=10)\n",
    "plt.title('Error Rate vs. K Value')\n",
    "plt.xlabel('K')\n",
    "plt.ylabel('Error Rate')\n",
    "print(\"Minimum error is\",min(error_rate),\"at K =\",error_rate.index(min(error_rate))+1)"
   ]
  },
  {
   "cell_type": "code",
   "execution_count": 36,
   "metadata": {},
   "outputs": [
    {
     "name": "stdout",
     "output_type": "stream",
     "text": [
      "Maximum accuracy is 0.8127345935985805 at K = 4\n"
     ]
    },
    {
     "data": {
      "image/png": "[encoded data removed]",
      "text/plain": [
       "<Figure size 360x288 with 1 Axes>"
      ]
     },
     "metadata": {
      "needs_background": "light"
     },
     "output_type": "display_data"
    }
   ],
   "source": [
    "# Identify the K value with maximum accuracy\n",
    "acc = []\n",
    "for i in range(1,11):\n",
    "    neigh = KNeighborsClassifier(n_neighbors = i).fit(X_train_smtom, y_train_smtom)\n",
    "    yhat = neigh.predict(X_test_pca)\n",
    "    acc.append(metrics.accuracy_score(Y_test, yhat))\n",
    "    \n",
    "plt.figure(figsize=(5,4))\n",
    "plt.plot(range(1,11),acc,color = 'blue',linestyle='dashed', \n",
    "         marker='o',markerfacecolor='red', markersize=10)\n",
    "plt.title('accuracy vs. K Value')\n",
    "plt.xlabel('K')\n",
    "plt.ylabel('Accuracy')\n",
    "print(\"Maximum accuracy is\",max(acc),\"at K =\",acc.index(max(acc))+1)"
   ]
  },
  {
   "cell_type": "code",
   "execution_count": 37,
   "metadata": {},
   "outputs": [
    {
     "name": "stdout",
     "output_type": "stream",
     "text": [
      "Accuracy of model at K=4 is 0.8127345935985805\n"
     ]
    }
   ],
   "source": [
    "#Applying the K Nearest Neighbour (KNN) algorithm\n",
    "knn = KNeighborsClassifier(n_neighbors = 4)\n",
    "knn.fit(X_train_smtom, y_train_smtom) \n",
    "Y_pred_knn = knn.predict(X_test_pca)\n",
    "acc_knn = round(knn.score(X_train_smtom, y_train_smtom) * 100, 2)\n",
    "print(\"Accuracy of model at K=4 is\",metrics.accuracy_score(Y_test, Y_pred_knn))"
   ]
  },
  {
   "cell_type": "markdown",
   "metadata": {},
   "source": [
    "<div style=\"color: #2f80d0\"><b>Analysis:</b><br> We indentified the best parameter as k = 4 and could get us improved accuracy of 81.27%, with least error rate of 0.18 in the KNN model.</div> "
   ]
  },
  {
   "cell_type": "markdown",
   "metadata": {},
   "source": [
    "<h4 style=\"color: #2f80d0\">6.3 Comparisons by Metrics and ROC curves </h4>"
   ]
  },
  {
   "cell_type": "code",
   "execution_count": 38,
   "metadata": {},
   "outputs": [
    {
     "name": "stdout",
     "output_type": "stream",
     "text": [
      "\u001b[94m\u001b[1mK Neighbours(KNN)\u001b[0m\n",
      "\u001b[1m\n",
      "Confusion Matrix:\u001b[0m\n",
      "          Predicted 0     1\n",
      "Actual 0         8996  2142\n",
      "1                 829  2686\n",
      "\u001b[1m\n",
      "Classification Report:\u001b[0m\n",
      "              precision    recall  f1-score   support\n",
      "\n",
      "           0       0.92      0.81      0.86     11138\n",
      "           1       0.56      0.76      0.64      3515\n",
      "\n",
      "    accuracy                           0.80     14653\n",
      "   macro avg       0.74      0.79      0.75     14653\n",
      "weighted avg       0.83      0.80      0.81     14653\n",
      "\n",
      "\u001b[94m\u001b[1mSupport Vector Machine(SVM)\u001b[0m\n",
      "\u001b[1m\n",
      "Confusion Matrix:\u001b[0m\n",
      "          Predicted 0     1\n",
      "Actual 0         8412  2726\n",
      "1                 814  2701\n",
      "\u001b[1m\n",
      "Classification Report:\u001b[0m\n",
      "              precision    recall  f1-score   support\n",
      "\n",
      "           0       0.91      0.76      0.83     11138\n",
      "           1       0.50      0.77      0.60      3515\n",
      "\n",
      "    accuracy                           0.76     14653\n",
      "   macro avg       0.70      0.76      0.72     14653\n",
      "weighted avg       0.81      0.76      0.77     14653\n",
      "\n"
     ]
    },
    {
     "data": {
      "image/png": "[encoded data removed]",
      "text/plain": [
       "<Figure size 504x504 with 1 Axes>"
      ]
     },
     "metadata": {
      "needs_background": "light"
     },
     "output_type": "display_data"
    },
    {
     "data": {
      "image/png": "[encoded data removed]",
      "text/plain": [
       "<Figure size 504x504 with 1 Axes>"
      ]
     },
     "metadata": {
      "needs_background": "light"
     },
     "output_type": "display_data"
    }
   ],
   "source": [
    "cv_dataFrames = []\n",
    "    \n",
    "# Prepare Machine Learning models – KNN and SVM\n",
    "models = []\n",
    "models.append(('K Neighbours(KNN)', KNeighborsClassifier())) \n",
    "models.append(('Support Vector Machine(SVM)', LinearSVC()))\n",
    "\n",
    "results = []\n",
    "mNames = [] #List for collecting model names\n",
    "\n",
    "#List of scoring metrics for comparison of models\n",
    "scoring = ['accuracy', 'precision_weighted', 'recall_weighted', 'f1_weighted', 'roc_auc'] \n",
    "\n",
    "targ_names = ['0', '1'] #List of target values\n",
    "\n",
    "for mName, model in models: #Looping through each of the models\n",
    "\n",
    "#Split the dataset into '5' folds and Each fold is used once as a validation while the '5 - 1' remaining folds form the training set\n",
    "#Shuffle is set to 'True' to shuffle the data before splitting into batches\n",
    "#Random_state affects the ordering of the indices, which controls the randomness of each fold\n",
    "    kfold = model_selection.KFold(n_splits=5, shuffle=True, random_state=90210) \n",
    "\n",
    "    #Evaluate metrics by cross-validation\n",
    "    cv_res = model_selection.cross_validate(model, X_train_smtom, y_train_smtom, cv=kfold, scoring=scoring)\n",
    "\n",
    "    #Fit the model and predict the label of test set\n",
    "    ml = model.fit(X_train_smtom, y_train_smtom) \n",
    "    y_pred = ml.predict(X_test_pca)\n",
    "\n",
    "    print(color.BLUE + color.BOLD + mName + color.END)\n",
    "\n",
    "    #Number of correct and incorrect predictions compared wih Actual class and Predicted class\n",
    "    cm = confusion_matrix(Y_test, y_pred)\n",
    "\n",
    "    TN = cm[0][0] #True Negative(Model predicted No and the Actual is also No, classifier is getting things right)\n",
    "    TP = cm[1][1] #True Positive(Model predicted Yes and the Actual is also Yes, classifier is getting things right)\n",
    "    FN = cm[1][0] #False Negative(Model predicted No and the Actual is Yes, classifier is getting things wrong i.e, mislabelling)\n",
    "    FP = cm[0][1] #False Positive(Model predicted Yes and the Actual is No, classifier is getting things wrong i.e, mislabelling)\n",
    "\n",
    "    print(color.BOLD + \"\\nConfusion Matrix:\" + color.END)\n",
    "\n",
    "    column_names = ['Predicted 0', '1']\n",
    "    row_names    = ['Actual 0', '1']\n",
    "\n",
    "    cm_df = pd.DataFrame(cm, columns=column_names, index=row_names)\n",
    "\n",
    "    print(cm_df)\n",
    "\n",
    "    #Report showing the main classification metrics with the target names 'Yes' and 'No'\n",
    "    print(color.BOLD + \"\\nClassification Report:\" + color.END)\n",
    "    print(classification_report(Y_test, y_pred, target_names=targ_names))\n",
    "\n",
    "    #Get False Positive Rates and True Postive rates for the Classifiers\n",
    "    #By roc_curve module by passing the test dataset and the predicted data through it\n",
    "    false_positive_rate1, true_positive_rate1, threshold1 = roc_curve(Y_test, y_pred)\n",
    "\n",
    "    #Ploting ROC Curves with False Positive Rate on X-axis and True Positive Rate on Y-axis\n",
    "    title = 'Receiver Operating Characteristic(ROC) - ' + mName\n",
    "    plt.subplots(1, figsize=(7,7))\n",
    "    plt.title(title)\n",
    "    plt.plot(false_positive_rate1, true_positive_rate1)\n",
    "    plt.plot([0, 1], ls=\"--\")\n",
    "    plt.plot([0, 0], [1, 0] , c=\".7\"), plt.plot([1, 1] , c=\".7\")\n",
    "    plt.ylabel('True Positive Rate')\n",
    "    plt.xlabel('False Positive Rate')\n",
    "\n",
    "    results.append(cv_res) #Appending the cross validation metrics\n",
    "    mNames.append(mName) #Appending each of the model names\n",
    "\n",
    "    dataFrame = pd.DataFrame(cv_res) #Create data frame of cross validation results\n",
    "    dataFrame['model'] = mName #Add the model name to dataframe\n",
    "    cv_dataFrames.append(dataFrame) #Append each of the data frames\n",
    "\n",
    "    result = pd.concat(cv_dataFrames, ignore_index=True) #Concatenate the the dataframes object ingnoring index"
   ]
  },
  {
   "cell_type": "markdown",
   "metadata": {},
   "source": [
    "<p style=\"color: #2f80d0\"><b>Inference</b>: We find the ROC curves are good as we are having closer to 80% True Positive Rates (TPR) and lesser False positive rates of around 20%, there is more area under the ROC Curve.</p>"
   ]
  },
  {
   "cell_type": "markdown",
   "metadata": {},
   "source": [
    "<h4 style=\"color: #2f80d0\">6.4 Preparing Box Plots for the Metrics of both the Models </h4>"
   ]
  },
  {
   "cell_type": "code",
   "execution_count": 39,
   "metadata": {},
   "outputs": [
    {
     "data": {
      "text/plain": [
       "<matplotlib.legend.Legend at 0x24f5c985ca0>"
      ]
     },
     "execution_count": 39,
     "metadata": {},
     "output_type": "execute_result"
    },
    {
     "data": {
      "image/png": "[encoded data removed]",
      "text/plain": [
       "<Figure size 720x504 with 1 Axes>"
      ]
     },
     "metadata": {
      "needs_background": "light"
     },
     "output_type": "display_data"
    }
   ],
   "source": [
    " mlValues = []\n",
    "\n",
    "#Iterating through result values and append the values of each models to mlValues[]\n",
    "for model in list(set(result.model.values)): \n",
    "    m_dataFrame = result.loc[result.model == model]\n",
    "    mlValue = m_dataFrame.sample(n=30, replace=True)\n",
    "    mlValues.append(mlValue)\n",
    "\n",
    "m_dataFrame = pd.concat(mlValues, ignore_index=True) #Concatenate the the dataframes object ingnoring index\n",
    "\n",
    "#Massage a DataFrame into a format where identifier variable is 'model', variable column 'metrics' and value column 'values'\n",
    "perf_results = pd.melt(m_dataFrame,id_vars=['model'],var_name='metrics', value_name='values')\n",
    "\n",
    "tym_metrics = ['fit_time','score_time'] # Fit time Metrics\n",
    "\n",
    "#Performance Metrics\n",
    "perf_results_nofit = perf_results.loc[~perf_results['metrics'].isin(tym_metrics)] # Get dataframe without fit data\n",
    "perf_results_nofit = perf_results_nofit.sort_values(by='values') #Sort the performance result on its values\n",
    "\n",
    "#Visualization of Comparison of KNN and SVM Model using BoxPlot\n",
    "plt.figure(figsize=(10, 7))\n",
    "plt.title('Comparison of Models by Classification Metric')\n",
    "sns.set(font_scale=1.0)\n",
    "g = sns.boxplot(x=\"model\", y=\"values\", hue=\"metrics\", data=perf_results_nofit, palette=\"Set3\")\n",
    "plt.legend(bbox_to_anchor=(1.05, 1), loc=2, borderaxespad=0.)"
   ]
  },
  {
   "cell_type": "markdown",
   "metadata": {},
   "source": [
    "<h4 style=\"color: #2f80d0\">6.5 Quick Look at Performance Metrics</h4>"
   ]
  },
  {
   "cell_type": "code",
   "execution_count": 40,
   "metadata": {},
   "outputs": [
    {
     "data": {
      "text/html": [
       "<div>\n",
       "<style scoped>\n",
       "    .dataframe tbody tr th:only-of-type {\n",
       "        vertical-align: middle;\n",
       "    }\n",
       "\n",
       "    .dataframe tbody tr th {\n",
       "        vertical-align: top;\n",
       "    }\n",
       "\n",
       "    .dataframe thead tr th {\n",
       "        text-align: left;\n",
       "    }\n",
       "\n",
       "    .dataframe thead tr:last-of-type th {\n",
       "        text-align: right;\n",
       "    }\n",
       "</style>\n",
       "<table border=\"1\" class=\"dataframe\">\n",
       "  <thead>\n",
       "    <tr>\n",
       "      <th></th>\n",
       "      <th colspan=\"2\" halign=\"left\">test_precision_weighted</th>\n",
       "      <th colspan=\"2\" halign=\"left\">test_recall_weighted</th>\n",
       "      <th colspan=\"2\" halign=\"left\">test_accuracy</th>\n",
       "      <th colspan=\"2\" halign=\"left\">test_f1_weighted</th>\n",
       "      <th colspan=\"2\" halign=\"left\">test_roc_auc</th>\n",
       "    </tr>\n",
       "    <tr>\n",
       "      <th></th>\n",
       "      <th>std</th>\n",
       "      <th>mean</th>\n",
       "      <th>std</th>\n",
       "      <th>mean</th>\n",
       "      <th>std</th>\n",
       "      <th>mean</th>\n",
       "      <th>std</th>\n",
       "      <th>mean</th>\n",
       "      <th>std</th>\n",
       "      <th>mean</th>\n",
       "    </tr>\n",
       "    <tr>\n",
       "      <th>model</th>\n",
       "      <th></th>\n",
       "      <th></th>\n",
       "      <th></th>\n",
       "      <th></th>\n",
       "      <th></th>\n",
       "      <th></th>\n",
       "      <th></th>\n",
       "      <th></th>\n",
       "      <th></th>\n",
       "      <th></th>\n",
       "    </tr>\n",
       "  </thead>\n",
       "  <tbody>\n",
       "    <tr>\n",
       "      <th>K Neighbours(KNN)</th>\n",
       "      <td>0.002583</td>\n",
       "      <td>0.863105</td>\n",
       "      <td>0.003006</td>\n",
       "      <td>0.860070</td>\n",
       "      <td>0.003006</td>\n",
       "      <td>0.860070</td>\n",
       "      <td>0.003056</td>\n",
       "      <td>0.859776</td>\n",
       "      <td>0.002791</td>\n",
       "      <td>0.926994</td>\n",
       "    </tr>\n",
       "    <tr>\n",
       "      <th>Support Vector Machine(SVM)</th>\n",
       "      <td>0.006178</td>\n",
       "      <td>0.769671</td>\n",
       "      <td>0.006145</td>\n",
       "      <td>0.769592</td>\n",
       "      <td>0.006145</td>\n",
       "      <td>0.769592</td>\n",
       "      <td>0.006138</td>\n",
       "      <td>0.769576</td>\n",
       "      <td>0.004622</td>\n",
       "      <td>0.855192</td>\n",
       "    </tr>\n",
       "  </tbody>\n",
       "</table>\n",
       "</div>"
      ],
      "text/plain": [
       "                            test_precision_weighted            \\\n",
       "                                                std      mean   \n",
       "model                                                           \n",
       "K Neighbours(KNN)                          0.002583  0.863105   \n",
       "Support Vector Machine(SVM)                0.006178  0.769671   \n",
       "\n",
       "                            test_recall_weighted           test_accuracy  \\\n",
       "                                             std      mean           std   \n",
       "model                                                                      \n",
       "K Neighbours(KNN)                       0.003006  0.860070      0.003006   \n",
       "Support Vector Machine(SVM)             0.006145  0.769592      0.006145   \n",
       "\n",
       "                                      test_f1_weighted           test_roc_auc  \\\n",
       "                                 mean              std      mean          std   \n",
       "model                                                                           \n",
       "K Neighbours(KNN)            0.860070         0.003056  0.859776     0.002791   \n",
       "Support Vector Machine(SVM)  0.769592         0.006138  0.769576     0.004622   \n",
       "\n",
       "                                       \n",
       "                                 mean  \n",
       "model                                  \n",
       "K Neighbours(KNN)            0.926994  \n",
       "Support Vector Machine(SVM)  0.855192  "
      ]
     },
     "execution_count": 40,
     "metadata": {},
     "output_type": "execute_result"
    }
   ],
   "source": [
    "#Comparison of Performance metrics\n",
    "metricValues = list(set(perf_results_nofit.metrics.values))\n",
    "m_dataFrame.groupby(['model'])[metricValues].agg([np.std, np.mean]) #aggregate metric values with standard deviation and mean"
   ]
  },
  {
   "cell_type": "markdown",
   "metadata": {},
   "source": [
    "<h4 style=\"color: #2f80d0\">6.6 Identifying underfitting/overfitting/just right model</h4>"
   ]
  },
  {
   "cell_type": "code",
   "execution_count": 41,
   "metadata": {},
   "outputs": [
    {
     "name": "stdout",
     "output_type": "stream",
     "text": [
      ">1, train: 0.962, test: 0.806\n",
      ">2, train: 0.899, test: 0.824\n",
      ">3, train: 0.902, test: 0.824\n",
      ">4, train: 0.885, test: 0.833\n",
      ">5, train: 0.882, test: 0.834\n",
      ">6, train: 0.875, test: 0.837\n",
      ">7, train: 0.875, test: 0.834\n",
      ">8, train: 0.872, test: 0.838\n",
      ">9, train: 0.871, test: 0.839\n",
      ">10, train: 0.868, test: 0.838\n"
     ]
    }
   ],
   "source": [
    "# define lists to collect scores\n",
    "train_scores, test_scores = list(), list()\n",
    "# define the tree depths to evaluate\n",
    "values = [i for i in range(1, 11)]\n",
    "# evaluate a decision tree for each depth\n",
    "for i in values:\n",
    "    # configure the model\n",
    "    model = KNeighborsClassifier(n_neighbors=i)\n",
    "    # fit model on the training dataset\n",
    "    model.fit(X_train, Y_train)\n",
    "    # evaluate on the train dataset\n",
    "    train_yhat = model.predict(X_train)\n",
    "    train_acc = accuracy_score(Y_train, train_yhat)\n",
    "    train_scores.append(train_acc)\n",
    "    # evaluate on the test dataset\n",
    "    test_yhat = model.predict(X_test)\n",
    "    test_acc = accuracy_score(Y_test, test_yhat)\n",
    "    test_scores.append(test_acc)\n",
    "    # summarize progress\n",
    "    print('>%d, train: %.3f, test: %.3f' % (i, train_acc, test_acc))"
   ]
  },
  {
   "cell_type": "markdown",
   "metadata": {},
   "source": [
    "<div style=\"color: #2f80d0\"><b>Inference:</b><br>KNN model is run on the train and test sets for each number of neighbors and we prepared the reports of their accuracy scores. Following are our findings:<br>1. We see that accuracy of the training dataset starts at perfect accuracy score and falls with almost every increase in the number of neighbors.<br>2. We also see that performance of the model on the holdout test improves to a value of about two neighbors, holds the level and then begins to follow a downward trend after that.</div> "
   ]
  },
  {
   "cell_type": "markdown",
   "metadata": {},
   "source": [
    "<h4 style=\"color: #2f80d0\">6.6 Plotting the scores against number of neighbors</h4>"
   ]
  },
  {
   "cell_type": "code",
   "execution_count": 43,
   "metadata": {},
   "outputs": [
    {
     "data": {
      "image/png": "[encoded data removed]",
      "text/plain": [
       "<Figure size 720x360 with 1 Axes>"
      ]
     },
     "metadata": {},
     "output_type": "display_data"
    }
   ],
   "source": [
    "# plot of train and test scores vs number of neighbors\n",
    "plt.figure(figsize=(10, 5))\n",
    "plt.plot(values, train_scores, '-o', label='Train')\n",
    "plt.plot(values, test_scores, '-o', label='Test')\n",
    "plt.ylabel('Accuracy')\n",
    "plt.xlabel('K - value')\n",
    "plt.title('Model Accuracy on Train and Test sets')\n",
    "plt.xticks(np.arange(min(values),max(values)+1,1))\n",
    "plt.legend()\n",
    "plt.show()"
   ]
  },
  {
   "cell_type": "markdown",
   "metadata": {},
   "source": [
    "<div style=\"color: #2f80d0\"><b>Inference:</b><br> The figure above shows the line plots of the model accuracy on the train and test data sets with different number of neighbors.<br>From the plot, we see that the line plot for the training set is dropping to converge with the line for the test set.<br><br><b>Therefore, our model is just right model and doesnot suffer from Underfitting or Over fitting.</b></div> "
   ]
  }
 ],
 "metadata": {
  "kernelspec": {
   "display_name": "Python 3",
   "language": "python",
   "name": "python3"
  },
  "language_info": {
   "codemirror_mode": {
    "name": "ipython",
    "version": 3
   },
   "file_extension": ".py",
   "mimetype": "text/x-python",
   "name": "python",
   "nbconvert_exporter": "python",
   "pygments_lexer": "ipython3",
   "version": "3.8.3"
  }
 },
 "nbformat": 4,
 "nbformat_minor": 5
}
